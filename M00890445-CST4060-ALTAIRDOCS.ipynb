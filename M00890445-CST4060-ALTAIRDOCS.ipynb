{
 "cells": [
  {
   "cell_type": "code",
   "execution_count": 1,
   "id": "02295891-0529-412d-871f-09963167c85c",
   "metadata": {},
   "outputs": [
    {
     "data": {
      "text/plain": [
       "DataTransformerRegistry.enable('data_server')"
      ]
     },
     "execution_count": 1,
     "metadata": {},
     "output_type": "execute_result"
    }
   ],
   "source": [
    "import pandas as pd\n",
    "import altair as alt\n",
    "alt.data_transformers.enable('data_server')\n"
   ]
  },
  {
   "cell_type": "markdown",
   "id": "3580a60e-ac2a-4e27-a3cd-334fb8fa21dd",
   "metadata": {},
   "source": [
    "**summary of data**"
   ]
  },
  {
   "cell_type": "code",
   "execution_count": 2,
   "id": "80d34111-5f1d-4d85-9007-69c574f96d29",
   "metadata": {},
   "outputs": [
    {
     "name": "stdout",
     "output_type": "stream",
     "text": [
      "<class 'pandas.core.frame.DataFrame'>\n",
      "RangeIndex: 136824 entries, 0 to 136823\n",
      "Data columns (total 5 columns):\n",
      " #   Column       Non-Null Count   Dtype  \n",
      "---  ------       --------------   -----  \n",
      " 0   id           136824 non-null  int64  \n",
      " 1   value        136824 non-null  float64\n",
      " 2   location     136824 non-null  object \n",
      " 3   sample date  136824 non-null  object \n",
      " 4   measure      136824 non-null  object \n",
      "dtypes: float64(1), int64(1), object(3)\n",
      "memory usage: 5.2+ MB\n"
     ]
    }
   ],
   "source": [
    "data= pd.read_csv('C:/Users/LENOVO/Documents/datasets.csv')\n",
    "data.info()"
   ]
  },
  {
   "cell_type": "code",
   "execution_count": 37,
   "id": "2caf1008-ecf5-4155-a2c4-bd802a28d7b8",
   "metadata": {},
   "outputs": [
    {
     "data": {
      "text/plain": [
       "Boonsri       31314\n",
       "Chai          31245\n",
       "Kannika       22152\n",
       "Sakda         21429\n",
       "Kohsoom        7895\n",
       "Somchair       7537\n",
       "Busarakhan     7492\n",
       "Achara         2855\n",
       "Decha          2731\n",
       "Tansanee       2174\n",
       "Name: location, dtype: int64"
      ]
     },
     "execution_count": 37,
     "metadata": {},
     "output_type": "execute_result"
    }
   ],
   "source": [
    "data.location.value_counts()"
   ]
  },
  {
   "cell_type": "code",
   "execution_count": 38,
   "id": "b9028d48-9a2c-44f4-981a-19237be61ea4",
   "metadata": {},
   "outputs": [
    {
     "data": {
      "text/html": [
       "<div>\n",
       "<style scoped>\n",
       "    .dataframe tbody tr th:only-of-type {\n",
       "        vertical-align: middle;\n",
       "    }\n",
       "\n",
       "    .dataframe tbody tr th {\n",
       "        vertical-align: top;\n",
       "    }\n",
       "\n",
       "    .dataframe thead th {\n",
       "        text-align: right;\n",
       "    }\n",
       "</style>\n",
       "<table border=\"1\" class=\"dataframe\">\n",
       "  <thead>\n",
       "    <tr style=\"text-align: right;\">\n",
       "      <th></th>\n",
       "      <th>id</th>\n",
       "      <th>value</th>\n",
       "      <th>location</th>\n",
       "      <th>sample date</th>\n",
       "      <th>measure</th>\n",
       "    </tr>\n",
       "  </thead>\n",
       "  <tbody>\n",
       "    <tr>\n",
       "      <th>0</th>\n",
       "      <td>2221</td>\n",
       "      <td>2.00</td>\n",
       "      <td>Boonsri</td>\n",
       "      <td>1998-01-11</td>\n",
       "      <td>Water temperature</td>\n",
       "    </tr>\n",
       "    <tr>\n",
       "      <th>1</th>\n",
       "      <td>2223</td>\n",
       "      <td>9.10</td>\n",
       "      <td>Boonsri</td>\n",
       "      <td>1998-01-11</td>\n",
       "      <td>Dissolved oxygen</td>\n",
       "    </tr>\n",
       "    <tr>\n",
       "      <th>2</th>\n",
       "      <td>2227</td>\n",
       "      <td>0.33</td>\n",
       "      <td>Boonsri</td>\n",
       "      <td>1998-01-11</td>\n",
       "      <td>Ammonium</td>\n",
       "    </tr>\n",
       "    <tr>\n",
       "      <th>3</th>\n",
       "      <td>2228</td>\n",
       "      <td>0.01</td>\n",
       "      <td>Boonsri</td>\n",
       "      <td>1998-01-11</td>\n",
       "      <td>Nitrites</td>\n",
       "    </tr>\n",
       "    <tr>\n",
       "      <th>4</th>\n",
       "      <td>2229</td>\n",
       "      <td>1.47</td>\n",
       "      <td>Boonsri</td>\n",
       "      <td>1998-01-11</td>\n",
       "      <td>Nitrates</td>\n",
       "    </tr>\n",
       "    <tr>\n",
       "      <th>...</th>\n",
       "      <td>...</td>\n",
       "      <td>...</td>\n",
       "      <td>...</td>\n",
       "      <td>...</td>\n",
       "      <td>...</td>\n",
       "    </tr>\n",
       "    <tr>\n",
       "      <th>136819</th>\n",
       "      <td>3295800</td>\n",
       "      <td>5.20</td>\n",
       "      <td>Chai</td>\n",
       "      <td>2016-12-27</td>\n",
       "      <td>Water temperature</td>\n",
       "    </tr>\n",
       "    <tr>\n",
       "      <th>136820</th>\n",
       "      <td>3295802</td>\n",
       "      <td>5.20</td>\n",
       "      <td>Chai</td>\n",
       "      <td>2016-12-28</td>\n",
       "      <td>Water temperature</td>\n",
       "    </tr>\n",
       "    <tr>\n",
       "      <th>136821</th>\n",
       "      <td>3295804</td>\n",
       "      <td>5.00</td>\n",
       "      <td>Chai</td>\n",
       "      <td>2016-12-29</td>\n",
       "      <td>Water temperature</td>\n",
       "    </tr>\n",
       "    <tr>\n",
       "      <th>136822</th>\n",
       "      <td>3295806</td>\n",
       "      <td>4.60</td>\n",
       "      <td>Chai</td>\n",
       "      <td>2016-12-30</td>\n",
       "      <td>Water temperature</td>\n",
       "    </tr>\n",
       "    <tr>\n",
       "      <th>136823</th>\n",
       "      <td>3295808</td>\n",
       "      <td>4.00</td>\n",
       "      <td>Chai</td>\n",
       "      <td>2016-12-31</td>\n",
       "      <td>Water temperature</td>\n",
       "    </tr>\n",
       "  </tbody>\n",
       "</table>\n",
       "<p>136824 rows × 5 columns</p>\n",
       "</div>"
      ],
      "text/plain": [
       "             id  value location sample date            measure\n",
       "0          2221   2.00  Boonsri  1998-01-11  Water temperature\n",
       "1          2223   9.10  Boonsri  1998-01-11   Dissolved oxygen\n",
       "2          2227   0.33  Boonsri  1998-01-11           Ammonium\n",
       "3          2228   0.01  Boonsri  1998-01-11           Nitrites\n",
       "4          2229   1.47  Boonsri  1998-01-11           Nitrates\n",
       "...         ...    ...      ...         ...                ...\n",
       "136819  3295800   5.20     Chai  2016-12-27  Water temperature\n",
       "136820  3295802   5.20     Chai  2016-12-28  Water temperature\n",
       "136821  3295804   5.00     Chai  2016-12-29  Water temperature\n",
       "136822  3295806   4.60     Chai  2016-12-30  Water temperature\n",
       "136823  3295808   4.00     Chai  2016-12-31  Water temperature\n",
       "\n",
       "[136824 rows x 5 columns]"
      ]
     },
     "execution_count": 38,
     "metadata": {},
     "output_type": "execute_result"
    }
   ],
   "source": [
    "data"
   ]
  },
  {
   "cell_type": "code",
   "execution_count": 39,
   "id": "db6636ea-8c2e-4125-9d61-83341ece0a21",
   "metadata": {},
   "outputs": [],
   "source": [
    "from altair import datum\n"
   ]
  },
  {
   "cell_type": "markdown",
   "id": "2a995d26-212b-4dd7-9ac2-3dcb2fe7f75d",
   "metadata": {},
   "source": [
    "**Save for later"
   ]
  },
  {
   "cell_type": "code",
   "execution_count": 40,
   "id": "61481d74-a337-4e55-a765-74cc80060d08",
   "metadata": {
    "scrolled": true,
    "tags": []
   },
   "outputs": [],
   "source": [
    "data[\"sample date\"] = pd.to_datetime(data[\"sample date\"]).dt.strftime(\"%Y-%m-%d\")"
   ]
  },
  {
   "cell_type": "markdown",
   "id": "f9c3e311-32e6-4649-ae7b-176a4dd1c078",
   "metadata": {},
   "source": [
    "## **1. To find Missing data**"
   ]
  },
  {
   "cell_type": "code",
   "execution_count": 41,
   "id": "b659ea1b-e0bc-4b0f-ac40-a06bdc4f88f5",
   "metadata": {},
   "outputs": [
    {
     "data": {
      "text/html": [
       "\n",
       "<div id=\"altair-viz-e35cfb1e527c4e23b7b9415143d4ba12\"></div>\n",
       "<script type=\"text/javascript\">\n",
       "  var VEGA_DEBUG = (typeof VEGA_DEBUG == \"undefined\") ? {} : VEGA_DEBUG;\n",
       "  (function(spec, embedOpt){\n",
       "    let outputDiv = document.currentScript.previousElementSibling;\n",
       "    if (outputDiv.id !== \"altair-viz-e35cfb1e527c4e23b7b9415143d4ba12\") {\n",
       "      outputDiv = document.getElementById(\"altair-viz-e35cfb1e527c4e23b7b9415143d4ba12\");\n",
       "    }\n",
       "    const paths = {\n",
       "      \"vega\": \"https://cdn.jsdelivr.net/npm//vega@5?noext\",\n",
       "      \"vega-lib\": \"https://cdn.jsdelivr.net/npm//vega-lib?noext\",\n",
       "      \"vega-lite\": \"https://cdn.jsdelivr.net/npm//vega-lite@4.17.0?noext\",\n",
       "      \"vega-embed\": \"https://cdn.jsdelivr.net/npm//vega-embed@6?noext\",\n",
       "    };\n",
       "\n",
       "    function maybeLoadScript(lib, version) {\n",
       "      var key = `${lib.replace(\"-\", \"\")}_version`;\n",
       "      return (VEGA_DEBUG[key] == version) ?\n",
       "        Promise.resolve(paths[lib]) :\n",
       "        new Promise(function(resolve, reject) {\n",
       "          var s = document.createElement('script');\n",
       "          document.getElementsByTagName(\"head\")[0].appendChild(s);\n",
       "          s.async = true;\n",
       "          s.onload = () => {\n",
       "            VEGA_DEBUG[key] = version;\n",
       "            return resolve(paths[lib]);\n",
       "          };\n",
       "          s.onerror = () => reject(`Error loading script: ${paths[lib]}`);\n",
       "          s.src = paths[lib];\n",
       "        });\n",
       "    }\n",
       "\n",
       "    function showError(err) {\n",
       "      outputDiv.innerHTML = `<div class=\"error\" style=\"color:red;\">${err}</div>`;\n",
       "      throw err;\n",
       "    }\n",
       "\n",
       "    function displayChart(vegaEmbed) {\n",
       "      vegaEmbed(outputDiv, spec, embedOpt)\n",
       "        .catch(err => showError(`Javascript Error: ${err.message}<br>This usually means there's a typo in your chart specification. See the javascript console for the full traceback.`));\n",
       "    }\n",
       "\n",
       "    if(typeof define === \"function\" && define.amd) {\n",
       "      requirejs.config({paths});\n",
       "      require([\"vega-embed\"], displayChart, err => showError(`Error loading script: ${err.message}`));\n",
       "    } else {\n",
       "      maybeLoadScript(\"vega\", \"5\")\n",
       "        .then(() => maybeLoadScript(\"vega-lite\", \"4.17.0\"))\n",
       "        .then(() => maybeLoadScript(\"vega-embed\", \"6\"))\n",
       "        .catch(showError)\n",
       "        .then(() => displayChart(vegaEmbed));\n",
       "    }\n",
       "  })({\"config\": {\"view\": {\"continuousWidth\": 400, \"continuousHeight\": 300}}, \"data\": {\"url\": \"http://localhost:60911/21f7e60835ec7c3a2416c8b2681b4054.json\"}, \"mark\": \"bar\", \"encoding\": {\"color\": {\"field\": \"measure\", \"type\": \"nominal\"}, \"tooltip\": [{\"field\": \"measure\", \"type\": \"nominal\"}, {\"field\": \"sample date\", \"type\": \"nominal\"}, {\"field\": \"location\", \"type\": \"nominal\"}], \"x\": {\"field\": \"sample date\", \"type\": \"ordinal\"}, \"y\": {\"field\": \"measure\", \"type\": \"nominal\"}}, \"height\": 600, \"width\": 600, \"$schema\": \"https://vega.github.io/schema/vega-lite/v4.17.0.json\"}, {\"mode\": \"vega-lite\"});\n",
       "</script>"
      ],
      "text/plain": [
       "alt.Chart(...)"
      ]
     },
     "execution_count": 41,
     "metadata": {},
     "output_type": "execute_result"
    }
   ],
   "source": [
    "view= alt.Chart(data).mark_bar().encode(x= 'sample date:O',y='measure:N',color='measure',tooltip=['measure','sample date','location'])\n",
    "view= view.properties(width=600, height=600)\n",
    "view"
   ]
  },
  {
   "cell_type": "markdown",
   "id": "0eed07b4-c767-4127-a8ec-30a9e500b3fc",
   "metadata": {},
   "source": [
    "To note down the measures which have majority of missing data, shrinked the plot to 600*600.\n",
    "\n",
    "\n"
   ]
  },
  {
   "cell_type": "markdown",
   "id": "038ba960-12f6-441b-a559-8668f35098e8",
   "metadata": {},
   "source": [
    "***Noted down measures with majority of missing data as a whole***"
   ]
  },
  {
   "cell_type": "code",
   "execution_count": 42,
   "id": "68192889-5023-4dde-8d56-588cbaf5451b",
   "metadata": {},
   "outputs": [],
   "source": [
    "missing_data= ['alpha-Hexachlorocyclohexane','beta-Hexaxchlorocyclohexane','p,p-DDD','p,p-DDE','Trifluralin','Total extractable matter','Tetrachloromethane','Sulfides','Simazine','Selenium','Pyrene','Phenanthrene','Pentachlorobenzene','PCB 52','PCB 28','PCB 180','PCB 153','PCB 101','PCB 118','PAHs','Organic nitrogen','Naphthalene','Metolachlor','Methoxychlor','Inorganic nitrogen','Indeno(1,2,3-c,d)pyrene','Hexachlorobenzene','Heptachloroepoxide','Heptachlor','Fluorene','Fluoranthene','Endosulfan (alpha)','Endosulfan (beta)','Dissolved organic carbon','Dieldrin','Cyanides','Chrysene','Carbonates','Cesium','Boron','Berilium','Benzo(k)fluoranthene','Benzo(b)fluoranthene','Benzo(a)pyrene','Benzo(a)anthracene','Barium','Anthracene','Aluminium','Aldrin','Alachlor','Acenaphthylene','Acenaphthene','1,2,4-Trichlorobenzene','1,2,3-Trichlorobenzene','Berilium']\n"
   ]
  },
  {
   "cell_type": "code",
   "execution_count": 43,
   "id": "eb4aaf4a-ddde-4325-84b4-6358dec446e2",
   "metadata": {},
   "outputs": [
    {
     "data": {
      "text/html": [
       "\n",
       "<div id=\"altair-viz-d87e98483cc14652a17ec3ed42fc9cc9\"></div>\n",
       "<script type=\"text/javascript\">\n",
       "  var VEGA_DEBUG = (typeof VEGA_DEBUG == \"undefined\") ? {} : VEGA_DEBUG;\n",
       "  (function(spec, embedOpt){\n",
       "    let outputDiv = document.currentScript.previousElementSibling;\n",
       "    if (outputDiv.id !== \"altair-viz-d87e98483cc14652a17ec3ed42fc9cc9\") {\n",
       "      outputDiv = document.getElementById(\"altair-viz-d87e98483cc14652a17ec3ed42fc9cc9\");\n",
       "    }\n",
       "    const paths = {\n",
       "      \"vega\": \"https://cdn.jsdelivr.net/npm//vega@5?noext\",\n",
       "      \"vega-lib\": \"https://cdn.jsdelivr.net/npm//vega-lib?noext\",\n",
       "      \"vega-lite\": \"https://cdn.jsdelivr.net/npm//vega-lite@4.17.0?noext\",\n",
       "      \"vega-embed\": \"https://cdn.jsdelivr.net/npm//vega-embed@6?noext\",\n",
       "    };\n",
       "\n",
       "    function maybeLoadScript(lib, version) {\n",
       "      var key = `${lib.replace(\"-\", \"\")}_version`;\n",
       "      return (VEGA_DEBUG[key] == version) ?\n",
       "        Promise.resolve(paths[lib]) :\n",
       "        new Promise(function(resolve, reject) {\n",
       "          var s = document.createElement('script');\n",
       "          document.getElementsByTagName(\"head\")[0].appendChild(s);\n",
       "          s.async = true;\n",
       "          s.onload = () => {\n",
       "            VEGA_DEBUG[key] = version;\n",
       "            return resolve(paths[lib]);\n",
       "          };\n",
       "          s.onerror = () => reject(`Error loading script: ${paths[lib]}`);\n",
       "          s.src = paths[lib];\n",
       "        });\n",
       "    }\n",
       "\n",
       "    function showError(err) {\n",
       "      outputDiv.innerHTML = `<div class=\"error\" style=\"color:red;\">${err}</div>`;\n",
       "      throw err;\n",
       "    }\n",
       "\n",
       "    function displayChart(vegaEmbed) {\n",
       "      vegaEmbed(outputDiv, spec, embedOpt)\n",
       "        .catch(err => showError(`Javascript Error: ${err.message}<br>This usually means there's a typo in your chart specification. See the javascript console for the full traceback.`));\n",
       "    }\n",
       "\n",
       "    if(typeof define === \"function\" && define.amd) {\n",
       "      requirejs.config({paths});\n",
       "      require([\"vega-embed\"], displayChart, err => showError(`Error loading script: ${err.message}`));\n",
       "    } else {\n",
       "      maybeLoadScript(\"vega\", \"5\")\n",
       "        .then(() => maybeLoadScript(\"vega-lite\", \"4.17.0\"))\n",
       "        .then(() => maybeLoadScript(\"vega-embed\", \"6\"))\n",
       "        .catch(showError)\n",
       "        .then(() => displayChart(vegaEmbed));\n",
       "    }\n",
       "  })({\"config\": {\"view\": {\"continuousWidth\": 400, \"continuousHeight\": 300}}, \"data\": {\"url\": \"http://localhost:60911/21f7e60835ec7c3a2416c8b2681b4054.json\"}, \"mark\": \"bar\", \"encoding\": {\"color\": {\"field\": \"measure\", \"type\": \"nominal\"}, \"tooltip\": [{\"field\": \"measure\", \"type\": \"nominal\"}, {\"field\": \"sample date\", \"type\": \"ordinal\"}], \"x\": {\"field\": \"sample date\", \"type\": \"ordinal\"}, \"y\": {\"field\": \"measure\", \"type\": \"nominal\"}}, \"height\": 300, \"title\": \"Measures having majority of readings missing\", \"transform\": [{\"filter\": {\"field\": \"measure\", \"oneOf\": [\"alpha-Hexachlorocyclohexane\", \"beta-Hexaxchlorocyclohexane\", \"p,p-DDD\", \"p,p-DDE\", \"Trifluralin\", \"Total extractable matter\", \"Tetrachloromethane\", \"Sulfides\", \"Simazine\", \"Selenium\", \"Pyrene\", \"Phenanthrene\", \"Pentachlorobenzene\", \"PCB 52\", \"PCB 28\", \"PCB 180\", \"PCB 153\", \"PCB 101\", \"PCB 118\", \"PAHs\", \"Organic nitrogen\", \"Naphthalene\", \"Metolachlor\", \"Methoxychlor\", \"Inorganic nitrogen\", \"Indeno(1,2,3-c,d)pyrene\", \"Hexachlorobenzene\", \"Heptachloroepoxide\", \"Heptachlor\", \"Fluorene\", \"Fluoranthene\", \"Endosulfan (alpha)\", \"Endosulfan (beta)\", \"Dissolved organic carbon\", \"Dieldrin\", \"Cyanides\", \"Chrysene\", \"Carbonates\", \"Cesium\", \"Boron\", \"Berilium\", \"Benzo(k)fluoranthene\", \"Benzo(b)fluoranthene\", \"Benzo(a)pyrene\", \"Benzo(a)anthracene\", \"Barium\", \"Anthracene\", \"Aluminium\", \"Aldrin\", \"Alachlor\", \"Acenaphthylene\", \"Acenaphthene\", \"1,2,4-Trichlorobenzene\", \"1,2,3-Trichlorobenzene\", \"Berilium\"]}}], \"width\": 300, \"$schema\": \"https://vega.github.io/schema/vega-lite/v4.17.0.json\"}, {\"mode\": \"vega-lite\"});\n",
       "</script>"
      ],
      "text/plain": [
       "alt.Chart(...)"
      ]
     },
     "execution_count": 43,
     "metadata": {},
     "output_type": "execute_result"
    }
   ],
   "source": [
    "missing_plot1=alt.Chart(data).mark_bar().encode(x='sample date:O',y='measure:N',color='measure:N',tooltip=['measure','sample date:O']).transform_filter(alt.FieldOneOfPredicate(field='measure', oneOf= missing_data)).properties(width=300, height=300,title='Measures having majority of readings missing')\n",
    "missing_plot1"
   ]
  },
  {
   "cell_type": "markdown",
   "id": "75c7504b-61c5-473d-a38c-02b922ecd9bb",
   "metadata": {},
   "source": [
    "***Filtered the measures to measures having least available data***"
   ]
  },
  {
   "cell_type": "code",
   "execution_count": 51,
   "id": "f4a4506d-d238-4103-8859-88d227fd0e6a",
   "metadata": {},
   "outputs": [
    {
     "data": {
      "text/html": [
       "\n",
       "<div id=\"altair-viz-49ceb0f70e1d4175ae884129b1824bbc\"></div>\n",
       "<script type=\"text/javascript\">\n",
       "  var VEGA_DEBUG = (typeof VEGA_DEBUG == \"undefined\") ? {} : VEGA_DEBUG;\n",
       "  (function(spec, embedOpt){\n",
       "    let outputDiv = document.currentScript.previousElementSibling;\n",
       "    if (outputDiv.id !== \"altair-viz-49ceb0f70e1d4175ae884129b1824bbc\") {\n",
       "      outputDiv = document.getElementById(\"altair-viz-49ceb0f70e1d4175ae884129b1824bbc\");\n",
       "    }\n",
       "    const paths = {\n",
       "      \"vega\": \"https://cdn.jsdelivr.net/npm//vega@5?noext\",\n",
       "      \"vega-lib\": \"https://cdn.jsdelivr.net/npm//vega-lib?noext\",\n",
       "      \"vega-lite\": \"https://cdn.jsdelivr.net/npm//vega-lite@4.17.0?noext\",\n",
       "      \"vega-embed\": \"https://cdn.jsdelivr.net/npm//vega-embed@6?noext\",\n",
       "    };\n",
       "\n",
       "    function maybeLoadScript(lib, version) {\n",
       "      var key = `${lib.replace(\"-\", \"\")}_version`;\n",
       "      return (VEGA_DEBUG[key] == version) ?\n",
       "        Promise.resolve(paths[lib]) :\n",
       "        new Promise(function(resolve, reject) {\n",
       "          var s = document.createElement('script');\n",
       "          document.getElementsByTagName(\"head\")[0].appendChild(s);\n",
       "          s.async = true;\n",
       "          s.onload = () => {\n",
       "            VEGA_DEBUG[key] = version;\n",
       "            return resolve(paths[lib]);\n",
       "          };\n",
       "          s.onerror = () => reject(`Error loading script: ${paths[lib]}`);\n",
       "          s.src = paths[lib];\n",
       "        });\n",
       "    }\n",
       "\n",
       "    function showError(err) {\n",
       "      outputDiv.innerHTML = `<div class=\"error\" style=\"color:red;\">${err}</div>`;\n",
       "      throw err;\n",
       "    }\n",
       "\n",
       "    function displayChart(vegaEmbed) {\n",
       "      vegaEmbed(outputDiv, spec, embedOpt)\n",
       "        .catch(err => showError(`Javascript Error: ${err.message}<br>This usually means there's a typo in your chart specification. See the javascript console for the full traceback.`));\n",
       "    }\n",
       "\n",
       "    if(typeof define === \"function\" && define.amd) {\n",
       "      requirejs.config({paths});\n",
       "      require([\"vega-embed\"], displayChart, err => showError(`Error loading script: ${err.message}`));\n",
       "    } else {\n",
       "      maybeLoadScript(\"vega\", \"5\")\n",
       "        .then(() => maybeLoadScript(\"vega-lite\", \"4.17.0\"))\n",
       "        .then(() => maybeLoadScript(\"vega-embed\", \"6\"))\n",
       "        .catch(showError)\n",
       "        .then(() => displayChart(vegaEmbed));\n",
       "    }\n",
       "  })({\"config\": {\"view\": {\"continuousWidth\": 400, \"continuousHeight\": 300}}, \"data\": {\"url\": \"http://localhost:60911/21f7e60835ec7c3a2416c8b2681b4054.json\"}, \"mark\": \"bar\", \"encoding\": {\"color\": {\"field\": \"measure\", \"type\": \"nominal\"}, \"tooltip\": [{\"field\": \"measure\", \"type\": \"nominal\"}, {\"field\": \"sample date\", \"type\": \"ordinal\"}], \"x\": {\"field\": \"sample date\", \"type\": \"ordinal\"}, \"y\": {\"field\": \"measure\", \"sort\": \"x\", \"type\": \"nominal\"}}, \"height\": 300, \"title\": \"Measures having least availabe data\", \"transform\": [{\"filter\": {\"field\": \"measure\", \"oneOf\": [\"PCB 118\", \"Naphthalene\", \"Selenium\", \"Phenanthrene\", \"Anthracene\", \"Chrysene\", \"Cesium\", \"Berilium\", \"Benzo(a)anthracene\", \"Boron\", \"Indeno(1,2,3-c,d)pyrene\", \"Hexachlorobenzene\", \"Methoxychlor\", \"Acenaphthylene\", \"Acenaphthene\", \"1,2,3-Trichlorobenzene\", \"1,2,4-Trichlorobenzene\", \"Pentachlorobenzene\", \"Pyrene\", \"PCB 52\", \"PCB 28\", \"Boron\", \"Total dissolved phosphorus\", \"Isodrin\", \"Trifluralin\", \"PAHs\", \"Methoxychlor\", \"Fluorene\", \"Dissolved organic carbon\", \"Boron\"]}}], \"width\": 200, \"$schema\": \"https://vega.github.io/schema/vega-lite/v4.17.0.json\"}, {\"mode\": \"vega-lite\"});\n",
       "</script>"
      ],
      "text/plain": [
       "alt.Chart(...)"
      ]
     },
     "execution_count": 51,
     "metadata": {},
     "output_type": "execute_result"
    }
   ],
   "source": [
    "new_missing_data= ['PCB 118','Naphthalene','Selenium','Phenanthrene','Anthracene','Chrysene','Cesium','Berilium','Benzo(a)anthracene','Boron','Indeno(1,2,3-c,d)pyrene','Hexachlorobenzene','Methoxychlor','Acenaphthylene','Acenaphthene','1,2,3-Trichlorobenzene','1,2,4-Trichlorobenzene','Pentachlorobenzene','Pyrene','PCB 52','PCB 28','Boron','Total dissolved phosphorus','Isodrin','Trifluralin','PAHs','Methoxychlor','Fluorene','Dissolved organic carbon','Boron']\n",
    "\n",
    "\n",
    "missing_plot=alt.Chart(data).mark_bar().encode(alt.Y('measure:N',sort='x'), x='sample date:O',color='measure:N',tooltip=['measure','sample date:O']).transform_filter(alt.FieldOneOfPredicate(field='measure', oneOf= new_missing_data)).properties(width=200,height=300,title='Measures having least availabe data')\n",
    "missing_plot\n",
    "\n"
   ]
  },
  {
   "cell_type": "code",
   "execution_count": 45,
   "id": "95fc461e-1bee-4762-9326-c2880595ffc6",
   "metadata": {},
   "outputs": [
    {
     "data": {
      "text/html": [
       "\n",
       "<div id=\"altair-viz-f6c79fe97cb94d64b44f1a6da613cc46\"></div>\n",
       "<script type=\"text/javascript\">\n",
       "  var VEGA_DEBUG = (typeof VEGA_DEBUG == \"undefined\") ? {} : VEGA_DEBUG;\n",
       "  (function(spec, embedOpt){\n",
       "    let outputDiv = document.currentScript.previousElementSibling;\n",
       "    if (outputDiv.id !== \"altair-viz-f6c79fe97cb94d64b44f1a6da613cc46\") {\n",
       "      outputDiv = document.getElementById(\"altair-viz-f6c79fe97cb94d64b44f1a6da613cc46\");\n",
       "    }\n",
       "    const paths = {\n",
       "      \"vega\": \"https://cdn.jsdelivr.net/npm//vega@5?noext\",\n",
       "      \"vega-lib\": \"https://cdn.jsdelivr.net/npm//vega-lib?noext\",\n",
       "      \"vega-lite\": \"https://cdn.jsdelivr.net/npm//vega-lite@4.17.0?noext\",\n",
       "      \"vega-embed\": \"https://cdn.jsdelivr.net/npm//vega-embed@6?noext\",\n",
       "    };\n",
       "\n",
       "    function maybeLoadScript(lib, version) {\n",
       "      var key = `${lib.replace(\"-\", \"\")}_version`;\n",
       "      return (VEGA_DEBUG[key] == version) ?\n",
       "        Promise.resolve(paths[lib]) :\n",
       "        new Promise(function(resolve, reject) {\n",
       "          var s = document.createElement('script');\n",
       "          document.getElementsByTagName(\"head\")[0].appendChild(s);\n",
       "          s.async = true;\n",
       "          s.onload = () => {\n",
       "            VEGA_DEBUG[key] = version;\n",
       "            return resolve(paths[lib]);\n",
       "          };\n",
       "          s.onerror = () => reject(`Error loading script: ${paths[lib]}`);\n",
       "          s.src = paths[lib];\n",
       "        });\n",
       "    }\n",
       "\n",
       "    function showError(err) {\n",
       "      outputDiv.innerHTML = `<div class=\"error\" style=\"color:red;\">${err}</div>`;\n",
       "      throw err;\n",
       "    }\n",
       "\n",
       "    function displayChart(vegaEmbed) {\n",
       "      vegaEmbed(outputDiv, spec, embedOpt)\n",
       "        .catch(err => showError(`Javascript Error: ${err.message}<br>This usually means there's a typo in your chart specification. See the javascript console for the full traceback.`));\n",
       "    }\n",
       "\n",
       "    if(typeof define === \"function\" && define.amd) {\n",
       "      requirejs.config({paths});\n",
       "      require([\"vega-embed\"], displayChart, err => showError(`Error loading script: ${err.message}`));\n",
       "    } else {\n",
       "      maybeLoadScript(\"vega\", \"5\")\n",
       "        .then(() => maybeLoadScript(\"vega-lite\", \"4.17.0\"))\n",
       "        .then(() => maybeLoadScript(\"vega-embed\", \"6\"))\n",
       "        .catch(showError)\n",
       "        .then(() => displayChart(vegaEmbed));\n",
       "    }\n",
       "  })({\"config\": {\"view\": {\"continuousWidth\": 400, \"continuousHeight\": 300}}, \"data\": {\"url\": \"http://localhost:60911/0a7053effc8fb940cfb67d8173ca1d94.json\"}, \"mark\": \"bar\", \"encoding\": {\"color\": {\"field\": \"measure\", \"type\": \"nominal\"}, \"tooltip\": [{\"field\": \"measure\", \"type\": \"nominal\"}, {\"field\": \"sample date\", \"type\": \"ordinal\"}], \"x\": {\"field\": \"sample date\", \"title\": \"Year\", \"type\": \"ordinal\"}, \"y\": {\"field\": \"measure\", \"sort\": \"x\", \"type\": \"nominal\"}}, \"height\": 300, \"title\": \"Measures having least availabe data\", \"transform\": [{\"filter\": {\"field\": \"measure\", \"oneOf\": [\"PCB 118\", \"Selenium\", \"Phenanthrene\", \"Anthracene\", \"Chrysene\", \"Cesium\", \"Berilium\", \"Benzo(a)anthracene\", \"Boron\", \"Indeno(1,2,3-c,d)pyrene\", \"Hexachlorobenzene\", \"Methoxychlor\", \"Acenaphthylene\", \"Acenaphthene\", \"1,2,3-Trichlorobenzene\", \"1,2,4-Trichlorobenzene\", \"Pentachlorobenzene\", \"Pyrene\", \"PCB 52\", \"PCB 28\", \"Boron\", \"Total dissolved phosphorus\", \"Isodrin\", \"Trifluralin\", \"PAHs\", \"Methoxychlor\", \"Indeno(1,2,3-c,d)pyrene\", \"Fluorene\", \"Dissolved organic carbon\", \"Boron\"]}}], \"width\": 200, \"$schema\": \"https://vega.github.io/schema/vega-lite/v4.17.0.json\"}, {\"mode\": \"vega-lite\"});\n",
       "</script>"
      ],
      "text/plain": [
       "alt.Chart(...)"
      ]
     },
     "execution_count": 45,
     "metadata": {},
     "output_type": "execute_result"
    }
   ],
   "source": [
    "data[\"sample date\"] = pd.to_datetime(data[\"sample date\"]).dt.strftime(\"%Y\")\n",
    "new_missing_data= ['PCB 118','Selenium','Phenanthrene','Anthracene','Chrysene','Cesium','Berilium','Benzo(a)anthracene','Boron','Indeno(1,2,3-c,d)pyrene','Hexachlorobenzene','Methoxychlor','Acenaphthylene','Acenaphthene','1,2,3-Trichlorobenzene','1,2,4-Trichlorobenzene','Pentachlorobenzene','Pyrene','PCB 52','PCB 28','Boron','Total dissolved phosphorus','Isodrin','Trifluralin','PAHs','Methoxychlor','Indeno(1,2,3-c,d)pyrene','Fluorene','Dissolved organic carbon','Boron']\n",
    "\n",
    "# To clearly understand the collection frequency by year\n",
    "\n",
    "missing_plot_test=alt.Chart(data).mark_bar().encode(alt.Y('measure:N',sort='x'),alt.X('sample date:O',title='Year'),color='measure:N',tooltip=['measure','sample date:O']).transform_filter(alt.FieldOneOfPredicate(field='measure', oneOf= new_missing_data)).properties(width=200,height=300,title='Measures having least availabe data')\n",
    "missing_plot_test\n",
    "\n"
   ]
  },
  {
   "cell_type": "code",
   "execution_count": 50,
   "id": "79948626-7e43-495d-8d11-2557b2568322",
   "metadata": {},
   "outputs": [],
   "source": [
    "data= pd.read_csv('C:/Users/LENOVO/Documents/datasets.csv')\n",
    "data[\"sample date\"] = pd.to_datetime(data[\"sample date\"]).dt.strftime(\"%Y-%m-%d\")\n",
    "\n",
    "\n",
    "missing_plot=alt.Chart(data).mark_bar().encode(alt.Y('measure:N',sort='x'), x='sample date:O',color='measure:N',tooltip=['measure','sample date:O']).transform_filter(alt.FieldOneOfPredicate(field='measure', oneOf= new_missing_data)).properties(width=200,height=300,title='Measures having least availabe data')\n",
    "missing_plot\n"
   ]
  },
  {
   "cell_type": "markdown",
   "id": "46bae4f8-6140-4b5a-a90f-d1e3fdc03a26",
   "metadata": {},
   "source": [
    "[So,we have to discard the measures included in the second plot(least available data) to move forward as they contain least information]"
   ]
  },
  {
   "cell_type": "markdown",
   "id": "b7a5daa6-6c3c-4c75-a3b9-390e6cdceac5",
   "metadata": {},
   "source": [
    "***Comparing data provided by each location for the chemicals having least available data***"
   ]
  },
  {
   "cell_type": "code",
   "execution_count": 53,
   "id": "37b47945-131d-46cc-89ba-af08cc7e7f39",
   "metadata": {},
   "outputs": [
    {
     "data": {
      "text/html": [
       "\n",
       "<div id=\"altair-viz-cfcdd02923244727a83a1dfa567d2682\"></div>\n",
       "<script type=\"text/javascript\">\n",
       "  var VEGA_DEBUG = (typeof VEGA_DEBUG == \"undefined\") ? {} : VEGA_DEBUG;\n",
       "  (function(spec, embedOpt){\n",
       "    let outputDiv = document.currentScript.previousElementSibling;\n",
       "    if (outputDiv.id !== \"altair-viz-cfcdd02923244727a83a1dfa567d2682\") {\n",
       "      outputDiv = document.getElementById(\"altair-viz-cfcdd02923244727a83a1dfa567d2682\");\n",
       "    }\n",
       "    const paths = {\n",
       "      \"vega\": \"https://cdn.jsdelivr.net/npm//vega@5?noext\",\n",
       "      \"vega-lib\": \"https://cdn.jsdelivr.net/npm//vega-lib?noext\",\n",
       "      \"vega-lite\": \"https://cdn.jsdelivr.net/npm//vega-lite@4.17.0?noext\",\n",
       "      \"vega-embed\": \"https://cdn.jsdelivr.net/npm//vega-embed@6?noext\",\n",
       "    };\n",
       "\n",
       "    function maybeLoadScript(lib, version) {\n",
       "      var key = `${lib.replace(\"-\", \"\")}_version`;\n",
       "      return (VEGA_DEBUG[key] == version) ?\n",
       "        Promise.resolve(paths[lib]) :\n",
       "        new Promise(function(resolve, reject) {\n",
       "          var s = document.createElement('script');\n",
       "          document.getElementsByTagName(\"head\")[0].appendChild(s);\n",
       "          s.async = true;\n",
       "          s.onload = () => {\n",
       "            VEGA_DEBUG[key] = version;\n",
       "            return resolve(paths[lib]);\n",
       "          };\n",
       "          s.onerror = () => reject(`Error loading script: ${paths[lib]}`);\n",
       "          s.src = paths[lib];\n",
       "        });\n",
       "    }\n",
       "\n",
       "    function showError(err) {\n",
       "      outputDiv.innerHTML = `<div class=\"error\" style=\"color:red;\">${err}</div>`;\n",
       "      throw err;\n",
       "    }\n",
       "\n",
       "    function displayChart(vegaEmbed) {\n",
       "      vegaEmbed(outputDiv, spec, embedOpt)\n",
       "        .catch(err => showError(`Javascript Error: ${err.message}<br>This usually means there's a typo in your chart specification. See the javascript console for the full traceback.`));\n",
       "    }\n",
       "\n",
       "    if(typeof define === \"function\" && define.amd) {\n",
       "      requirejs.config({paths});\n",
       "      require([\"vega-embed\"], displayChart, err => showError(`Error loading script: ${err.message}`));\n",
       "    } else {\n",
       "      maybeLoadScript(\"vega\", \"5\")\n",
       "        .then(() => maybeLoadScript(\"vega-lite\", \"4.17.0\"))\n",
       "        .then(() => maybeLoadScript(\"vega-embed\", \"6\"))\n",
       "        .catch(showError)\n",
       "        .then(() => displayChart(vegaEmbed));\n",
       "    }\n",
       "  })({\"config\": {\"view\": {\"continuousWidth\": 400, \"continuousHeight\": 300}}, \"hconcat\": [{\"mark\": \"bar\", \"encoding\": {\"color\": {\"field\": \"measure\", \"type\": \"nominal\"}, \"tooltip\": [{\"field\": \"measure\", \"type\": \"nominal\"}, {\"field\": \"sample date\", \"type\": \"ordinal\"}], \"x\": {\"field\": \"sample date\", \"type\": \"ordinal\"}, \"y\": {\"field\": \"measure\", \"sort\": \"x\", \"type\": \"nominal\"}}, \"height\": 350, \"title\": \"Boonsri\", \"transform\": [{\"filter\": {\"field\": \"measure\", \"oneOf\": [\"PCB 118\", \"Naphthalene\", \"Selenium\", \"Phenanthrene\", \"Anthracene\", \"Chrysene\", \"Cesium\", \"Berilium\", \"Benzo(a)anthracene\", \"Boron\", \"Indeno(1,2,3-c,d)pyrene\", \"Hexachlorobenzene\", \"Methoxychlor\", \"Acenaphthylene\", \"Acenaphthene\", \"1,2,3-Trichlorobenzene\", \"1,2,4-Trichlorobenzene\", \"Pentachlorobenzene\", \"Pyrene\", \"PCB 52\", \"PCB 28\", \"Boron\", \"Total dissolved phosphorus\", \"Isodrin\", \"Trifluralin\", \"PAHs\", \"Methoxychlor\", \"Fluorene\", \"Dissolved organic carbon\", \"Boron\"]}}, {\"filter\": \"(datum.location === 'Boonsri')\"}], \"width\": 300}, {\"mark\": \"bar\", \"encoding\": {\"color\": {\"field\": \"measure\", \"type\": \"nominal\"}, \"tooltip\": [{\"field\": \"measure\", \"type\": \"nominal\"}, {\"field\": \"sample date\", \"type\": \"ordinal\"}], \"x\": {\"field\": \"sample date\", \"type\": \"ordinal\"}, \"y\": {\"field\": \"measure\", \"sort\": \"x\", \"type\": \"nominal\"}}, \"height\": 350, \"title\": \"Chai\", \"transform\": [{\"filter\": {\"field\": \"measure\", \"oneOf\": [\"PCB 118\", \"Naphthalene\", \"Selenium\", \"Phenanthrene\", \"Anthracene\", \"Chrysene\", \"Cesium\", \"Berilium\", \"Benzo(a)anthracene\", \"Boron\", \"Indeno(1,2,3-c,d)pyrene\", \"Hexachlorobenzene\", \"Methoxychlor\", \"Acenaphthylene\", \"Acenaphthene\", \"1,2,3-Trichlorobenzene\", \"1,2,4-Trichlorobenzene\", \"Pentachlorobenzene\", \"Pyrene\", \"PCB 52\", \"PCB 28\", \"Boron\", \"Total dissolved phosphorus\", \"Isodrin\", \"Trifluralin\", \"PAHs\", \"Methoxychlor\", \"Fluorene\", \"Dissolved organic carbon\", \"Boron\"]}}, {\"filter\": \"(datum.location === 'Chai')\"}], \"width\": 300}, {\"mark\": \"bar\", \"encoding\": {\"color\": {\"field\": \"measure\", \"type\": \"nominal\"}, \"tooltip\": [{\"field\": \"measure\", \"type\": \"nominal\"}, {\"field\": \"sample date\", \"type\": \"ordinal\"}], \"x\": {\"field\": \"sample date\", \"type\": \"ordinal\"}, \"y\": {\"field\": \"measure\", \"sort\": \"x\", \"type\": \"nominal\"}}, \"height\": 350, \"title\": \"Kannika\", \"transform\": [{\"filter\": {\"field\": \"measure\", \"oneOf\": [\"PCB 118\", \"Naphthalene\", \"Selenium\", \"Phenanthrene\", \"Anthracene\", \"Chrysene\", \"Cesium\", \"Berilium\", \"Benzo(a)anthracene\", \"Boron\", \"Indeno(1,2,3-c,d)pyrene\", \"Hexachlorobenzene\", \"Methoxychlor\", \"Acenaphthylene\", \"Acenaphthene\", \"1,2,3-Trichlorobenzene\", \"1,2,4-Trichlorobenzene\", \"Pentachlorobenzene\", \"Pyrene\", \"PCB 52\", \"PCB 28\", \"Boron\", \"Total dissolved phosphorus\", \"Isodrin\", \"Trifluralin\", \"PAHs\", \"Methoxychlor\", \"Fluorene\", \"Dissolved organic carbon\", \"Boron\"]}}, {\"filter\": \"(datum.location === 'Kannika')\"}], \"width\": 300}, {\"mark\": \"bar\", \"encoding\": {\"color\": {\"field\": \"measure\", \"type\": \"nominal\"}, \"tooltip\": [{\"field\": \"measure\", \"type\": \"nominal\"}, {\"field\": \"sample date\", \"type\": \"ordinal\"}], \"x\": {\"field\": \"sample date\", \"type\": \"ordinal\"}, \"y\": {\"field\": \"measure\", \"sort\": \"x\", \"type\": \"nominal\"}}, \"height\": 350, \"title\": \"Sakda\", \"transform\": [{\"filter\": {\"field\": \"measure\", \"oneOf\": [\"PCB 118\", \"Naphthalene\", \"Selenium\", \"Phenanthrene\", \"Anthracene\", \"Chrysene\", \"Cesium\", \"Berilium\", \"Benzo(a)anthracene\", \"Boron\", \"Indeno(1,2,3-c,d)pyrene\", \"Hexachlorobenzene\", \"Methoxychlor\", \"Acenaphthylene\", \"Acenaphthene\", \"1,2,3-Trichlorobenzene\", \"1,2,4-Trichlorobenzene\", \"Pentachlorobenzene\", \"Pyrene\", \"PCB 52\", \"PCB 28\", \"Boron\", \"Total dissolved phosphorus\", \"Isodrin\", \"Trifluralin\", \"PAHs\", \"Methoxychlor\", \"Fluorene\", \"Dissolved organic carbon\", \"Boron\"]}}, {\"filter\": \"(datum.location === 'Sakda')\"}], \"width\": 300}, {\"mark\": \"bar\", \"encoding\": {\"color\": {\"field\": \"measure\", \"type\": \"nominal\"}, \"tooltip\": [{\"field\": \"measure\", \"type\": \"nominal\"}, {\"field\": \"sample date\", \"type\": \"ordinal\"}], \"x\": {\"field\": \"sample date\", \"type\": \"ordinal\"}, \"y\": {\"field\": \"measure\", \"sort\": \"x\", \"type\": \"nominal\"}}, \"height\": 350, \"title\": \"Kohsoom\", \"transform\": [{\"filter\": {\"field\": \"measure\", \"oneOf\": [\"PCB 118\", \"Naphthalene\", \"Selenium\", \"Phenanthrene\", \"Anthracene\", \"Chrysene\", \"Cesium\", \"Berilium\", \"Benzo(a)anthracene\", \"Boron\", \"Indeno(1,2,3-c,d)pyrene\", \"Hexachlorobenzene\", \"Methoxychlor\", \"Acenaphthylene\", \"Acenaphthene\", \"1,2,3-Trichlorobenzene\", \"1,2,4-Trichlorobenzene\", \"Pentachlorobenzene\", \"Pyrene\", \"PCB 52\", \"PCB 28\", \"Boron\", \"Total dissolved phosphorus\", \"Isodrin\", \"Trifluralin\", \"PAHs\", \"Methoxychlor\", \"Fluorene\", \"Dissolved organic carbon\", \"Boron\"]}}, {\"filter\": \"(datum.location === 'Kohsoom')\"}], \"width\": 300}, {\"mark\": \"bar\", \"encoding\": {\"color\": {\"field\": \"measure\", \"type\": \"nominal\"}, \"tooltip\": [{\"field\": \"measure\", \"type\": \"nominal\"}, {\"field\": \"sample date\", \"type\": \"ordinal\"}], \"x\": {\"field\": \"sample date\", \"type\": \"ordinal\"}, \"y\": {\"field\": \"measure\", \"sort\": \"x\", \"type\": \"nominal\"}}, \"height\": 350, \"title\": \"Somchair\", \"transform\": [{\"filter\": {\"field\": \"measure\", \"oneOf\": [\"PCB 118\", \"Naphthalene\", \"Selenium\", \"Phenanthrene\", \"Anthracene\", \"Chrysene\", \"Cesium\", \"Berilium\", \"Benzo(a)anthracene\", \"Boron\", \"Indeno(1,2,3-c,d)pyrene\", \"Hexachlorobenzene\", \"Methoxychlor\", \"Acenaphthylene\", \"Acenaphthene\", \"1,2,3-Trichlorobenzene\", \"1,2,4-Trichlorobenzene\", \"Pentachlorobenzene\", \"Pyrene\", \"PCB 52\", \"PCB 28\", \"Boron\", \"Total dissolved phosphorus\", \"Isodrin\", \"Trifluralin\", \"PAHs\", \"Methoxychlor\", \"Fluorene\", \"Dissolved organic carbon\", \"Boron\"]}}, {\"filter\": \"(datum.location === 'Somchair')\"}], \"width\": 300}, {\"mark\": \"bar\", \"encoding\": {\"color\": {\"field\": \"measure\", \"type\": \"nominal\"}, \"tooltip\": [{\"field\": \"measure\", \"type\": \"nominal\"}, {\"field\": \"sample date\", \"type\": \"ordinal\"}], \"x\": {\"field\": \"sample date\", \"type\": \"ordinal\"}, \"y\": {\"field\": \"measure\", \"sort\": \"x\", \"type\": \"nominal\"}}, \"height\": 350, \"title\": \"Busarakhan\", \"transform\": [{\"filter\": {\"field\": \"measure\", \"oneOf\": [\"PCB 118\", \"Naphthalene\", \"Selenium\", \"Phenanthrene\", \"Anthracene\", \"Chrysene\", \"Cesium\", \"Berilium\", \"Benzo(a)anthracene\", \"Boron\", \"Indeno(1,2,3-c,d)pyrene\", \"Hexachlorobenzene\", \"Methoxychlor\", \"Acenaphthylene\", \"Acenaphthene\", \"1,2,3-Trichlorobenzene\", \"1,2,4-Trichlorobenzene\", \"Pentachlorobenzene\", \"Pyrene\", \"PCB 52\", \"PCB 28\", \"Boron\", \"Total dissolved phosphorus\", \"Isodrin\", \"Trifluralin\", \"PAHs\", \"Methoxychlor\", \"Fluorene\", \"Dissolved organic carbon\", \"Boron\"]}}, {\"filter\": \"(datum.location === 'Busarakhan')\"}], \"width\": 300}, {\"mark\": \"bar\", \"encoding\": {\"color\": {\"field\": \"measure\", \"type\": \"nominal\"}, \"tooltip\": [{\"field\": \"measure\", \"type\": \"nominal\"}, {\"field\": \"sample date\", \"type\": \"ordinal\"}], \"x\": {\"field\": \"sample date\", \"type\": \"ordinal\"}, \"y\": {\"field\": \"measure\", \"sort\": \"x\", \"type\": \"nominal\"}}, \"height\": 350, \"title\": \"Achara\", \"transform\": [{\"filter\": {\"field\": \"measure\", \"oneOf\": [\"PCB 118\", \"Naphthalene\", \"Selenium\", \"Phenanthrene\", \"Anthracene\", \"Chrysene\", \"Cesium\", \"Berilium\", \"Benzo(a)anthracene\", \"Boron\", \"Indeno(1,2,3-c,d)pyrene\", \"Hexachlorobenzene\", \"Methoxychlor\", \"Acenaphthylene\", \"Acenaphthene\", \"1,2,3-Trichlorobenzene\", \"1,2,4-Trichlorobenzene\", \"Pentachlorobenzene\", \"Pyrene\", \"PCB 52\", \"PCB 28\", \"Boron\", \"Total dissolved phosphorus\", \"Isodrin\", \"Trifluralin\", \"PAHs\", \"Methoxychlor\", \"Fluorene\", \"Dissolved organic carbon\", \"Boron\"]}}, {\"filter\": \"(datum.location === 'Achara')\"}], \"width\": 300}, {\"mark\": \"bar\", \"encoding\": {\"color\": {\"field\": \"measure\", \"type\": \"nominal\"}, \"tooltip\": [{\"field\": \"measure\", \"type\": \"nominal\"}, {\"field\": \"sample date\", \"type\": \"ordinal\"}], \"x\": {\"field\": \"sample date\", \"type\": \"ordinal\"}, \"y\": {\"field\": \"measure\", \"sort\": \"x\", \"type\": \"nominal\"}}, \"height\": 350, \"title\": \"Decha\", \"transform\": [{\"filter\": {\"field\": \"measure\", \"oneOf\": [\"PCB 118\", \"Naphthalene\", \"Selenium\", \"Phenanthrene\", \"Anthracene\", \"Chrysene\", \"Cesium\", \"Berilium\", \"Benzo(a)anthracene\", \"Boron\", \"Indeno(1,2,3-c,d)pyrene\", \"Hexachlorobenzene\", \"Methoxychlor\", \"Acenaphthylene\", \"Acenaphthene\", \"1,2,3-Trichlorobenzene\", \"1,2,4-Trichlorobenzene\", \"Pentachlorobenzene\", \"Pyrene\", \"PCB 52\", \"PCB 28\", \"Boron\", \"Total dissolved phosphorus\", \"Isodrin\", \"Trifluralin\", \"PAHs\", \"Methoxychlor\", \"Fluorene\", \"Dissolved organic carbon\", \"Boron\"]}}, {\"filter\": \"(datum.location === 'Decha')\"}], \"width\": 300}, {\"mark\": \"bar\", \"encoding\": {\"color\": {\"field\": \"measure\", \"type\": \"nominal\"}, \"tooltip\": [{\"field\": \"measure\", \"type\": \"nominal\"}, {\"field\": \"sample date\", \"type\": \"ordinal\"}], \"x\": {\"field\": \"sample date\", \"type\": \"ordinal\"}, \"y\": {\"field\": \"measure\", \"sort\": \"x\", \"type\": \"nominal\"}}, \"height\": 350, \"title\": \"Tansanee\", \"transform\": [{\"filter\": {\"field\": \"measure\", \"oneOf\": [\"PCB 118\", \"Naphthalene\", \"Selenium\", \"Phenanthrene\", \"Anthracene\", \"Chrysene\", \"Cesium\", \"Berilium\", \"Benzo(a)anthracene\", \"Boron\", \"Indeno(1,2,3-c,d)pyrene\", \"Hexachlorobenzene\", \"Methoxychlor\", \"Acenaphthylene\", \"Acenaphthene\", \"1,2,3-Trichlorobenzene\", \"1,2,4-Trichlorobenzene\", \"Pentachlorobenzene\", \"Pyrene\", \"PCB 52\", \"PCB 28\", \"Boron\", \"Total dissolved phosphorus\", \"Isodrin\", \"Trifluralin\", \"PAHs\", \"Methoxychlor\", \"Fluorene\", \"Dissolved organic carbon\", \"Boron\"]}}, {\"filter\": \"(datum.location === 'Tansanee')\"}], \"width\": 300}], \"data\": {\"url\": \"http://localhost:60911/21f7e60835ec7c3a2416c8b2681b4054.json\"}, \"$schema\": \"https://vega.github.io/schema/vega-lite/v4.17.0.json\"}, {\"mode\": \"vega-lite\"});\n",
       "</script>"
      ],
      "text/plain": [
       "alt.HConcatChart(...)"
      ]
     },
     "execution_count": 53,
     "metadata": {},
     "output_type": "execute_result"
    }
   ],
   "source": [
    "comparison= alt.hconcat()\n",
    "for location in ['Boonsri','Chai','Kannika','Sakda','Kohsoom','Somchair','Busarakhan','Achara','Decha','Tansanee']:\n",
    "    comparison|= missing_plot.properties(width=300, height=350,title=location).transform_filter(datum.location==location)\n",
    "comparison    "
   ]
  },
  {
   "cell_type": "markdown",
   "id": "dce2ba8c-1430-40da-a6bf-d54bfdf1790d",
   "metadata": {},
   "source": [
    "***Achara and Decha have none of the chemicals listed in the least data and Boonsri had the data of most of the measures contributing largely to overall readings.***"
   ]
  },
  {
   "cell_type": "markdown",
   "id": "2520770a-b4cb-4c37-b861-29338deb7595",
   "metadata": {},
   "source": []
  },
  {
   "cell_type": "markdown",
   "id": "d787e40a-7d5f-4d97-879f-b05f3f889397",
   "metadata": {},
   "source": [
    "## **2. To Find collection frequency of sensors in the 10 locations:**"
   ]
  },
  {
   "cell_type": "code",
   "execution_count": 54,
   "id": "46aab899-228e-49ff-83a6-c2499a0f3b91",
   "metadata": {},
   "outputs": [],
   "source": [
    "data[\"sample date\"] = pd.to_datetime(data[\"sample date\"]).dt.strftime(\"%Y\")\n",
    "\n",
    "## Converted the format of sample date to only 'year' to analyse the frequency in each year"
   ]
  },
  {
   "cell_type": "code",
   "execution_count": 55,
   "id": "ace9c3c0-0cea-4001-9223-0f6c47e9a580",
   "metadata": {},
   "outputs": [
    {
     "data": {
      "text/html": [
       "\n",
       "<div id=\"altair-viz-75ed7684387a4640ba98103ccf4fde01\"></div>\n",
       "<script type=\"text/javascript\">\n",
       "  var VEGA_DEBUG = (typeof VEGA_DEBUG == \"undefined\") ? {} : VEGA_DEBUG;\n",
       "  (function(spec, embedOpt){\n",
       "    let outputDiv = document.currentScript.previousElementSibling;\n",
       "    if (outputDiv.id !== \"altair-viz-75ed7684387a4640ba98103ccf4fde01\") {\n",
       "      outputDiv = document.getElementById(\"altair-viz-75ed7684387a4640ba98103ccf4fde01\");\n",
       "    }\n",
       "    const paths = {\n",
       "      \"vega\": \"https://cdn.jsdelivr.net/npm//vega@5?noext\",\n",
       "      \"vega-lib\": \"https://cdn.jsdelivr.net/npm//vega-lib?noext\",\n",
       "      \"vega-lite\": \"https://cdn.jsdelivr.net/npm//vega-lite@4.17.0?noext\",\n",
       "      \"vega-embed\": \"https://cdn.jsdelivr.net/npm//vega-embed@6?noext\",\n",
       "    };\n",
       "\n",
       "    function maybeLoadScript(lib, version) {\n",
       "      var key = `${lib.replace(\"-\", \"\")}_version`;\n",
       "      return (VEGA_DEBUG[key] == version) ?\n",
       "        Promise.resolve(paths[lib]) :\n",
       "        new Promise(function(resolve, reject) {\n",
       "          var s = document.createElement('script');\n",
       "          document.getElementsByTagName(\"head\")[0].appendChild(s);\n",
       "          s.async = true;\n",
       "          s.onload = () => {\n",
       "            VEGA_DEBUG[key] = version;\n",
       "            return resolve(paths[lib]);\n",
       "          };\n",
       "          s.onerror = () => reject(`Error loading script: ${paths[lib]}`);\n",
       "          s.src = paths[lib];\n",
       "        });\n",
       "    }\n",
       "\n",
       "    function showError(err) {\n",
       "      outputDiv.innerHTML = `<div class=\"error\" style=\"color:red;\">${err}</div>`;\n",
       "      throw err;\n",
       "    }\n",
       "\n",
       "    function displayChart(vegaEmbed) {\n",
       "      vegaEmbed(outputDiv, spec, embedOpt)\n",
       "        .catch(err => showError(`Javascript Error: ${err.message}<br>This usually means there's a typo in your chart specification. See the javascript console for the full traceback.`));\n",
       "    }\n",
       "\n",
       "    if(typeof define === \"function\" && define.amd) {\n",
       "      requirejs.config({paths});\n",
       "      require([\"vega-embed\"], displayChart, err => showError(`Error loading script: ${err.message}`));\n",
       "    } else {\n",
       "      maybeLoadScript(\"vega\", \"5\")\n",
       "        .then(() => maybeLoadScript(\"vega-lite\", \"4.17.0\"))\n",
       "        .then(() => maybeLoadScript(\"vega-embed\", \"6\"))\n",
       "        .catch(showError)\n",
       "        .then(() => displayChart(vegaEmbed));\n",
       "    }\n",
       "  })({\"config\": {\"view\": {\"continuousWidth\": 400, \"continuousHeight\": 300}}, \"hconcat\": [{\"vconcat\": []}, {\"data\": {\"url\": \"http://localhost:60911/0a7053effc8fb940cfb67d8173ca1d94.json\"}, \"mark\": \"bar\", \"encoding\": {\"color\": {\"field\": \"measure\", \"type\": \"nominal\"}, \"tooltip\": [{\"field\": \"sample date\", \"type\": \"nominal\"}, {\"field\": \"measure\", \"type\": \"nominal\"}, {\"aggregate\": \"count\", \"type\": \"quantitative\"}], \"x\": {\"field\": \"sample date\", \"type\": \"nominal\"}, \"y\": {\"aggregate\": \"count\", \"type\": \"quantitative\"}}, \"height\": 200, \"title\": \"Boonsri\", \"transform\": [{\"filter\": \"(datum.location === 'Boonsri')\"}], \"width\": 400}, {\"data\": {\"url\": \"http://localhost:60911/0a7053effc8fb940cfb67d8173ca1d94.json\"}, \"mark\": \"bar\", \"encoding\": {\"color\": {\"field\": \"measure\", \"type\": \"nominal\"}, \"tooltip\": [{\"field\": \"sample date\", \"type\": \"nominal\"}, {\"field\": \"measure\", \"type\": \"nominal\"}, {\"aggregate\": \"count\", \"type\": \"quantitative\"}], \"x\": {\"field\": \"sample date\", \"type\": \"nominal\"}, \"y\": {\"aggregate\": \"count\", \"type\": \"quantitative\"}}, \"height\": 200, \"title\": \"Chai\", \"transform\": [{\"filter\": \"(datum.location === 'Chai')\"}], \"width\": 400}, {\"data\": {\"url\": \"http://localhost:60911/0a7053effc8fb940cfb67d8173ca1d94.json\"}, \"mark\": \"bar\", \"encoding\": {\"color\": {\"field\": \"measure\", \"type\": \"nominal\"}, \"tooltip\": [{\"field\": \"sample date\", \"type\": \"nominal\"}, {\"field\": \"measure\", \"type\": \"nominal\"}, {\"aggregate\": \"count\", \"type\": \"quantitative\"}], \"x\": {\"field\": \"sample date\", \"type\": \"nominal\"}, \"y\": {\"aggregate\": \"count\", \"type\": \"quantitative\"}}, \"height\": 200, \"title\": \"Kannika\", \"transform\": [{\"filter\": \"(datum.location === 'Kannika')\"}], \"width\": 400}, {\"data\": {\"url\": \"http://localhost:60911/0a7053effc8fb940cfb67d8173ca1d94.json\"}, \"mark\": \"bar\", \"encoding\": {\"color\": {\"field\": \"measure\", \"type\": \"nominal\"}, \"tooltip\": [{\"field\": \"sample date\", \"type\": \"nominal\"}, {\"field\": \"measure\", \"type\": \"nominal\"}, {\"aggregate\": \"count\", \"type\": \"quantitative\"}], \"x\": {\"field\": \"sample date\", \"type\": \"nominal\"}, \"y\": {\"aggregate\": \"count\", \"type\": \"quantitative\"}}, \"height\": 200, \"title\": \"Sakda\", \"transform\": [{\"filter\": \"(datum.location === 'Sakda')\"}], \"width\": 400}, {\"data\": {\"url\": \"http://localhost:60911/0a7053effc8fb940cfb67d8173ca1d94.json\"}, \"mark\": \"bar\", \"encoding\": {\"color\": {\"field\": \"measure\", \"type\": \"nominal\"}, \"tooltip\": [{\"field\": \"sample date\", \"type\": \"nominal\"}, {\"field\": \"measure\", \"type\": \"nominal\"}, {\"aggregate\": \"count\", \"type\": \"quantitative\"}], \"x\": {\"field\": \"sample date\", \"type\": \"nominal\"}, \"y\": {\"aggregate\": \"count\", \"type\": \"quantitative\"}}, \"height\": 200, \"title\": \"Kohsoom\", \"transform\": [{\"filter\": \"(datum.location === 'Kohsoom')\"}], \"width\": 400}, {\"data\": {\"url\": \"http://localhost:60911/0a7053effc8fb940cfb67d8173ca1d94.json\"}, \"mark\": \"bar\", \"encoding\": {\"color\": {\"field\": \"measure\", \"type\": \"nominal\"}, \"tooltip\": [{\"field\": \"sample date\", \"type\": \"nominal\"}, {\"field\": \"measure\", \"type\": \"nominal\"}, {\"aggregate\": \"count\", \"type\": \"quantitative\"}], \"x\": {\"field\": \"sample date\", \"type\": \"nominal\"}, \"y\": {\"aggregate\": \"count\", \"type\": \"quantitative\"}}, \"height\": 200, \"title\": \"Somchair\", \"transform\": [{\"filter\": \"(datum.location === 'Somchair')\"}], \"width\": 400}, {\"data\": {\"url\": \"http://localhost:60911/0a7053effc8fb940cfb67d8173ca1d94.json\"}, \"mark\": \"bar\", \"encoding\": {\"color\": {\"field\": \"measure\", \"type\": \"nominal\"}, \"tooltip\": [{\"field\": \"sample date\", \"type\": \"nominal\"}, {\"field\": \"measure\", \"type\": \"nominal\"}, {\"aggregate\": \"count\", \"type\": \"quantitative\"}], \"x\": {\"field\": \"sample date\", \"type\": \"nominal\"}, \"y\": {\"aggregate\": \"count\", \"type\": \"quantitative\"}}, \"height\": 200, \"title\": \"Busarakhan\", \"transform\": [{\"filter\": \"(datum.location === 'Busarakhan')\"}], \"width\": 400}, {\"data\": {\"url\": \"http://localhost:60911/0a7053effc8fb940cfb67d8173ca1d94.json\"}, \"mark\": \"bar\", \"encoding\": {\"color\": {\"field\": \"measure\", \"type\": \"nominal\"}, \"tooltip\": [{\"field\": \"sample date\", \"type\": \"nominal\"}, {\"field\": \"measure\", \"type\": \"nominal\"}, {\"aggregate\": \"count\", \"type\": \"quantitative\"}], \"x\": {\"field\": \"sample date\", \"type\": \"nominal\"}, \"y\": {\"aggregate\": \"count\", \"type\": \"quantitative\"}}, \"height\": 200, \"title\": \"Achara\", \"transform\": [{\"filter\": \"(datum.location === 'Achara')\"}], \"width\": 400}, {\"data\": {\"url\": \"http://localhost:60911/0a7053effc8fb940cfb67d8173ca1d94.json\"}, \"mark\": \"bar\", \"encoding\": {\"color\": {\"field\": \"measure\", \"type\": \"nominal\"}, \"tooltip\": [{\"field\": \"sample date\", \"type\": \"nominal\"}, {\"field\": \"measure\", \"type\": \"nominal\"}, {\"aggregate\": \"count\", \"type\": \"quantitative\"}], \"x\": {\"field\": \"sample date\", \"type\": \"nominal\"}, \"y\": {\"aggregate\": \"count\", \"type\": \"quantitative\"}}, \"height\": 200, \"title\": \"Decha\", \"transform\": [{\"filter\": \"(datum.location === 'Decha')\"}], \"width\": 400}, {\"data\": {\"url\": \"http://localhost:60911/0a7053effc8fb940cfb67d8173ca1d94.json\"}, \"mark\": \"bar\", \"encoding\": {\"color\": {\"field\": \"measure\", \"type\": \"nominal\"}, \"tooltip\": [{\"field\": \"sample date\", \"type\": \"nominal\"}, {\"field\": \"measure\", \"type\": \"nominal\"}, {\"aggregate\": \"count\", \"type\": \"quantitative\"}], \"x\": {\"field\": \"sample date\", \"type\": \"nominal\"}, \"y\": {\"aggregate\": \"count\", \"type\": \"quantitative\"}}, \"height\": 200, \"title\": \"Tansanee\", \"transform\": [{\"filter\": \"(datum.location === 'Tansanee')\"}], \"width\": 400}], \"$schema\": \"https://vega.github.io/schema/vega-lite/v4.17.0.json\"}, {\"mode\": \"vega-lite\"});\n",
       "</script>"
      ],
      "text/plain": [
       "alt.HConcatChart(...)"
      ]
     },
     "execution_count": 55,
     "metadata": {},
     "output_type": "execute_result"
    }
   ],
   "source": [
    "concatenate= alt.vconcat()\n",
    "base= alt.Chart(data).mark_bar().encode(x='sample date:N', y='count()', tooltip= ['sample date:N','measure','count()'],color='measure:N')\n",
    "for location in ['Boonsri','Chai','Kannika','Sakda','Kohsoom','Somchair','Busarakhan','Achara','Decha','Tansanee']:\n",
    "    concatenate|= base.transform_filter(datum.location==location).properties(width=400, height=200, title= location)\n",
    "concatenate        "
   ]
  },
  {
   "cell_type": "markdown",
   "id": "2f53bc0f-e65a-4251-932b-55a33474bd03",
   "metadata": {},
   "source": [
    "***Based on my personal analysis, grouped the sensor locations to three:***"
   ]
  },
  {
   "cell_type": "code",
   "execution_count": 56,
   "id": "f4bf563f-76da-41f7-99ba-3f1c0a185fd5",
   "metadata": {},
   "outputs": [],
   "source": [
    "base_line= alt.Chart(data).mark_line().encode(x='sample date:N', y='count()', tooltip= ['location:N','sample date:N','count()'],color='location:N')\n",
    "base_area= alt.Chart(data).mark_area().encode(x='sample date:N',y='count()',tooltip=['sample date:N','location:N'],color='location:N')\n",
    "\n",
    "boonsri= base_line.transform_filter(datum.location=='Boonsri')\n",
    "sakda= base_line.transform_filter(datum.location=='Sakda')\n",
    "kannika= base_area.transform_filter(datum.location=='Kannika')\n",
    "chai= alt.Chart(data).mark_area(opacity=0.8).encode(x='sample date:N',y='count()',color='location:N',tooltip=['sample date:N','location:N']).transform_filter(datum.location== 'Chai')"
   ]
  },
  {
   "cell_type": "code",
   "execution_count": 57,
   "id": "ca931a1c-1f76-48b0-acbb-6af8a4b2c460",
   "metadata": {},
   "outputs": [],
   "source": [
    "somchair= alt.Chart(data).mark_area(opacity=0.5).encode(x='sample date:O',y='count()',color='location:N',tooltip=['sample date:O','location:N']).transform_filter(datum.location== 'Somchair')\n",
    "busarakhan= base_line.transform_filter(datum.location== 'Busarakhan')\n",
    "kohsoom= alt.Chart(data).mark_area(opacity=0.8).encode(x='sample date:O',y='count()',tooltip=['sample date:O','location:N'],color='location:N').transform_filter(datum.location=='Kohsoom')"
   ]
  },
  {
   "cell_type": "code",
   "execution_count": 58,
   "id": "f111b9c6-efb4-42ef-9cef-0c9c38b84443",
   "metadata": {},
   "outputs": [],
   "source": [
    "decha=base_area.transform_filter(datum.location== 'Decha')\n",
    "achara= alt.Chart(data).mark_area(opacity=0.7).encode(x='sample date:O',y='count()',color='location:N',tooltip=['sample date:O','location:N']).transform_filter(datum.location== 'Achara')\n",
    "tansanee= alt.Chart(data).mark_area(opacity=0.5).encode(x='sample date:O',y='count()',color='location:N',tooltip=['sample date:O','location:N']).transform_filter(datum.location== 'Tansanee')\n"
   ]
  },
  {
   "cell_type": "code",
   "execution_count": 59,
   "id": "18ee95e7-dc90-4b1a-a9a1-3fa8a65a56c6",
   "metadata": {},
   "outputs": [],
   "source": [
    "cf1=alt.layer(boonsri,chai,kannika,sakda).properties(width=300, height=150,title='Sites having largest collection frequency from 1998-2016:').encode(alt.X(title='Year'))\n",
    "cf2= alt.layer(kohsoom,busarakhan,somchair).properties(width=300,height=150,title='Lower collection frequency(1998-2016)').encode(alt.X(title='Year'))\n",
    "cf3=alt.layer(decha,achara,tansanee).properties(width=300,height=150,title='Sensor sites having readings only after 2009').encode(alt.X(title='Year'))"
   ]
  },
  {
   "cell_type": "code",
   "execution_count": 60,
   "id": "3fd0571c-fdd4-47b1-8cfc-8458645eb958",
   "metadata": {},
   "outputs": [
    {
     "data": {
      "text/html": [
       "\n",
       "<div id=\"altair-viz-b40b0730fbdb46398b17dddaebdacda4\"></div>\n",
       "<script type=\"text/javascript\">\n",
       "  var VEGA_DEBUG = (typeof VEGA_DEBUG == \"undefined\") ? {} : VEGA_DEBUG;\n",
       "  (function(spec, embedOpt){\n",
       "    let outputDiv = document.currentScript.previousElementSibling;\n",
       "    if (outputDiv.id !== \"altair-viz-b40b0730fbdb46398b17dddaebdacda4\") {\n",
       "      outputDiv = document.getElementById(\"altair-viz-b40b0730fbdb46398b17dddaebdacda4\");\n",
       "    }\n",
       "    const paths = {\n",
       "      \"vega\": \"https://cdn.jsdelivr.net/npm//vega@5?noext\",\n",
       "      \"vega-lib\": \"https://cdn.jsdelivr.net/npm//vega-lib?noext\",\n",
       "      \"vega-lite\": \"https://cdn.jsdelivr.net/npm//vega-lite@4.17.0?noext\",\n",
       "      \"vega-embed\": \"https://cdn.jsdelivr.net/npm//vega-embed@6?noext\",\n",
       "    };\n",
       "\n",
       "    function maybeLoadScript(lib, version) {\n",
       "      var key = `${lib.replace(\"-\", \"\")}_version`;\n",
       "      return (VEGA_DEBUG[key] == version) ?\n",
       "        Promise.resolve(paths[lib]) :\n",
       "        new Promise(function(resolve, reject) {\n",
       "          var s = document.createElement('script');\n",
       "          document.getElementsByTagName(\"head\")[0].appendChild(s);\n",
       "          s.async = true;\n",
       "          s.onload = () => {\n",
       "            VEGA_DEBUG[key] = version;\n",
       "            return resolve(paths[lib]);\n",
       "          };\n",
       "          s.onerror = () => reject(`Error loading script: ${paths[lib]}`);\n",
       "          s.src = paths[lib];\n",
       "        });\n",
       "    }\n",
       "\n",
       "    function showError(err) {\n",
       "      outputDiv.innerHTML = `<div class=\"error\" style=\"color:red;\">${err}</div>`;\n",
       "      throw err;\n",
       "    }\n",
       "\n",
       "    function displayChart(vegaEmbed) {\n",
       "      vegaEmbed(outputDiv, spec, embedOpt)\n",
       "        .catch(err => showError(`Javascript Error: ${err.message}<br>This usually means there's a typo in your chart specification. See the javascript console for the full traceback.`));\n",
       "    }\n",
       "\n",
       "    if(typeof define === \"function\" && define.amd) {\n",
       "      requirejs.config({paths});\n",
       "      require([\"vega-embed\"], displayChart, err => showError(`Error loading script: ${err.message}`));\n",
       "    } else {\n",
       "      maybeLoadScript(\"vega\", \"5\")\n",
       "        .then(() => maybeLoadScript(\"vega-lite\", \"4.17.0\"))\n",
       "        .then(() => maybeLoadScript(\"vega-embed\", \"6\"))\n",
       "        .catch(showError)\n",
       "        .then(() => displayChart(vegaEmbed));\n",
       "    }\n",
       "  })({\"config\": {\"view\": {\"continuousWidth\": 400, \"continuousHeight\": 300}}, \"data\": {\"url\": \"http://localhost:60911/0a7053effc8fb940cfb67d8173ca1d94.json\"}, \"mark\": \"bar\", \"encoding\": {\"color\": {\"field\": \"measure\", \"type\": \"nominal\"}, \"tooltip\": [{\"field\": \"measure\", \"type\": \"nominal\"}, {\"aggregate\": \"count\", \"type\": \"quantitative\"}], \"x\": {\"field\": \"sample date\", \"type\": \"nominal\"}, \"y\": {\"aggregate\": \"count\", \"type\": \"quantitative\"}}, \"height\": 300, \"title\": \"Chai\", \"transform\": [{\"filter\": \"(datum.location === 'Chai')\"}], \"width\": 300, \"$schema\": \"https://vega.github.io/schema/vega-lite/v4.17.0.json\"}, {\"mode\": \"vega-lite\"});\n",
       "</script>"
      ],
      "text/plain": [
       "alt.Chart(...)"
      ]
     },
     "execution_count": 60,
     "metadata": {},
     "output_type": "execute_result"
    }
   ],
   "source": [
    "CHAI= alt.Chart(data).mark_bar().encode(x='sample date:N', y='count()',color='measure:N',tooltip=['measure:N','count()']).transform_filter(datum.location=='Chai').properties(width=300,height=300,title='Chai')\n",
    "\n",
    "CHAI"
   ]
  },
  {
   "cell_type": "code",
   "execution_count": 61,
   "id": "c8489aff-c592-4efa-b4aa-c018c97d5802",
   "metadata": {},
   "outputs": [
    {
     "data": {
      "text/html": [
       "\n",
       "<div id=\"altair-viz-b16013743c22467daa2fdb10ec30accf\"></div>\n",
       "<script type=\"text/javascript\">\n",
       "  var VEGA_DEBUG = (typeof VEGA_DEBUG == \"undefined\") ? {} : VEGA_DEBUG;\n",
       "  (function(spec, embedOpt){\n",
       "    let outputDiv = document.currentScript.previousElementSibling;\n",
       "    if (outputDiv.id !== \"altair-viz-b16013743c22467daa2fdb10ec30accf\") {\n",
       "      outputDiv = document.getElementById(\"altair-viz-b16013743c22467daa2fdb10ec30accf\");\n",
       "    }\n",
       "    const paths = {\n",
       "      \"vega\": \"https://cdn.jsdelivr.net/npm//vega@5?noext\",\n",
       "      \"vega-lib\": \"https://cdn.jsdelivr.net/npm//vega-lib?noext\",\n",
       "      \"vega-lite\": \"https://cdn.jsdelivr.net/npm//vega-lite@4.17.0?noext\",\n",
       "      \"vega-embed\": \"https://cdn.jsdelivr.net/npm//vega-embed@6?noext\",\n",
       "    };\n",
       "\n",
       "    function maybeLoadScript(lib, version) {\n",
       "      var key = `${lib.replace(\"-\", \"\")}_version`;\n",
       "      return (VEGA_DEBUG[key] == version) ?\n",
       "        Promise.resolve(paths[lib]) :\n",
       "        new Promise(function(resolve, reject) {\n",
       "          var s = document.createElement('script');\n",
       "          document.getElementsByTagName(\"head\")[0].appendChild(s);\n",
       "          s.async = true;\n",
       "          s.onload = () => {\n",
       "            VEGA_DEBUG[key] = version;\n",
       "            return resolve(paths[lib]);\n",
       "          };\n",
       "          s.onerror = () => reject(`Error loading script: ${paths[lib]}`);\n",
       "          s.src = paths[lib];\n",
       "        });\n",
       "    }\n",
       "\n",
       "    function showError(err) {\n",
       "      outputDiv.innerHTML = `<div class=\"error\" style=\"color:red;\">${err}</div>`;\n",
       "      throw err;\n",
       "    }\n",
       "\n",
       "    function displayChart(vegaEmbed) {\n",
       "      vegaEmbed(outputDiv, spec, embedOpt)\n",
       "        .catch(err => showError(`Javascript Error: ${err.message}<br>This usually means there's a typo in your chart specification. See the javascript console for the full traceback.`));\n",
       "    }\n",
       "\n",
       "    if(typeof define === \"function\" && define.amd) {\n",
       "      requirejs.config({paths});\n",
       "      require([\"vega-embed\"], displayChart, err => showError(`Error loading script: ${err.message}`));\n",
       "    } else {\n",
       "      maybeLoadScript(\"vega\", \"5\")\n",
       "        .then(() => maybeLoadScript(\"vega-lite\", \"4.17.0\"))\n",
       "        .then(() => maybeLoadScript(\"vega-embed\", \"6\"))\n",
       "        .catch(showError)\n",
       "        .then(() => displayChart(vegaEmbed));\n",
       "    }\n",
       "  })({\"config\": {\"view\": {\"continuousWidth\": 400, \"continuousHeight\": 300}}, \"vconcat\": [{\"hconcat\": [{\"layer\": [{\"mark\": \"line\", \"encoding\": {\"color\": {\"field\": \"location\", \"type\": \"nominal\"}, \"tooltip\": [{\"field\": \"location\", \"type\": \"nominal\"}, {\"field\": \"sample date\", \"type\": \"nominal\"}, {\"aggregate\": \"count\", \"type\": \"quantitative\"}], \"x\": {\"field\": \"sample date\", \"type\": \"nominal\"}, \"y\": {\"aggregate\": \"count\", \"type\": \"quantitative\"}}, \"transform\": [{\"filter\": \"(datum.location === 'Boonsri')\"}]}, {\"mark\": {\"type\": \"area\", \"opacity\": 0.8}, \"encoding\": {\"color\": {\"field\": \"location\", \"type\": \"nominal\"}, \"tooltip\": [{\"field\": \"sample date\", \"type\": \"nominal\"}, {\"field\": \"location\", \"type\": \"nominal\"}], \"x\": {\"field\": \"sample date\", \"type\": \"nominal\"}, \"y\": {\"aggregate\": \"count\", \"type\": \"quantitative\"}}, \"transform\": [{\"filter\": \"(datum.location === 'Chai')\"}]}, {\"mark\": \"area\", \"encoding\": {\"color\": {\"field\": \"location\", \"type\": \"nominal\"}, \"tooltip\": [{\"field\": \"sample date\", \"type\": \"nominal\"}, {\"field\": \"location\", \"type\": \"nominal\"}], \"x\": {\"field\": \"sample date\", \"type\": \"nominal\"}, \"y\": {\"aggregate\": \"count\", \"type\": \"quantitative\"}}, \"transform\": [{\"filter\": \"(datum.location === 'Kannika')\"}]}, {\"mark\": \"line\", \"encoding\": {\"color\": {\"field\": \"location\", \"type\": \"nominal\"}, \"tooltip\": [{\"field\": \"location\", \"type\": \"nominal\"}, {\"field\": \"sample date\", \"type\": \"nominal\"}, {\"aggregate\": \"count\", \"type\": \"quantitative\"}], \"x\": {\"field\": \"sample date\", \"type\": \"nominal\"}, \"y\": {\"aggregate\": \"count\", \"type\": \"quantitative\"}}, \"transform\": [{\"filter\": \"(datum.location === 'Sakda')\"}]}], \"encoding\": {\"x\": {\"title\": \"Year\"}}, \"height\": 150, \"title\": \"Sites having largest collection frequency from 1998-2016:\", \"width\": 300}, {\"layer\": [{\"mark\": {\"type\": \"area\", \"opacity\": 0.8}, \"encoding\": {\"color\": {\"field\": \"location\", \"type\": \"nominal\"}, \"tooltip\": [{\"field\": \"sample date\", \"type\": \"ordinal\"}, {\"field\": \"location\", \"type\": \"nominal\"}], \"x\": {\"field\": \"sample date\", \"type\": \"ordinal\"}, \"y\": {\"aggregate\": \"count\", \"type\": \"quantitative\"}}, \"transform\": [{\"filter\": \"(datum.location === 'Kohsoom')\"}]}, {\"mark\": \"line\", \"encoding\": {\"color\": {\"field\": \"location\", \"type\": \"nominal\"}, \"tooltip\": [{\"field\": \"location\", \"type\": \"nominal\"}, {\"field\": \"sample date\", \"type\": \"nominal\"}, {\"aggregate\": \"count\", \"type\": \"quantitative\"}], \"x\": {\"field\": \"sample date\", \"type\": \"nominal\"}, \"y\": {\"aggregate\": \"count\", \"type\": \"quantitative\"}}, \"transform\": [{\"filter\": \"(datum.location === 'Busarakhan')\"}]}, {\"mark\": {\"type\": \"area\", \"opacity\": 0.5}, \"encoding\": {\"color\": {\"field\": \"location\", \"type\": \"nominal\"}, \"tooltip\": [{\"field\": \"sample date\", \"type\": \"ordinal\"}, {\"field\": \"location\", \"type\": \"nominal\"}], \"x\": {\"field\": \"sample date\", \"type\": \"ordinal\"}, \"y\": {\"aggregate\": \"count\", \"type\": \"quantitative\"}}, \"transform\": [{\"filter\": \"(datum.location === 'Somchair')\"}]}], \"encoding\": {\"x\": {\"title\": \"Year\"}}, \"height\": 150, \"title\": \"Lower collection frequency(1998-2016)\", \"width\": 300}, {\"layer\": [{\"mark\": \"area\", \"encoding\": {\"color\": {\"field\": \"location\", \"type\": \"nominal\"}, \"tooltip\": [{\"field\": \"sample date\", \"type\": \"nominal\"}, {\"field\": \"location\", \"type\": \"nominal\"}], \"x\": {\"field\": \"sample date\", \"type\": \"nominal\"}, \"y\": {\"aggregate\": \"count\", \"type\": \"quantitative\"}}, \"transform\": [{\"filter\": \"(datum.location === 'Decha')\"}]}, {\"mark\": {\"type\": \"area\", \"opacity\": 0.7}, \"encoding\": {\"color\": {\"field\": \"location\", \"type\": \"nominal\"}, \"tooltip\": [{\"field\": \"sample date\", \"type\": \"ordinal\"}, {\"field\": \"location\", \"type\": \"nominal\"}], \"x\": {\"field\": \"sample date\", \"type\": \"ordinal\"}, \"y\": {\"aggregate\": \"count\", \"type\": \"quantitative\"}}, \"transform\": [{\"filter\": \"(datum.location === 'Achara')\"}]}, {\"mark\": {\"type\": \"area\", \"opacity\": 0.5}, \"encoding\": {\"color\": {\"field\": \"location\", \"type\": \"nominal\"}, \"tooltip\": [{\"field\": \"sample date\", \"type\": \"ordinal\"}, {\"field\": \"location\", \"type\": \"nominal\"}], \"x\": {\"field\": \"sample date\", \"type\": \"ordinal\"}, \"y\": {\"aggregate\": \"count\", \"type\": \"quantitative\"}}, \"transform\": [{\"filter\": \"(datum.location === 'Tansanee')\"}]}], \"encoding\": {\"x\": {\"title\": \"Year\"}}, \"height\": 150, \"title\": \"Sensor sites having readings only after 2009\", \"width\": 300}], \"title\": \"COLLECTION FREQUENCIES:\"}, {\"mark\": \"bar\", \"encoding\": {\"color\": {\"field\": \"measure\", \"type\": \"nominal\"}, \"tooltip\": [{\"field\": \"measure\", \"type\": \"nominal\"}, {\"aggregate\": \"count\", \"type\": \"quantitative\"}], \"x\": {\"field\": \"sample date\", \"type\": \"nominal\"}, \"y\": {\"aggregate\": \"count\", \"type\": \"quantitative\"}}, \"height\": 300, \"title\": \"Chai\", \"transform\": [{\"filter\": \"(datum.location === 'Chai')\"}], \"width\": 300}], \"data\": {\"url\": \"http://localhost:60911/0a7053effc8fb940cfb67d8173ca1d94.json\"}, \"$schema\": \"https://vega.github.io/schema/vega-lite/v4.17.0.json\"}, {\"mode\": \"vega-lite\"});\n",
       "</script>"
      ],
      "text/plain": [
       "alt.VConcatChart(...)"
      ]
     },
     "execution_count": 61,
     "metadata": {},
     "output_type": "execute_result"
    }
   ],
   "source": [
    "c_f= alt.hconcat(cf1,cf2,cf3).properties(title='COLLECTION FREQUENCIES:')\n",
    "c_f&CHAI\n"
   ]
  },
  {
   "cell_type": "markdown",
   "id": "a1b3903a-0ec5-4a2e-8514-8bbe114f4d52",
   "metadata": {},
   "source": [
    "## **3. To find out the unrealistic values**\n",
    "\n",
    "\n"
   ]
  },
  {
   "cell_type": "code",
   "execution_count": 62,
   "id": "a76c712e-58dd-42a7-86b0-3fd469b3920f",
   "metadata": {},
   "outputs": [],
   "source": [
    "data= pd.read_csv('C:/Users/LENOVO/Documents/datasets.csv')\n",
    "data[\"sample date\"] = pd.to_datetime(data[\"sample date\"]).dt.strftime(\"%Y-%m-%d\")\n",
    "                      "
   ]
  },
  {
   "cell_type": "markdown",
   "id": "b135a325-55da-44de-bccf-0edf6405dd60",
   "metadata": {},
   "source": [
    "***Making a list of whole measures***"
   ]
  },
  {
   "cell_type": "code",
   "execution_count": 63,
   "id": "2cbd1951-7b83-41a4-bf9c-d9d4ee99471d",
   "metadata": {},
   "outputs": [],
   "source": [
    "import numpy as np\n",
    "measure_list= np.array(data.loc[:,['measure']])\n",
    "measure_list= np.unique(measure_list)\n",
    "\n"
   ]
  },
  {
   "cell_type": "markdown",
   "id": "765b472d-ba98-4b0d-95d5-3409a55cafcd",
   "metadata": {},
   "source": [
    "***Dividing the list to three :-  'few available data','large available data' and the 'intermediate' to find unrealistic values***"
   ]
  },
  {
   "cell_type": "markdown",
   "id": "d8868029-d9e7-4f13-b3e7-745309f5df9c",
   "metadata": {},
   "source": [
    "***1. Plotting values of each measures having few available data against time:***\n",
    "\n",
    "First we have to discard the 26 measures having majority of the data missing, from the first set of list made of the measures having missing data and then plot it against time to find any unrealistic values of measures.\n"
   ]
  },
  {
   "cell_type": "code",
   "execution_count": 64,
   "id": "5f1086e8-0cc6-4780-a758-e0c753a51ff5",
   "metadata": {},
   "outputs": [],
   "source": [
    "base1= alt.Chart(data).mark_point().encode(x='sample date:T', y='value', color='location',tooltip=['value','location']).properties(width=200,height=200)\n",
    "\n",
    "## base= Base for all 3 group plots\n",
    "\n",
    "least_data= set(missing_data)-set(new_missing_data)     \n",
    "least_data= list(least_data)\n",
    "\n",
    "few_available= alt.hconcat()\n",
    "for measure in least_data :\n",
    "    few_available|= base1.transform_filter(datum.measure==measure).properties(title= measure)"
   ]
  },
  {
   "cell_type": "code",
   "execution_count": 65,
   "id": "4c3b87e1-ed1f-440b-8d1a-af9c488c20a3",
   "metadata": {},
   "outputs": [
    {
     "data": {
      "text/html": [
       "\n",
       "<div id=\"altair-viz-d57f32c676ea48cd85798c2707ae1489\"></div>\n",
       "<script type=\"text/javascript\">\n",
       "  var VEGA_DEBUG = (typeof VEGA_DEBUG == \"undefined\") ? {} : VEGA_DEBUG;\n",
       "  (function(spec, embedOpt){\n",
       "    let outputDiv = document.currentScript.previousElementSibling;\n",
       "    if (outputDiv.id !== \"altair-viz-d57f32c676ea48cd85798c2707ae1489\") {\n",
       "      outputDiv = document.getElementById(\"altair-viz-d57f32c676ea48cd85798c2707ae1489\");\n",
       "    }\n",
       "    const paths = {\n",
       "      \"vega\": \"https://cdn.jsdelivr.net/npm//vega@5?noext\",\n",
       "      \"vega-lib\": \"https://cdn.jsdelivr.net/npm//vega-lib?noext\",\n",
       "      \"vega-lite\": \"https://cdn.jsdelivr.net/npm//vega-lite@4.17.0?noext\",\n",
       "      \"vega-embed\": \"https://cdn.jsdelivr.net/npm//vega-embed@6?noext\",\n",
       "    };\n",
       "\n",
       "    function maybeLoadScript(lib, version) {\n",
       "      var key = `${lib.replace(\"-\", \"\")}_version`;\n",
       "      return (VEGA_DEBUG[key] == version) ?\n",
       "        Promise.resolve(paths[lib]) :\n",
       "        new Promise(function(resolve, reject) {\n",
       "          var s = document.createElement('script');\n",
       "          document.getElementsByTagName(\"head\")[0].appendChild(s);\n",
       "          s.async = true;\n",
       "          s.onload = () => {\n",
       "            VEGA_DEBUG[key] = version;\n",
       "            return resolve(paths[lib]);\n",
       "          };\n",
       "          s.onerror = () => reject(`Error loading script: ${paths[lib]}`);\n",
       "          s.src = paths[lib];\n",
       "        });\n",
       "    }\n",
       "\n",
       "    function showError(err) {\n",
       "      outputDiv.innerHTML = `<div class=\"error\" style=\"color:red;\">${err}</div>`;\n",
       "      throw err;\n",
       "    }\n",
       "\n",
       "    function displayChart(vegaEmbed) {\n",
       "      vegaEmbed(outputDiv, spec, embedOpt)\n",
       "        .catch(err => showError(`Javascript Error: ${err.message}<br>This usually means there's a typo in your chart specification. See the javascript console for the full traceback.`));\n",
       "    }\n",
       "\n",
       "    if(typeof define === \"function\" && define.amd) {\n",
       "      requirejs.config({paths});\n",
       "      require([\"vega-embed\"], displayChart, err => showError(`Error loading script: ${err.message}`));\n",
       "    } else {\n",
       "      maybeLoadScript(\"vega\", \"5\")\n",
       "        .then(() => maybeLoadScript(\"vega-lite\", \"4.17.0\"))\n",
       "        .then(() => maybeLoadScript(\"vega-embed\", \"6\"))\n",
       "        .catch(showError)\n",
       "        .then(() => displayChart(vegaEmbed));\n",
       "    }\n",
       "  })({\"config\": {\"view\": {\"continuousWidth\": 400, \"continuousHeight\": 300}}, \"hconcat\": [{\"mark\": \"point\", \"encoding\": {\"color\": {\"field\": \"location\", \"type\": \"nominal\"}, \"tooltip\": [{\"field\": \"value\", \"type\": \"quantitative\"}, {\"field\": \"location\", \"type\": \"nominal\"}], \"x\": {\"field\": \"sample date\", \"type\": \"temporal\"}, \"y\": {\"field\": \"value\", \"type\": \"quantitative\"}}, \"height\": 200, \"title\": \"p,p-DDE\", \"transform\": [{\"filter\": \"(datum.measure === 'p,p-DDE')\"}], \"width\": 200}, {\"mark\": \"point\", \"encoding\": {\"color\": {\"field\": \"location\", \"type\": \"nominal\"}, \"tooltip\": [{\"field\": \"value\", \"type\": \"quantitative\"}, {\"field\": \"location\", \"type\": \"nominal\"}], \"x\": {\"field\": \"sample date\", \"type\": \"temporal\"}, \"y\": {\"field\": \"value\", \"type\": \"quantitative\"}}, \"height\": 200, \"title\": \"Benzo(k)fluoranthene\", \"transform\": [{\"filter\": \"(datum.measure === 'Benzo(k)fluoranthene')\"}], \"width\": 200}, {\"mark\": \"point\", \"encoding\": {\"color\": {\"field\": \"location\", \"type\": \"nominal\"}, \"tooltip\": [{\"field\": \"value\", \"type\": \"quantitative\"}, {\"field\": \"location\", \"type\": \"nominal\"}], \"x\": {\"field\": \"sample date\", \"type\": \"temporal\"}, \"y\": {\"field\": \"value\", \"type\": \"quantitative\"}}, \"height\": 200, \"title\": \"alpha-Hexachlorocyclohexane\", \"transform\": [{\"filter\": \"(datum.measure === 'alpha-Hexachlorocyclohexane')\"}], \"width\": 200}, {\"mark\": \"point\", \"encoding\": {\"color\": {\"field\": \"location\", \"type\": \"nominal\"}, \"tooltip\": [{\"field\": \"value\", \"type\": \"quantitative\"}, {\"field\": \"location\", \"type\": \"nominal\"}], \"x\": {\"field\": \"sample date\", \"type\": \"temporal\"}, \"y\": {\"field\": \"value\", \"type\": \"quantitative\"}}, \"height\": 200, \"title\": \"Sulfides\", \"transform\": [{\"filter\": \"(datum.measure === 'Sulfides')\"}], \"width\": 200}, {\"mark\": \"point\", \"encoding\": {\"color\": {\"field\": \"location\", \"type\": \"nominal\"}, \"tooltip\": [{\"field\": \"value\", \"type\": \"quantitative\"}, {\"field\": \"location\", \"type\": \"nominal\"}], \"x\": {\"field\": \"sample date\", \"type\": \"temporal\"}, \"y\": {\"field\": \"value\", \"type\": \"quantitative\"}}, \"height\": 200, \"title\": \"p,p-DDD\", \"transform\": [{\"filter\": \"(datum.measure === 'p,p-DDD')\"}], \"width\": 200}, {\"mark\": \"point\", \"encoding\": {\"color\": {\"field\": \"location\", \"type\": \"nominal\"}, \"tooltip\": [{\"field\": \"value\", \"type\": \"quantitative\"}, {\"field\": \"location\", \"type\": \"nominal\"}], \"x\": {\"field\": \"sample date\", \"type\": \"temporal\"}, \"y\": {\"field\": \"value\", \"type\": \"quantitative\"}}, \"height\": 200, \"title\": \"Tetrachloromethane\", \"transform\": [{\"filter\": \"(datum.measure === 'Tetrachloromethane')\"}], \"width\": 200}, {\"mark\": \"point\", \"encoding\": {\"color\": {\"field\": \"location\", \"type\": \"nominal\"}, \"tooltip\": [{\"field\": \"value\", \"type\": \"quantitative\"}, {\"field\": \"location\", \"type\": \"nominal\"}], \"x\": {\"field\": \"sample date\", \"type\": \"temporal\"}, \"y\": {\"field\": \"value\", \"type\": \"quantitative\"}}, \"height\": 200, \"title\": \"Inorganic nitrogen\", \"transform\": [{\"filter\": \"(datum.measure === 'Inorganic nitrogen')\"}], \"width\": 200}, {\"mark\": \"point\", \"encoding\": {\"color\": {\"field\": \"location\", \"type\": \"nominal\"}, \"tooltip\": [{\"field\": \"value\", \"type\": \"quantitative\"}, {\"field\": \"location\", \"type\": \"nominal\"}], \"x\": {\"field\": \"sample date\", \"type\": \"temporal\"}, \"y\": {\"field\": \"value\", \"type\": \"quantitative\"}}, \"height\": 200, \"title\": \"Alachlor\", \"transform\": [{\"filter\": \"(datum.measure === 'Alachlor')\"}], \"width\": 200}, {\"mark\": \"point\", \"encoding\": {\"color\": {\"field\": \"location\", \"type\": \"nominal\"}, \"tooltip\": [{\"field\": \"value\", \"type\": \"quantitative\"}, {\"field\": \"location\", \"type\": \"nominal\"}], \"x\": {\"field\": \"sample date\", \"type\": \"temporal\"}, \"y\": {\"field\": \"value\", \"type\": \"quantitative\"}}, \"height\": 200, \"title\": \"Total extractable matter\", \"transform\": [{\"filter\": \"(datum.measure === 'Total extractable matter')\"}], \"width\": 200}, {\"mark\": \"point\", \"encoding\": {\"color\": {\"field\": \"location\", \"type\": \"nominal\"}, \"tooltip\": [{\"field\": \"value\", \"type\": \"quantitative\"}, {\"field\": \"location\", \"type\": \"nominal\"}], \"x\": {\"field\": \"sample date\", \"type\": \"temporal\"}, \"y\": {\"field\": \"value\", \"type\": \"quantitative\"}}, \"height\": 200, \"title\": \"Metolachlor\", \"transform\": [{\"filter\": \"(datum.measure === 'Metolachlor')\"}], \"width\": 200}, {\"mark\": \"point\", \"encoding\": {\"color\": {\"field\": \"location\", \"type\": \"nominal\"}, \"tooltip\": [{\"field\": \"value\", \"type\": \"quantitative\"}, {\"field\": \"location\", \"type\": \"nominal\"}], \"x\": {\"field\": \"sample date\", \"type\": \"temporal\"}, \"y\": {\"field\": \"value\", \"type\": \"quantitative\"}}, \"height\": 200, \"title\": \"Organic nitrogen\", \"transform\": [{\"filter\": \"(datum.measure === 'Organic nitrogen')\"}], \"width\": 200}, {\"mark\": \"point\", \"encoding\": {\"color\": {\"field\": \"location\", \"type\": \"nominal\"}, \"tooltip\": [{\"field\": \"value\", \"type\": \"quantitative\"}, {\"field\": \"location\", \"type\": \"nominal\"}], \"x\": {\"field\": \"sample date\", \"type\": \"temporal\"}, \"y\": {\"field\": \"value\", \"type\": \"quantitative\"}}, \"height\": 200, \"title\": \"PCB 101\", \"transform\": [{\"filter\": \"(datum.measure === 'PCB 101')\"}], \"width\": 200}, {\"mark\": \"point\", \"encoding\": {\"color\": {\"field\": \"location\", \"type\": \"nominal\"}, \"tooltip\": [{\"field\": \"value\", \"type\": \"quantitative\"}, {\"field\": \"location\", \"type\": \"nominal\"}], \"x\": {\"field\": \"sample date\", \"type\": \"temporal\"}, \"y\": {\"field\": \"value\", \"type\": \"quantitative\"}}, \"height\": 200, \"title\": \"Heptachlor\", \"transform\": [{\"filter\": \"(datum.measure === 'Heptachlor')\"}], \"width\": 200}, {\"mark\": \"point\", \"encoding\": {\"color\": {\"field\": \"location\", \"type\": \"nominal\"}, \"tooltip\": [{\"field\": \"value\", \"type\": \"quantitative\"}, {\"field\": \"location\", \"type\": \"nominal\"}], \"x\": {\"field\": \"sample date\", \"type\": \"temporal\"}, \"y\": {\"field\": \"value\", \"type\": \"quantitative\"}}, \"height\": 200, \"title\": \"Carbonates\", \"transform\": [{\"filter\": \"(datum.measure === 'Carbonates')\"}], \"width\": 200}, {\"mark\": \"point\", \"encoding\": {\"color\": {\"field\": \"location\", \"type\": \"nominal\"}, \"tooltip\": [{\"field\": \"value\", \"type\": \"quantitative\"}, {\"field\": \"location\", \"type\": \"nominal\"}], \"x\": {\"field\": \"sample date\", \"type\": \"temporal\"}, \"y\": {\"field\": \"value\", \"type\": \"quantitative\"}}, \"height\": 200, \"title\": \"PCB 180\", \"transform\": [{\"filter\": \"(datum.measure === 'PCB 180')\"}], \"width\": 200}, {\"mark\": \"point\", \"encoding\": {\"color\": {\"field\": \"location\", \"type\": \"nominal\"}, \"tooltip\": [{\"field\": \"value\", \"type\": \"quantitative\"}, {\"field\": \"location\", \"type\": \"nominal\"}], \"x\": {\"field\": \"sample date\", \"type\": \"temporal\"}, \"y\": {\"field\": \"value\", \"type\": \"quantitative\"}}, \"height\": 200, \"title\": \"Aldrin\", \"transform\": [{\"filter\": \"(datum.measure === 'Aldrin')\"}], \"width\": 200}, {\"mark\": \"point\", \"encoding\": {\"color\": {\"field\": \"location\", \"type\": \"nominal\"}, \"tooltip\": [{\"field\": \"value\", \"type\": \"quantitative\"}, {\"field\": \"location\", \"type\": \"nominal\"}], \"x\": {\"field\": \"sample date\", \"type\": \"temporal\"}, \"y\": {\"field\": \"value\", \"type\": \"quantitative\"}}, \"height\": 200, \"title\": \"Benzo(a)pyrene\", \"transform\": [{\"filter\": \"(datum.measure === 'Benzo(a)pyrene')\"}], \"width\": 200}, {\"mark\": \"point\", \"encoding\": {\"color\": {\"field\": \"location\", \"type\": \"nominal\"}, \"tooltip\": [{\"field\": \"value\", \"type\": \"quantitative\"}, {\"field\": \"location\", \"type\": \"nominal\"}], \"x\": {\"field\": \"sample date\", \"type\": \"temporal\"}, \"y\": {\"field\": \"value\", \"type\": \"quantitative\"}}, \"height\": 200, \"title\": \"Fluoranthene\", \"transform\": [{\"filter\": \"(datum.measure === 'Fluoranthene')\"}], \"width\": 200}, {\"mark\": \"point\", \"encoding\": {\"color\": {\"field\": \"location\", \"type\": \"nominal\"}, \"tooltip\": [{\"field\": \"value\", \"type\": \"quantitative\"}, {\"field\": \"location\", \"type\": \"nominal\"}], \"x\": {\"field\": \"sample date\", \"type\": \"temporal\"}, \"y\": {\"field\": \"value\", \"type\": \"quantitative\"}}, \"height\": 200, \"title\": \"Heptachloroepoxide\", \"transform\": [{\"filter\": \"(datum.measure === 'Heptachloroepoxide')\"}], \"width\": 200}, {\"mark\": \"point\", \"encoding\": {\"color\": {\"field\": \"location\", \"type\": \"nominal\"}, \"tooltip\": [{\"field\": \"value\", \"type\": \"quantitative\"}, {\"field\": \"location\", \"type\": \"nominal\"}], \"x\": {\"field\": \"sample date\", \"type\": \"temporal\"}, \"y\": {\"field\": \"value\", \"type\": \"quantitative\"}}, \"height\": 200, \"title\": \"PCB 153\", \"transform\": [{\"filter\": \"(datum.measure === 'PCB 153')\"}], \"width\": 200}, {\"mark\": \"point\", \"encoding\": {\"color\": {\"field\": \"location\", \"type\": \"nominal\"}, \"tooltip\": [{\"field\": \"value\", \"type\": \"quantitative\"}, {\"field\": \"location\", \"type\": \"nominal\"}], \"x\": {\"field\": \"sample date\", \"type\": \"temporal\"}, \"y\": {\"field\": \"value\", \"type\": \"quantitative\"}}, \"height\": 200, \"title\": \"Dieldrin\", \"transform\": [{\"filter\": \"(datum.measure === 'Dieldrin')\"}], \"width\": 200}, {\"mark\": \"point\", \"encoding\": {\"color\": {\"field\": \"location\", \"type\": \"nominal\"}, \"tooltip\": [{\"field\": \"value\", \"type\": \"quantitative\"}, {\"field\": \"location\", \"type\": \"nominal\"}], \"x\": {\"field\": \"sample date\", \"type\": \"temporal\"}, \"y\": {\"field\": \"value\", \"type\": \"quantitative\"}}, \"height\": 200, \"title\": \"Barium\", \"transform\": [{\"filter\": \"(datum.measure === 'Barium')\"}], \"width\": 200}, {\"mark\": \"point\", \"encoding\": {\"color\": {\"field\": \"location\", \"type\": \"nominal\"}, \"tooltip\": [{\"field\": \"value\", \"type\": \"quantitative\"}, {\"field\": \"location\", \"type\": \"nominal\"}], \"x\": {\"field\": \"sample date\", \"type\": \"temporal\"}, \"y\": {\"field\": \"value\", \"type\": \"quantitative\"}}, \"height\": 200, \"title\": \"Endosulfan (alpha)\", \"transform\": [{\"filter\": \"(datum.measure === 'Endosulfan (alpha)')\"}], \"width\": 200}, {\"mark\": \"point\", \"encoding\": {\"color\": {\"field\": \"location\", \"type\": \"nominal\"}, \"tooltip\": [{\"field\": \"value\", \"type\": \"quantitative\"}, {\"field\": \"location\", \"type\": \"nominal\"}], \"x\": {\"field\": \"sample date\", \"type\": \"temporal\"}, \"y\": {\"field\": \"value\", \"type\": \"quantitative\"}}, \"height\": 200, \"title\": \"Cyanides\", \"transform\": [{\"filter\": \"(datum.measure === 'Cyanides')\"}], \"width\": 200}, {\"mark\": \"point\", \"encoding\": {\"color\": {\"field\": \"location\", \"type\": \"nominal\"}, \"tooltip\": [{\"field\": \"value\", \"type\": \"quantitative\"}, {\"field\": \"location\", \"type\": \"nominal\"}], \"x\": {\"field\": \"sample date\", \"type\": \"temporal\"}, \"y\": {\"field\": \"value\", \"type\": \"quantitative\"}}, \"height\": 200, \"title\": \"beta-Hexaxchlorocyclohexane\", \"transform\": [{\"filter\": \"(datum.measure === 'beta-Hexaxchlorocyclohexane')\"}], \"width\": 200}, {\"mark\": \"point\", \"encoding\": {\"color\": {\"field\": \"location\", \"type\": \"nominal\"}, \"tooltip\": [{\"field\": \"value\", \"type\": \"quantitative\"}, {\"field\": \"location\", \"type\": \"nominal\"}], \"x\": {\"field\": \"sample date\", \"type\": \"temporal\"}, \"y\": {\"field\": \"value\", \"type\": \"quantitative\"}}, \"height\": 200, \"title\": \"Endosulfan (beta)\", \"transform\": [{\"filter\": \"(datum.measure === 'Endosulfan (beta)')\"}], \"width\": 200}, {\"mark\": \"point\", \"encoding\": {\"color\": {\"field\": \"location\", \"type\": \"nominal\"}, \"tooltip\": [{\"field\": \"value\", \"type\": \"quantitative\"}, {\"field\": \"location\", \"type\": \"nominal\"}], \"x\": {\"field\": \"sample date\", \"type\": \"temporal\"}, \"y\": {\"field\": \"value\", \"type\": \"quantitative\"}}, \"height\": 200, \"title\": \"Simazine\", \"transform\": [{\"filter\": \"(datum.measure === 'Simazine')\"}], \"width\": 200}, {\"mark\": \"point\", \"encoding\": {\"color\": {\"field\": \"location\", \"type\": \"nominal\"}, \"tooltip\": [{\"field\": \"value\", \"type\": \"quantitative\"}, {\"field\": \"location\", \"type\": \"nominal\"}], \"x\": {\"field\": \"sample date\", \"type\": \"temporal\"}, \"y\": {\"field\": \"value\", \"type\": \"quantitative\"}}, \"height\": 200, \"title\": \"Benzo(b)fluoranthene\", \"transform\": [{\"filter\": \"(datum.measure === 'Benzo(b)fluoranthene')\"}], \"width\": 200}, {\"mark\": \"point\", \"encoding\": {\"color\": {\"field\": \"location\", \"type\": \"nominal\"}, \"tooltip\": [{\"field\": \"value\", \"type\": \"quantitative\"}, {\"field\": \"location\", \"type\": \"nominal\"}], \"x\": {\"field\": \"sample date\", \"type\": \"temporal\"}, \"y\": {\"field\": \"value\", \"type\": \"quantitative\"}}, \"height\": 200, \"title\": \"Aluminium\", \"transform\": [{\"filter\": \"(datum.measure === 'Aluminium')\"}], \"width\": 200}], \"data\": {\"url\": \"http://localhost:60911/21f7e60835ec7c3a2416c8b2681b4054.json\"}, \"$schema\": \"https://vega.github.io/schema/vega-lite/v4.17.0.json\"}, {\"mode\": \"vega-lite\"});\n",
       "</script>"
      ],
      "text/plain": [
       "alt.HConcatChart(...)"
      ]
     },
     "execution_count": 65,
     "metadata": {},
     "output_type": "execute_result"
    }
   ],
   "source": [
    "few_available"
   ]
  },
  {
   "cell_type": "markdown",
   "id": "c39db49e-f32c-44a8-989f-8690e72afe91",
   "metadata": {},
   "source": [
    "***2.Identifying measures with more counts wrt data***"
   ]
  },
  {
   "cell_type": "markdown",
   "id": "2cd6ec69-f7cd-4b25-beac-c2e1267d9fc6",
   "metadata": {},
   "source": [
    "***Creating an array with the measures with counts>2000***"
   ]
  },
  {
   "cell_type": "code",
   "execution_count": 66,
   "id": "32357b17-aede-4d98-878c-d0f3a1273c8b",
   "metadata": {},
   "outputs": [
    {
     "data": {
      "text/plain": [
       "Index(['Water temperature', 'Nitrites', 'Ammonium', 'Nitrates',\n",
       "       'Orthophosphate-phosphorus', 'Total phosphorus', 'Dissolved oxygen',\n",
       "       'Biochemical Oxygen', 'Manganese', 'Chlorides',\n",
       "       'Chemical Oxygen Demand (Mn)', 'Magnesium', 'Calcium',\n",
       "       'Chemical Oxygen Demand (Cr)', 'Sulphates', 'Chromium', 'Lead',\n",
       "       'Copper', 'Zinc', 'Cadmium', 'Bicarbonates', 'Total dissolved salts',\n",
       "       'Iron', 'gamma-Hexachlorocyclohexane', 'Total nitrogen', 'Nickel',\n",
       "       'Anionic active surfactants', 'p,p-DDT', 'Oxygen saturation', 'Sodium',\n",
       "       'Potassium', 'Atrazine'],\n",
       "      dtype='object')"
      ]
     },
     "execution_count": 66,
     "metadata": {},
     "output_type": "execute_result"
    }
   ],
   "source": [
    "table=pd.DataFrame(data.measure.value_counts())          ## table with a column of value counts of measure                       \n",
    "table= table.loc[table.measure>=2000,]                   ## selecting measures with counts of readings greater than 2000\n",
    "table.reset_index()                                      \n",
    "table=table.index                                        ## creating an array index of name of the measures having count >2000 \n",
    "\n",
    "table\n",
    "#data= pd.read_csv('C:/Users/LENOVO/Documents/datasets.csv')\n",
    "#data[\"sample date\"] = pd.to_datetime(data[\"sample date\"]).dt.strftime(\"%Y/%m/%d\")"
   ]
  },
  {
   "cell_type": "markdown",
   "id": "37ef729b-fb8d-4ba7-9620-eb6de4b983c3",
   "metadata": {},
   "source": [
    "***2.c. Plotting measures having 'Large available data' against time***"
   ]
  },
  {
   "cell_type": "code",
   "execution_count": 67,
   "id": "05204a07-4837-4673-9660-163637a2754e",
   "metadata": {},
   "outputs": [],
   "source": [
    "base2= alt.Chart(data).mark_point().encode(x='sample date:T',y='value:Q',color='location:N', tooltip=['value','location:N'])\n",
    "large_available= alt.hconcat()\n",
    "for mymeasures in table:\n",
    "    large_available|= base2.transform_filter(datum.measure== mymeasures).properties(width=300, height=200, title=mymeasures)"
   ]
  },
  {
   "cell_type": "code",
   "execution_count": 68,
   "id": "94c44159-f169-471b-b2ae-e4a71ca22d9b",
   "metadata": {},
   "outputs": [
    {
     "data": {
      "text/html": [
       "\n",
       "<div id=\"altair-viz-a7da36c149ca4b18acfb56adff5d7c08\"></div>\n",
       "<script type=\"text/javascript\">\n",
       "  var VEGA_DEBUG = (typeof VEGA_DEBUG == \"undefined\") ? {} : VEGA_DEBUG;\n",
       "  (function(spec, embedOpt){\n",
       "    let outputDiv = document.currentScript.previousElementSibling;\n",
       "    if (outputDiv.id !== \"altair-viz-a7da36c149ca4b18acfb56adff5d7c08\") {\n",
       "      outputDiv = document.getElementById(\"altair-viz-a7da36c149ca4b18acfb56adff5d7c08\");\n",
       "    }\n",
       "    const paths = {\n",
       "      \"vega\": \"https://cdn.jsdelivr.net/npm//vega@5?noext\",\n",
       "      \"vega-lib\": \"https://cdn.jsdelivr.net/npm//vega-lib?noext\",\n",
       "      \"vega-lite\": \"https://cdn.jsdelivr.net/npm//vega-lite@4.17.0?noext\",\n",
       "      \"vega-embed\": \"https://cdn.jsdelivr.net/npm//vega-embed@6?noext\",\n",
       "    };\n",
       "\n",
       "    function maybeLoadScript(lib, version) {\n",
       "      var key = `${lib.replace(\"-\", \"\")}_version`;\n",
       "      return (VEGA_DEBUG[key] == version) ?\n",
       "        Promise.resolve(paths[lib]) :\n",
       "        new Promise(function(resolve, reject) {\n",
       "          var s = document.createElement('script');\n",
       "          document.getElementsByTagName(\"head\")[0].appendChild(s);\n",
       "          s.async = true;\n",
       "          s.onload = () => {\n",
       "            VEGA_DEBUG[key] = version;\n",
       "            return resolve(paths[lib]);\n",
       "          };\n",
       "          s.onerror = () => reject(`Error loading script: ${paths[lib]}`);\n",
       "          s.src = paths[lib];\n",
       "        });\n",
       "    }\n",
       "\n",
       "    function showError(err) {\n",
       "      outputDiv.innerHTML = `<div class=\"error\" style=\"color:red;\">${err}</div>`;\n",
       "      throw err;\n",
       "    }\n",
       "\n",
       "    function displayChart(vegaEmbed) {\n",
       "      vegaEmbed(outputDiv, spec, embedOpt)\n",
       "        .catch(err => showError(`Javascript Error: ${err.message}<br>This usually means there's a typo in your chart specification. See the javascript console for the full traceback.`));\n",
       "    }\n",
       "\n",
       "    if(typeof define === \"function\" && define.amd) {\n",
       "      requirejs.config({paths});\n",
       "      require([\"vega-embed\"], displayChart, err => showError(`Error loading script: ${err.message}`));\n",
       "    } else {\n",
       "      maybeLoadScript(\"vega\", \"5\")\n",
       "        .then(() => maybeLoadScript(\"vega-lite\", \"4.17.0\"))\n",
       "        .then(() => maybeLoadScript(\"vega-embed\", \"6\"))\n",
       "        .catch(showError)\n",
       "        .then(() => displayChart(vegaEmbed));\n",
       "    }\n",
       "  })({\"config\": {\"view\": {\"continuousWidth\": 400, \"continuousHeight\": 300}}, \"hconcat\": [{\"mark\": \"point\", \"encoding\": {\"color\": {\"field\": \"location\", \"type\": \"nominal\"}, \"tooltip\": [{\"field\": \"value\", \"type\": \"quantitative\"}, {\"field\": \"location\", \"type\": \"nominal\"}], \"x\": {\"field\": \"sample date\", \"type\": \"temporal\"}, \"y\": {\"field\": \"value\", \"type\": \"quantitative\"}}, \"height\": 200, \"title\": \"Water temperature\", \"transform\": [{\"filter\": \"(datum.measure === 'Water temperature')\"}], \"width\": 300}, {\"mark\": \"point\", \"encoding\": {\"color\": {\"field\": \"location\", \"type\": \"nominal\"}, \"tooltip\": [{\"field\": \"value\", \"type\": \"quantitative\"}, {\"field\": \"location\", \"type\": \"nominal\"}], \"x\": {\"field\": \"sample date\", \"type\": \"temporal\"}, \"y\": {\"field\": \"value\", \"type\": \"quantitative\"}}, \"height\": 200, \"title\": \"Nitrites\", \"transform\": [{\"filter\": \"(datum.measure === 'Nitrites')\"}], \"width\": 300}, {\"mark\": \"point\", \"encoding\": {\"color\": {\"field\": \"location\", \"type\": \"nominal\"}, \"tooltip\": [{\"field\": \"value\", \"type\": \"quantitative\"}, {\"field\": \"location\", \"type\": \"nominal\"}], \"x\": {\"field\": \"sample date\", \"type\": \"temporal\"}, \"y\": {\"field\": \"value\", \"type\": \"quantitative\"}}, \"height\": 200, \"title\": \"Ammonium\", \"transform\": [{\"filter\": \"(datum.measure === 'Ammonium')\"}], \"width\": 300}, {\"mark\": \"point\", \"encoding\": {\"color\": {\"field\": \"location\", \"type\": \"nominal\"}, \"tooltip\": [{\"field\": \"value\", \"type\": \"quantitative\"}, {\"field\": \"location\", \"type\": \"nominal\"}], \"x\": {\"field\": \"sample date\", \"type\": \"temporal\"}, \"y\": {\"field\": \"value\", \"type\": \"quantitative\"}}, \"height\": 200, \"title\": \"Nitrates\", \"transform\": [{\"filter\": \"(datum.measure === 'Nitrates')\"}], \"width\": 300}, {\"mark\": \"point\", \"encoding\": {\"color\": {\"field\": \"location\", \"type\": \"nominal\"}, \"tooltip\": [{\"field\": \"value\", \"type\": \"quantitative\"}, {\"field\": \"location\", \"type\": \"nominal\"}], \"x\": {\"field\": \"sample date\", \"type\": \"temporal\"}, \"y\": {\"field\": \"value\", \"type\": \"quantitative\"}}, \"height\": 200, \"title\": \"Orthophosphate-phosphorus\", \"transform\": [{\"filter\": \"(datum.measure === 'Orthophosphate-phosphorus')\"}], \"width\": 300}, {\"mark\": \"point\", \"encoding\": {\"color\": {\"field\": \"location\", \"type\": \"nominal\"}, \"tooltip\": [{\"field\": \"value\", \"type\": \"quantitative\"}, {\"field\": \"location\", \"type\": \"nominal\"}], \"x\": {\"field\": \"sample date\", \"type\": \"temporal\"}, \"y\": {\"field\": \"value\", \"type\": \"quantitative\"}}, \"height\": 200, \"title\": \"Total phosphorus\", \"transform\": [{\"filter\": \"(datum.measure === 'Total phosphorus')\"}], \"width\": 300}, {\"mark\": \"point\", \"encoding\": {\"color\": {\"field\": \"location\", \"type\": \"nominal\"}, \"tooltip\": [{\"field\": \"value\", \"type\": \"quantitative\"}, {\"field\": \"location\", \"type\": \"nominal\"}], \"x\": {\"field\": \"sample date\", \"type\": \"temporal\"}, \"y\": {\"field\": \"value\", \"type\": \"quantitative\"}}, \"height\": 200, \"title\": \"Dissolved oxygen\", \"transform\": [{\"filter\": \"(datum.measure === 'Dissolved oxygen')\"}], \"width\": 300}, {\"mark\": \"point\", \"encoding\": {\"color\": {\"field\": \"location\", \"type\": \"nominal\"}, \"tooltip\": [{\"field\": \"value\", \"type\": \"quantitative\"}, {\"field\": \"location\", \"type\": \"nominal\"}], \"x\": {\"field\": \"sample date\", \"type\": \"temporal\"}, \"y\": {\"field\": \"value\", \"type\": \"quantitative\"}}, \"height\": 200, \"title\": \"Biochemical Oxygen\", \"transform\": [{\"filter\": \"(datum.measure === 'Biochemical Oxygen')\"}], \"width\": 300}, {\"mark\": \"point\", \"encoding\": {\"color\": {\"field\": \"location\", \"type\": \"nominal\"}, \"tooltip\": [{\"field\": \"value\", \"type\": \"quantitative\"}, {\"field\": \"location\", \"type\": \"nominal\"}], \"x\": {\"field\": \"sample date\", \"type\": \"temporal\"}, \"y\": {\"field\": \"value\", \"type\": \"quantitative\"}}, \"height\": 200, \"title\": \"Manganese\", \"transform\": [{\"filter\": \"(datum.measure === 'Manganese')\"}], \"width\": 300}, {\"mark\": \"point\", \"encoding\": {\"color\": {\"field\": \"location\", \"type\": \"nominal\"}, \"tooltip\": [{\"field\": \"value\", \"type\": \"quantitative\"}, {\"field\": \"location\", \"type\": \"nominal\"}], \"x\": {\"field\": \"sample date\", \"type\": \"temporal\"}, \"y\": {\"field\": \"value\", \"type\": \"quantitative\"}}, \"height\": 200, \"title\": \"Chlorides\", \"transform\": [{\"filter\": \"(datum.measure === 'Chlorides')\"}], \"width\": 300}, {\"mark\": \"point\", \"encoding\": {\"color\": {\"field\": \"location\", \"type\": \"nominal\"}, \"tooltip\": [{\"field\": \"value\", \"type\": \"quantitative\"}, {\"field\": \"location\", \"type\": \"nominal\"}], \"x\": {\"field\": \"sample date\", \"type\": \"temporal\"}, \"y\": {\"field\": \"value\", \"type\": \"quantitative\"}}, \"height\": 200, \"title\": \"Chemical Oxygen Demand (Mn)\", \"transform\": [{\"filter\": \"(datum.measure === 'Chemical Oxygen Demand (Mn)')\"}], \"width\": 300}, {\"mark\": \"point\", \"encoding\": {\"color\": {\"field\": \"location\", \"type\": \"nominal\"}, \"tooltip\": [{\"field\": \"value\", \"type\": \"quantitative\"}, {\"field\": \"location\", \"type\": \"nominal\"}], \"x\": {\"field\": \"sample date\", \"type\": \"temporal\"}, \"y\": {\"field\": \"value\", \"type\": \"quantitative\"}}, \"height\": 200, \"title\": \"Magnesium\", \"transform\": [{\"filter\": \"(datum.measure === 'Magnesium')\"}], \"width\": 300}, {\"mark\": \"point\", \"encoding\": {\"color\": {\"field\": \"location\", \"type\": \"nominal\"}, \"tooltip\": [{\"field\": \"value\", \"type\": \"quantitative\"}, {\"field\": \"location\", \"type\": \"nominal\"}], \"x\": {\"field\": \"sample date\", \"type\": \"temporal\"}, \"y\": {\"field\": \"value\", \"type\": \"quantitative\"}}, \"height\": 200, \"title\": \"Calcium\", \"transform\": [{\"filter\": \"(datum.measure === 'Calcium')\"}], \"width\": 300}, {\"mark\": \"point\", \"encoding\": {\"color\": {\"field\": \"location\", \"type\": \"nominal\"}, \"tooltip\": [{\"field\": \"value\", \"type\": \"quantitative\"}, {\"field\": \"location\", \"type\": \"nominal\"}], \"x\": {\"field\": \"sample date\", \"type\": \"temporal\"}, \"y\": {\"field\": \"value\", \"type\": \"quantitative\"}}, \"height\": 200, \"title\": \"Chemical Oxygen Demand (Cr)\", \"transform\": [{\"filter\": \"(datum.measure === 'Chemical Oxygen Demand (Cr)')\"}], \"width\": 300}, {\"mark\": \"point\", \"encoding\": {\"color\": {\"field\": \"location\", \"type\": \"nominal\"}, \"tooltip\": [{\"field\": \"value\", \"type\": \"quantitative\"}, {\"field\": \"location\", \"type\": \"nominal\"}], \"x\": {\"field\": \"sample date\", \"type\": \"temporal\"}, \"y\": {\"field\": \"value\", \"type\": \"quantitative\"}}, \"height\": 200, \"title\": \"Sulphates\", \"transform\": [{\"filter\": \"(datum.measure === 'Sulphates')\"}], \"width\": 300}, {\"mark\": \"point\", \"encoding\": {\"color\": {\"field\": \"location\", \"type\": \"nominal\"}, \"tooltip\": [{\"field\": \"value\", \"type\": \"quantitative\"}, {\"field\": \"location\", \"type\": \"nominal\"}], \"x\": {\"field\": \"sample date\", \"type\": \"temporal\"}, \"y\": {\"field\": \"value\", \"type\": \"quantitative\"}}, \"height\": 200, \"title\": \"Chromium\", \"transform\": [{\"filter\": \"(datum.measure === 'Chromium')\"}], \"width\": 300}, {\"mark\": \"point\", \"encoding\": {\"color\": {\"field\": \"location\", \"type\": \"nominal\"}, \"tooltip\": [{\"field\": \"value\", \"type\": \"quantitative\"}, {\"field\": \"location\", \"type\": \"nominal\"}], \"x\": {\"field\": \"sample date\", \"type\": \"temporal\"}, \"y\": {\"field\": \"value\", \"type\": \"quantitative\"}}, \"height\": 200, \"title\": \"Lead\", \"transform\": [{\"filter\": \"(datum.measure === 'Lead')\"}], \"width\": 300}, {\"mark\": \"point\", \"encoding\": {\"color\": {\"field\": \"location\", \"type\": \"nominal\"}, \"tooltip\": [{\"field\": \"value\", \"type\": \"quantitative\"}, {\"field\": \"location\", \"type\": \"nominal\"}], \"x\": {\"field\": \"sample date\", \"type\": \"temporal\"}, \"y\": {\"field\": \"value\", \"type\": \"quantitative\"}}, \"height\": 200, \"title\": \"Copper\", \"transform\": [{\"filter\": \"(datum.measure === 'Copper')\"}], \"width\": 300}, {\"mark\": \"point\", \"encoding\": {\"color\": {\"field\": \"location\", \"type\": \"nominal\"}, \"tooltip\": [{\"field\": \"value\", \"type\": \"quantitative\"}, {\"field\": \"location\", \"type\": \"nominal\"}], \"x\": {\"field\": \"sample date\", \"type\": \"temporal\"}, \"y\": {\"field\": \"value\", \"type\": \"quantitative\"}}, \"height\": 200, \"title\": \"Zinc\", \"transform\": [{\"filter\": \"(datum.measure === 'Zinc')\"}], \"width\": 300}, {\"mark\": \"point\", \"encoding\": {\"color\": {\"field\": \"location\", \"type\": \"nominal\"}, \"tooltip\": [{\"field\": \"value\", \"type\": \"quantitative\"}, {\"field\": \"location\", \"type\": \"nominal\"}], \"x\": {\"field\": \"sample date\", \"type\": \"temporal\"}, \"y\": {\"field\": \"value\", \"type\": \"quantitative\"}}, \"height\": 200, \"title\": \"Cadmium\", \"transform\": [{\"filter\": \"(datum.measure === 'Cadmium')\"}], \"width\": 300}, {\"mark\": \"point\", \"encoding\": {\"color\": {\"field\": \"location\", \"type\": \"nominal\"}, \"tooltip\": [{\"field\": \"value\", \"type\": \"quantitative\"}, {\"field\": \"location\", \"type\": \"nominal\"}], \"x\": {\"field\": \"sample date\", \"type\": \"temporal\"}, \"y\": {\"field\": \"value\", \"type\": \"quantitative\"}}, \"height\": 200, \"title\": \"Bicarbonates\", \"transform\": [{\"filter\": \"(datum.measure === 'Bicarbonates')\"}], \"width\": 300}, {\"mark\": \"point\", \"encoding\": {\"color\": {\"field\": \"location\", \"type\": \"nominal\"}, \"tooltip\": [{\"field\": \"value\", \"type\": \"quantitative\"}, {\"field\": \"location\", \"type\": \"nominal\"}], \"x\": {\"field\": \"sample date\", \"type\": \"temporal\"}, \"y\": {\"field\": \"value\", \"type\": \"quantitative\"}}, \"height\": 200, \"title\": \"Total dissolved salts\", \"transform\": [{\"filter\": \"(datum.measure === 'Total dissolved salts')\"}], \"width\": 300}, {\"mark\": \"point\", \"encoding\": {\"color\": {\"field\": \"location\", \"type\": \"nominal\"}, \"tooltip\": [{\"field\": \"value\", \"type\": \"quantitative\"}, {\"field\": \"location\", \"type\": \"nominal\"}], \"x\": {\"field\": \"sample date\", \"type\": \"temporal\"}, \"y\": {\"field\": \"value\", \"type\": \"quantitative\"}}, \"height\": 200, \"title\": \"Iron\", \"transform\": [{\"filter\": \"(datum.measure === 'Iron')\"}], \"width\": 300}, {\"mark\": \"point\", \"encoding\": {\"color\": {\"field\": \"location\", \"type\": \"nominal\"}, \"tooltip\": [{\"field\": \"value\", \"type\": \"quantitative\"}, {\"field\": \"location\", \"type\": \"nominal\"}], \"x\": {\"field\": \"sample date\", \"type\": \"temporal\"}, \"y\": {\"field\": \"value\", \"type\": \"quantitative\"}}, \"height\": 200, \"title\": \"gamma-Hexachlorocyclohexane\", \"transform\": [{\"filter\": \"(datum.measure === 'gamma-Hexachlorocyclohexane')\"}], \"width\": 300}, {\"mark\": \"point\", \"encoding\": {\"color\": {\"field\": \"location\", \"type\": \"nominal\"}, \"tooltip\": [{\"field\": \"value\", \"type\": \"quantitative\"}, {\"field\": \"location\", \"type\": \"nominal\"}], \"x\": {\"field\": \"sample date\", \"type\": \"temporal\"}, \"y\": {\"field\": \"value\", \"type\": \"quantitative\"}}, \"height\": 200, \"title\": \"Total nitrogen\", \"transform\": [{\"filter\": \"(datum.measure === 'Total nitrogen')\"}], \"width\": 300}, {\"mark\": \"point\", \"encoding\": {\"color\": {\"field\": \"location\", \"type\": \"nominal\"}, \"tooltip\": [{\"field\": \"value\", \"type\": \"quantitative\"}, {\"field\": \"location\", \"type\": \"nominal\"}], \"x\": {\"field\": \"sample date\", \"type\": \"temporal\"}, \"y\": {\"field\": \"value\", \"type\": \"quantitative\"}}, \"height\": 200, \"title\": \"Nickel\", \"transform\": [{\"filter\": \"(datum.measure === 'Nickel')\"}], \"width\": 300}, {\"mark\": \"point\", \"encoding\": {\"color\": {\"field\": \"location\", \"type\": \"nominal\"}, \"tooltip\": [{\"field\": \"value\", \"type\": \"quantitative\"}, {\"field\": \"location\", \"type\": \"nominal\"}], \"x\": {\"field\": \"sample date\", \"type\": \"temporal\"}, \"y\": {\"field\": \"value\", \"type\": \"quantitative\"}}, \"height\": 200, \"title\": \"Anionic active surfactants\", \"transform\": [{\"filter\": \"(datum.measure === 'Anionic active surfactants')\"}], \"width\": 300}, {\"mark\": \"point\", \"encoding\": {\"color\": {\"field\": \"location\", \"type\": \"nominal\"}, \"tooltip\": [{\"field\": \"value\", \"type\": \"quantitative\"}, {\"field\": \"location\", \"type\": \"nominal\"}], \"x\": {\"field\": \"sample date\", \"type\": \"temporal\"}, \"y\": {\"field\": \"value\", \"type\": \"quantitative\"}}, \"height\": 200, \"title\": \"p,p-DDT\", \"transform\": [{\"filter\": \"(datum.measure === 'p,p-DDT')\"}], \"width\": 300}, {\"mark\": \"point\", \"encoding\": {\"color\": {\"field\": \"location\", \"type\": \"nominal\"}, \"tooltip\": [{\"field\": \"value\", \"type\": \"quantitative\"}, {\"field\": \"location\", \"type\": \"nominal\"}], \"x\": {\"field\": \"sample date\", \"type\": \"temporal\"}, \"y\": {\"field\": \"value\", \"type\": \"quantitative\"}}, \"height\": 200, \"title\": \"Oxygen saturation\", \"transform\": [{\"filter\": \"(datum.measure === 'Oxygen saturation')\"}], \"width\": 300}, {\"mark\": \"point\", \"encoding\": {\"color\": {\"field\": \"location\", \"type\": \"nominal\"}, \"tooltip\": [{\"field\": \"value\", \"type\": \"quantitative\"}, {\"field\": \"location\", \"type\": \"nominal\"}], \"x\": {\"field\": \"sample date\", \"type\": \"temporal\"}, \"y\": {\"field\": \"value\", \"type\": \"quantitative\"}}, \"height\": 200, \"title\": \"Sodium\", \"transform\": [{\"filter\": \"(datum.measure === 'Sodium')\"}], \"width\": 300}, {\"mark\": \"point\", \"encoding\": {\"color\": {\"field\": \"location\", \"type\": \"nominal\"}, \"tooltip\": [{\"field\": \"value\", \"type\": \"quantitative\"}, {\"field\": \"location\", \"type\": \"nominal\"}], \"x\": {\"field\": \"sample date\", \"type\": \"temporal\"}, \"y\": {\"field\": \"value\", \"type\": \"quantitative\"}}, \"height\": 200, \"title\": \"Potassium\", \"transform\": [{\"filter\": \"(datum.measure === 'Potassium')\"}], \"width\": 300}, {\"mark\": \"point\", \"encoding\": {\"color\": {\"field\": \"location\", \"type\": \"nominal\"}, \"tooltip\": [{\"field\": \"value\", \"type\": \"quantitative\"}, {\"field\": \"location\", \"type\": \"nominal\"}], \"x\": {\"field\": \"sample date\", \"type\": \"temporal\"}, \"y\": {\"field\": \"value\", \"type\": \"quantitative\"}}, \"height\": 200, \"title\": \"Atrazine\", \"transform\": [{\"filter\": \"(datum.measure === 'Atrazine')\"}], \"width\": 300}], \"data\": {\"url\": \"http://localhost:60911/21f7e60835ec7c3a2416c8b2681b4054.json\"}, \"$schema\": \"https://vega.github.io/schema/vega-lite/v4.17.0.json\"}, {\"mode\": \"vega-lite\"});\n",
       "</script>"
      ],
      "text/plain": [
       "alt.HConcatChart(...)"
      ]
     },
     "execution_count": 68,
     "metadata": {},
     "output_type": "execute_result"
    }
   ],
   "source": [
    "large_available"
   ]
  },
  {
   "cell_type": "markdown",
   "id": "435a8d3b-f52e-4c4f-b9d7-ac932b727458",
   "metadata": {},
   "source": [
    "***3.a. Creating an array of measures having 'intermediate available data'***\n"
   ]
  },
  {
   "cell_type": "code",
   "execution_count": 70,
   "id": "d84105b7-8c52-4fca-8b32-d4f68b04aadd",
   "metadata": {},
   "outputs": [
    {
     "data": {
      "text/plain": [
       "array(['Benzo(g,h,i)perylene', 'Petroleum hydrocarbons', 'Endrin',\n",
       "       'Total coliforms', 'Macrozoobenthos', 'Dissolved silicates', 'AOX',\n",
       "       'AGOC-3A', 'Fecal streptococci ', 'Total hardness', 'PCB 138',\n",
       "       'Chlorodinine', 'Arsenic', 'Methylosmoline', 'Mercury',\n",
       "       'Fecal coliforms', 'Silica (SiO2)', 'Total organic carbon'],\n",
       "      dtype='<U22')"
      ]
     },
     "execution_count": 70,
     "metadata": {},
     "output_type": "execute_result"
    }
   ],
   "source": [
    "my_list= set(measure_list)-set(table)\n",
    "intermediate= my_list- set(least_data)-set(new_missing_data)\n",
    "\n",
    "intermediate= list(intermediate)\n",
    "intermediate= np.array(intermediate)\n",
    "intermediate"
   ]
  },
  {
   "cell_type": "markdown",
   "id": "c6b3e179-a00a-42f4-84d8-bc223a5f132f",
   "metadata": {},
   "source": [
    "***3.b. Plotting the values of measures of 'Intermediate available data' against time:***"
   ]
  },
  {
   "cell_type": "code",
   "execution_count": 71,
   "id": "cc32195d-7883-4384-be6a-003518edc684",
   "metadata": {},
   "outputs": [],
   "source": [
    "base3= alt.Chart(data).mark_point().encode(x='sample date:T',y='value:Q',color='location:N', tooltip=['value:Q','location:N']).properties(width=300,height=200)\n",
    "intermediate_series = alt.hconcat()\n",
    "for measure3 in intermediate:\n",
    "    intermediate_series|= base3.transform_filter(datum.measure==measure3).properties(title=measure3)"
   ]
  },
  {
   "cell_type": "code",
   "execution_count": 72,
   "id": "8a79829b-8fea-4755-a4ad-fbbde3c0cc2f",
   "metadata": {},
   "outputs": [
    {
     "data": {
      "text/html": [
       "\n",
       "<div id=\"altair-viz-969cef8848164cd0a981d043b7540a74\"></div>\n",
       "<script type=\"text/javascript\">\n",
       "  var VEGA_DEBUG = (typeof VEGA_DEBUG == \"undefined\") ? {} : VEGA_DEBUG;\n",
       "  (function(spec, embedOpt){\n",
       "    let outputDiv = document.currentScript.previousElementSibling;\n",
       "    if (outputDiv.id !== \"altair-viz-969cef8848164cd0a981d043b7540a74\") {\n",
       "      outputDiv = document.getElementById(\"altair-viz-969cef8848164cd0a981d043b7540a74\");\n",
       "    }\n",
       "    const paths = {\n",
       "      \"vega\": \"https://cdn.jsdelivr.net/npm//vega@5?noext\",\n",
       "      \"vega-lib\": \"https://cdn.jsdelivr.net/npm//vega-lib?noext\",\n",
       "      \"vega-lite\": \"https://cdn.jsdelivr.net/npm//vega-lite@4.17.0?noext\",\n",
       "      \"vega-embed\": \"https://cdn.jsdelivr.net/npm//vega-embed@6?noext\",\n",
       "    };\n",
       "\n",
       "    function maybeLoadScript(lib, version) {\n",
       "      var key = `${lib.replace(\"-\", \"\")}_version`;\n",
       "      return (VEGA_DEBUG[key] == version) ?\n",
       "        Promise.resolve(paths[lib]) :\n",
       "        new Promise(function(resolve, reject) {\n",
       "          var s = document.createElement('script');\n",
       "          document.getElementsByTagName(\"head\")[0].appendChild(s);\n",
       "          s.async = true;\n",
       "          s.onload = () => {\n",
       "            VEGA_DEBUG[key] = version;\n",
       "            return resolve(paths[lib]);\n",
       "          };\n",
       "          s.onerror = () => reject(`Error loading script: ${paths[lib]}`);\n",
       "          s.src = paths[lib];\n",
       "        });\n",
       "    }\n",
       "\n",
       "    function showError(err) {\n",
       "      outputDiv.innerHTML = `<div class=\"error\" style=\"color:red;\">${err}</div>`;\n",
       "      throw err;\n",
       "    }\n",
       "\n",
       "    function displayChart(vegaEmbed) {\n",
       "      vegaEmbed(outputDiv, spec, embedOpt)\n",
       "        .catch(err => showError(`Javascript Error: ${err.message}<br>This usually means there's a typo in your chart specification. See the javascript console for the full traceback.`));\n",
       "    }\n",
       "\n",
       "    if(typeof define === \"function\" && define.amd) {\n",
       "      requirejs.config({paths});\n",
       "      require([\"vega-embed\"], displayChart, err => showError(`Error loading script: ${err.message}`));\n",
       "    } else {\n",
       "      maybeLoadScript(\"vega\", \"5\")\n",
       "        .then(() => maybeLoadScript(\"vega-lite\", \"4.17.0\"))\n",
       "        .then(() => maybeLoadScript(\"vega-embed\", \"6\"))\n",
       "        .catch(showError)\n",
       "        .then(() => displayChart(vegaEmbed));\n",
       "    }\n",
       "  })({\"config\": {\"view\": {\"continuousWidth\": 400, \"continuousHeight\": 300}}, \"hconcat\": [{\"mark\": \"point\", \"encoding\": {\"color\": {\"field\": \"location\", \"type\": \"nominal\"}, \"tooltip\": [{\"field\": \"value\", \"type\": \"quantitative\"}, {\"field\": \"location\", \"type\": \"nominal\"}], \"x\": {\"field\": \"sample date\", \"type\": \"temporal\"}, \"y\": {\"field\": \"value\", \"type\": \"quantitative\"}}, \"height\": 200, \"title\": \"Benzo(g,h,i)perylene\", \"transform\": [{\"filter\": \"(datum.measure === 'Benzo(g,h,i)perylene')\"}], \"width\": 300}, {\"mark\": \"point\", \"encoding\": {\"color\": {\"field\": \"location\", \"type\": \"nominal\"}, \"tooltip\": [{\"field\": \"value\", \"type\": \"quantitative\"}, {\"field\": \"location\", \"type\": \"nominal\"}], \"x\": {\"field\": \"sample date\", \"type\": \"temporal\"}, \"y\": {\"field\": \"value\", \"type\": \"quantitative\"}}, \"height\": 200, \"title\": \"Petroleum hydrocarbons\", \"transform\": [{\"filter\": \"(datum.measure === 'Petroleum hydrocarbons')\"}], \"width\": 300}, {\"mark\": \"point\", \"encoding\": {\"color\": {\"field\": \"location\", \"type\": \"nominal\"}, \"tooltip\": [{\"field\": \"value\", \"type\": \"quantitative\"}, {\"field\": \"location\", \"type\": \"nominal\"}], \"x\": {\"field\": \"sample date\", \"type\": \"temporal\"}, \"y\": {\"field\": \"value\", \"type\": \"quantitative\"}}, \"height\": 200, \"title\": \"Endrin\", \"transform\": [{\"filter\": \"(datum.measure === 'Endrin')\"}], \"width\": 300}, {\"mark\": \"point\", \"encoding\": {\"color\": {\"field\": \"location\", \"type\": \"nominal\"}, \"tooltip\": [{\"field\": \"value\", \"type\": \"quantitative\"}, {\"field\": \"location\", \"type\": \"nominal\"}], \"x\": {\"field\": \"sample date\", \"type\": \"temporal\"}, \"y\": {\"field\": \"value\", \"type\": \"quantitative\"}}, \"height\": 200, \"title\": \"Total coliforms\", \"transform\": [{\"filter\": \"(datum.measure === 'Total coliforms')\"}], \"width\": 300}, {\"mark\": \"point\", \"encoding\": {\"color\": {\"field\": \"location\", \"type\": \"nominal\"}, \"tooltip\": [{\"field\": \"value\", \"type\": \"quantitative\"}, {\"field\": \"location\", \"type\": \"nominal\"}], \"x\": {\"field\": \"sample date\", \"type\": \"temporal\"}, \"y\": {\"field\": \"value\", \"type\": \"quantitative\"}}, \"height\": 200, \"title\": \"Macrozoobenthos\", \"transform\": [{\"filter\": \"(datum.measure === 'Macrozoobenthos')\"}], \"width\": 300}, {\"mark\": \"point\", \"encoding\": {\"color\": {\"field\": \"location\", \"type\": \"nominal\"}, \"tooltip\": [{\"field\": \"value\", \"type\": \"quantitative\"}, {\"field\": \"location\", \"type\": \"nominal\"}], \"x\": {\"field\": \"sample date\", \"type\": \"temporal\"}, \"y\": {\"field\": \"value\", \"type\": \"quantitative\"}}, \"height\": 200, \"title\": \"Dissolved silicates\", \"transform\": [{\"filter\": \"(datum.measure === 'Dissolved silicates')\"}], \"width\": 300}, {\"mark\": \"point\", \"encoding\": {\"color\": {\"field\": \"location\", \"type\": \"nominal\"}, \"tooltip\": [{\"field\": \"value\", \"type\": \"quantitative\"}, {\"field\": \"location\", \"type\": \"nominal\"}], \"x\": {\"field\": \"sample date\", \"type\": \"temporal\"}, \"y\": {\"field\": \"value\", \"type\": \"quantitative\"}}, \"height\": 200, \"title\": \"AOX\", \"transform\": [{\"filter\": \"(datum.measure === 'AOX')\"}], \"width\": 300}, {\"mark\": \"point\", \"encoding\": {\"color\": {\"field\": \"location\", \"type\": \"nominal\"}, \"tooltip\": [{\"field\": \"value\", \"type\": \"quantitative\"}, {\"field\": \"location\", \"type\": \"nominal\"}], \"x\": {\"field\": \"sample date\", \"type\": \"temporal\"}, \"y\": {\"field\": \"value\", \"type\": \"quantitative\"}}, \"height\": 200, \"title\": \"AGOC-3A\", \"transform\": [{\"filter\": \"(datum.measure === 'AGOC-3A')\"}], \"width\": 300}, {\"mark\": \"point\", \"encoding\": {\"color\": {\"field\": \"location\", \"type\": \"nominal\"}, \"tooltip\": [{\"field\": \"value\", \"type\": \"quantitative\"}, {\"field\": \"location\", \"type\": \"nominal\"}], \"x\": {\"field\": \"sample date\", \"type\": \"temporal\"}, \"y\": {\"field\": \"value\", \"type\": \"quantitative\"}}, \"height\": 200, \"title\": \"Fecal streptococci \", \"transform\": [{\"filter\": \"(datum.measure === 'Fecal streptococci ')\"}], \"width\": 300}, {\"mark\": \"point\", \"encoding\": {\"color\": {\"field\": \"location\", \"type\": \"nominal\"}, \"tooltip\": [{\"field\": \"value\", \"type\": \"quantitative\"}, {\"field\": \"location\", \"type\": \"nominal\"}], \"x\": {\"field\": \"sample date\", \"type\": \"temporal\"}, \"y\": {\"field\": \"value\", \"type\": \"quantitative\"}}, \"height\": 200, \"title\": \"Total hardness\", \"transform\": [{\"filter\": \"(datum.measure === 'Total hardness')\"}], \"width\": 300}, {\"mark\": \"point\", \"encoding\": {\"color\": {\"field\": \"location\", \"type\": \"nominal\"}, \"tooltip\": [{\"field\": \"value\", \"type\": \"quantitative\"}, {\"field\": \"location\", \"type\": \"nominal\"}], \"x\": {\"field\": \"sample date\", \"type\": \"temporal\"}, \"y\": {\"field\": \"value\", \"type\": \"quantitative\"}}, \"height\": 200, \"title\": \"PCB 138\", \"transform\": [{\"filter\": \"(datum.measure === 'PCB 138')\"}], \"width\": 300}, {\"mark\": \"point\", \"encoding\": {\"color\": {\"field\": \"location\", \"type\": \"nominal\"}, \"tooltip\": [{\"field\": \"value\", \"type\": \"quantitative\"}, {\"field\": \"location\", \"type\": \"nominal\"}], \"x\": {\"field\": \"sample date\", \"type\": \"temporal\"}, \"y\": {\"field\": \"value\", \"type\": \"quantitative\"}}, \"height\": 200, \"title\": \"Chlorodinine\", \"transform\": [{\"filter\": \"(datum.measure === 'Chlorodinine')\"}], \"width\": 300}, {\"mark\": \"point\", \"encoding\": {\"color\": {\"field\": \"location\", \"type\": \"nominal\"}, \"tooltip\": [{\"field\": \"value\", \"type\": \"quantitative\"}, {\"field\": \"location\", \"type\": \"nominal\"}], \"x\": {\"field\": \"sample date\", \"type\": \"temporal\"}, \"y\": {\"field\": \"value\", \"type\": \"quantitative\"}}, \"height\": 200, \"title\": \"Arsenic\", \"transform\": [{\"filter\": \"(datum.measure === 'Arsenic')\"}], \"width\": 300}, {\"mark\": \"point\", \"encoding\": {\"color\": {\"field\": \"location\", \"type\": \"nominal\"}, \"tooltip\": [{\"field\": \"value\", \"type\": \"quantitative\"}, {\"field\": \"location\", \"type\": \"nominal\"}], \"x\": {\"field\": \"sample date\", \"type\": \"temporal\"}, \"y\": {\"field\": \"value\", \"type\": \"quantitative\"}}, \"height\": 200, \"title\": \"Methylosmoline\", \"transform\": [{\"filter\": \"(datum.measure === 'Methylosmoline')\"}], \"width\": 300}, {\"mark\": \"point\", \"encoding\": {\"color\": {\"field\": \"location\", \"type\": \"nominal\"}, \"tooltip\": [{\"field\": \"value\", \"type\": \"quantitative\"}, {\"field\": \"location\", \"type\": \"nominal\"}], \"x\": {\"field\": \"sample date\", \"type\": \"temporal\"}, \"y\": {\"field\": \"value\", \"type\": \"quantitative\"}}, \"height\": 200, \"title\": \"Mercury\", \"transform\": [{\"filter\": \"(datum.measure === 'Mercury')\"}], \"width\": 300}, {\"mark\": \"point\", \"encoding\": {\"color\": {\"field\": \"location\", \"type\": \"nominal\"}, \"tooltip\": [{\"field\": \"value\", \"type\": \"quantitative\"}, {\"field\": \"location\", \"type\": \"nominal\"}], \"x\": {\"field\": \"sample date\", \"type\": \"temporal\"}, \"y\": {\"field\": \"value\", \"type\": \"quantitative\"}}, \"height\": 200, \"title\": \"Fecal coliforms\", \"transform\": [{\"filter\": \"(datum.measure === 'Fecal coliforms')\"}], \"width\": 300}, {\"mark\": \"point\", \"encoding\": {\"color\": {\"field\": \"location\", \"type\": \"nominal\"}, \"tooltip\": [{\"field\": \"value\", \"type\": \"quantitative\"}, {\"field\": \"location\", \"type\": \"nominal\"}], \"x\": {\"field\": \"sample date\", \"type\": \"temporal\"}, \"y\": {\"field\": \"value\", \"type\": \"quantitative\"}}, \"height\": 200, \"title\": \"Silica (SiO2)\", \"transform\": [{\"filter\": \"(datum.measure === 'Silica (SiO2)')\"}], \"width\": 300}, {\"mark\": \"point\", \"encoding\": {\"color\": {\"field\": \"location\", \"type\": \"nominal\"}, \"tooltip\": [{\"field\": \"value\", \"type\": \"quantitative\"}, {\"field\": \"location\", \"type\": \"nominal\"}], \"x\": {\"field\": \"sample date\", \"type\": \"temporal\"}, \"y\": {\"field\": \"value\", \"type\": \"quantitative\"}}, \"height\": 200, \"title\": \"Total organic carbon\", \"transform\": [{\"filter\": \"(datum.measure === 'Total organic carbon')\"}], \"width\": 300}], \"data\": {\"url\": \"http://localhost:60911/21f7e60835ec7c3a2416c8b2681b4054.json\"}, \"$schema\": \"https://vega.github.io/schema/vega-lite/v4.17.0.json\"}, {\"mode\": \"vega-lite\"});\n",
       "</script>"
      ],
      "text/plain": [
       "alt.HConcatChart(...)"
      ]
     },
     "execution_count": 72,
     "metadata": {},
     "output_type": "execute_result"
    }
   ],
   "source": [
    "intermediate_series"
   ]
  },
  {
   "cell_type": "markdown",
   "id": "1a8182aa-683e-4f3a-9e7c-642229a88303",
   "metadata": {},
   "source": [
    "Noted down 15 measures and respective locations showing different behaviour wrt time and other locations:\n",
    "Tetrachloromethane,Total dissolved salts,Macrozoobenthos,AGOC-3A,Copper,Nickel,Iron,Sodium,Chromium,Orthophosphate Phosphorus,Chlorodinine."
   ]
  },
  {
   "cell_type": "code",
   "execution_count": 73,
   "id": "4c61515e-18f5-45de-9cbe-ce39c7e063fc",
   "metadata": {},
   "outputs": [],
   "source": [
    "unrealistic=['Tetrachloromethane','Total dissolved salts','Macrozoobenthos','AGOC-3A','Copper','Nickel','Iron','Chlorodinine','Cadmium','Pottassium','Nitrites']\n",
    "\n",
    "\n"
   ]
  },
  {
   "cell_type": "code",
   "execution_count": 74,
   "id": "33a445c0-6f19-489d-be07-ef5338d86659",
   "metadata": {},
   "outputs": [],
   "source": [
    "base4= alt.Chart(data).mark_line().encode(x='sample date:O',y='value:Q',color='location:N',shape='location:N',tooltip=['value:Q','location:N','sample date:O'])\n",
    "scales= alt.selection_interval(bind='scales')\n",
    "\n",
    "unrealistic_series= alt.hconcat()\n",
    "for measures in unrealistic:\n",
    "    unrealistic_series|= base4.transform_filter(datum.measure==measures).properties(width=500,height=400,title=measures)\n",
    "    "
   ]
  },
  {
   "cell_type": "code",
   "execution_count": 75,
   "id": "527de37f-ae56-4f8b-8157-5193ba955dc0",
   "metadata": {},
   "outputs": [
    {
     "data": {
      "text/html": [
       "\n",
       "<div id=\"altair-viz-198e891a359f4609909823c32af05df3\"></div>\n",
       "<script type=\"text/javascript\">\n",
       "  var VEGA_DEBUG = (typeof VEGA_DEBUG == \"undefined\") ? {} : VEGA_DEBUG;\n",
       "  (function(spec, embedOpt){\n",
       "    let outputDiv = document.currentScript.previousElementSibling;\n",
       "    if (outputDiv.id !== \"altair-viz-198e891a359f4609909823c32af05df3\") {\n",
       "      outputDiv = document.getElementById(\"altair-viz-198e891a359f4609909823c32af05df3\");\n",
       "    }\n",
       "    const paths = {\n",
       "      \"vega\": \"https://cdn.jsdelivr.net/npm//vega@5?noext\",\n",
       "      \"vega-lib\": \"https://cdn.jsdelivr.net/npm//vega-lib?noext\",\n",
       "      \"vega-lite\": \"https://cdn.jsdelivr.net/npm//vega-lite@4.17.0?noext\",\n",
       "      \"vega-embed\": \"https://cdn.jsdelivr.net/npm//vega-embed@6?noext\",\n",
       "    };\n",
       "\n",
       "    function maybeLoadScript(lib, version) {\n",
       "      var key = `${lib.replace(\"-\", \"\")}_version`;\n",
       "      return (VEGA_DEBUG[key] == version) ?\n",
       "        Promise.resolve(paths[lib]) :\n",
       "        new Promise(function(resolve, reject) {\n",
       "          var s = document.createElement('script');\n",
       "          document.getElementsByTagName(\"head\")[0].appendChild(s);\n",
       "          s.async = true;\n",
       "          s.onload = () => {\n",
       "            VEGA_DEBUG[key] = version;\n",
       "            return resolve(paths[lib]);\n",
       "          };\n",
       "          s.onerror = () => reject(`Error loading script: ${paths[lib]}`);\n",
       "          s.src = paths[lib];\n",
       "        });\n",
       "    }\n",
       "\n",
       "    function showError(err) {\n",
       "      outputDiv.innerHTML = `<div class=\"error\" style=\"color:red;\">${err}</div>`;\n",
       "      throw err;\n",
       "    }\n",
       "\n",
       "    function displayChart(vegaEmbed) {\n",
       "      vegaEmbed(outputDiv, spec, embedOpt)\n",
       "        .catch(err => showError(`Javascript Error: ${err.message}<br>This usually means there's a typo in your chart specification. See the javascript console for the full traceback.`));\n",
       "    }\n",
       "\n",
       "    if(typeof define === \"function\" && define.amd) {\n",
       "      requirejs.config({paths});\n",
       "      require([\"vega-embed\"], displayChart, err => showError(`Error loading script: ${err.message}`));\n",
       "    } else {\n",
       "      maybeLoadScript(\"vega\", \"5\")\n",
       "        .then(() => maybeLoadScript(\"vega-lite\", \"4.17.0\"))\n",
       "        .then(() => maybeLoadScript(\"vega-embed\", \"6\"))\n",
       "        .catch(showError)\n",
       "        .then(() => displayChart(vegaEmbed));\n",
       "    }\n",
       "  })({\"config\": {\"view\": {\"continuousWidth\": 400, \"continuousHeight\": 300}}, \"hconcat\": [{\"mark\": \"line\", \"encoding\": {\"color\": {\"field\": \"location\", \"type\": \"nominal\"}, \"shape\": {\"field\": \"location\", \"type\": \"nominal\"}, \"tooltip\": [{\"field\": \"value\", \"type\": \"quantitative\"}, {\"field\": \"location\", \"type\": \"nominal\"}, {\"field\": \"sample date\", \"type\": \"ordinal\"}], \"x\": {\"field\": \"sample date\", \"type\": \"ordinal\"}, \"y\": {\"field\": \"value\", \"type\": \"quantitative\"}}, \"height\": 400, \"title\": \"Tetrachloromethane\", \"transform\": [{\"filter\": \"(datum.measure === 'Tetrachloromethane')\"}], \"width\": 500}, {\"mark\": \"line\", \"encoding\": {\"color\": {\"field\": \"location\", \"type\": \"nominal\"}, \"shape\": {\"field\": \"location\", \"type\": \"nominal\"}, \"tooltip\": [{\"field\": \"value\", \"type\": \"quantitative\"}, {\"field\": \"location\", \"type\": \"nominal\"}, {\"field\": \"sample date\", \"type\": \"ordinal\"}], \"x\": {\"field\": \"sample date\", \"type\": \"ordinal\"}, \"y\": {\"field\": \"value\", \"type\": \"quantitative\"}}, \"height\": 400, \"title\": \"Total dissolved salts\", \"transform\": [{\"filter\": \"(datum.measure === 'Total dissolved salts')\"}], \"width\": 500}, {\"mark\": \"line\", \"encoding\": {\"color\": {\"field\": \"location\", \"type\": \"nominal\"}, \"shape\": {\"field\": \"location\", \"type\": \"nominal\"}, \"tooltip\": [{\"field\": \"value\", \"type\": \"quantitative\"}, {\"field\": \"location\", \"type\": \"nominal\"}, {\"field\": \"sample date\", \"type\": \"ordinal\"}], \"x\": {\"field\": \"sample date\", \"type\": \"ordinal\"}, \"y\": {\"field\": \"value\", \"type\": \"quantitative\"}}, \"height\": 400, \"title\": \"Macrozoobenthos\", \"transform\": [{\"filter\": \"(datum.measure === 'Macrozoobenthos')\"}], \"width\": 500}, {\"mark\": \"line\", \"encoding\": {\"color\": {\"field\": \"location\", \"type\": \"nominal\"}, \"shape\": {\"field\": \"location\", \"type\": \"nominal\"}, \"tooltip\": [{\"field\": \"value\", \"type\": \"quantitative\"}, {\"field\": \"location\", \"type\": \"nominal\"}, {\"field\": \"sample date\", \"type\": \"ordinal\"}], \"x\": {\"field\": \"sample date\", \"type\": \"ordinal\"}, \"y\": {\"field\": \"value\", \"type\": \"quantitative\"}}, \"height\": 400, \"title\": \"AGOC-3A\", \"transform\": [{\"filter\": \"(datum.measure === 'AGOC-3A')\"}], \"width\": 500}, {\"mark\": \"line\", \"encoding\": {\"color\": {\"field\": \"location\", \"type\": \"nominal\"}, \"shape\": {\"field\": \"location\", \"type\": \"nominal\"}, \"tooltip\": [{\"field\": \"value\", \"type\": \"quantitative\"}, {\"field\": \"location\", \"type\": \"nominal\"}, {\"field\": \"sample date\", \"type\": \"ordinal\"}], \"x\": {\"field\": \"sample date\", \"type\": \"ordinal\"}, \"y\": {\"field\": \"value\", \"type\": \"quantitative\"}}, \"height\": 400, \"title\": \"Copper\", \"transform\": [{\"filter\": \"(datum.measure === 'Copper')\"}], \"width\": 500}, {\"mark\": \"line\", \"encoding\": {\"color\": {\"field\": \"location\", \"type\": \"nominal\"}, \"shape\": {\"field\": \"location\", \"type\": \"nominal\"}, \"tooltip\": [{\"field\": \"value\", \"type\": \"quantitative\"}, {\"field\": \"location\", \"type\": \"nominal\"}, {\"field\": \"sample date\", \"type\": \"ordinal\"}], \"x\": {\"field\": \"sample date\", \"type\": \"ordinal\"}, \"y\": {\"field\": \"value\", \"type\": \"quantitative\"}}, \"height\": 400, \"title\": \"Nickel\", \"transform\": [{\"filter\": \"(datum.measure === 'Nickel')\"}], \"width\": 500}, {\"mark\": \"line\", \"encoding\": {\"color\": {\"field\": \"location\", \"type\": \"nominal\"}, \"shape\": {\"field\": \"location\", \"type\": \"nominal\"}, \"tooltip\": [{\"field\": \"value\", \"type\": \"quantitative\"}, {\"field\": \"location\", \"type\": \"nominal\"}, {\"field\": \"sample date\", \"type\": \"ordinal\"}], \"x\": {\"field\": \"sample date\", \"type\": \"ordinal\"}, \"y\": {\"field\": \"value\", \"type\": \"quantitative\"}}, \"height\": 400, \"title\": \"Iron\", \"transform\": [{\"filter\": \"(datum.measure === 'Iron')\"}], \"width\": 500}, {\"mark\": \"line\", \"encoding\": {\"color\": {\"field\": \"location\", \"type\": \"nominal\"}, \"shape\": {\"field\": \"location\", \"type\": \"nominal\"}, \"tooltip\": [{\"field\": \"value\", \"type\": \"quantitative\"}, {\"field\": \"location\", \"type\": \"nominal\"}, {\"field\": \"sample date\", \"type\": \"ordinal\"}], \"x\": {\"field\": \"sample date\", \"type\": \"ordinal\"}, \"y\": {\"field\": \"value\", \"type\": \"quantitative\"}}, \"height\": 400, \"title\": \"Chlorodinine\", \"transform\": [{\"filter\": \"(datum.measure === 'Chlorodinine')\"}], \"width\": 500}, {\"mark\": \"line\", \"encoding\": {\"color\": {\"field\": \"location\", \"type\": \"nominal\"}, \"shape\": {\"field\": \"location\", \"type\": \"nominal\"}, \"tooltip\": [{\"field\": \"value\", \"type\": \"quantitative\"}, {\"field\": \"location\", \"type\": \"nominal\"}, {\"field\": \"sample date\", \"type\": \"ordinal\"}], \"x\": {\"field\": \"sample date\", \"type\": \"ordinal\"}, \"y\": {\"field\": \"value\", \"type\": \"quantitative\"}}, \"height\": 400, \"title\": \"Cadmium\", \"transform\": [{\"filter\": \"(datum.measure === 'Cadmium')\"}], \"width\": 500}, {\"mark\": \"line\", \"encoding\": {\"color\": {\"field\": \"location\", \"type\": \"nominal\"}, \"shape\": {\"field\": \"location\", \"type\": \"nominal\"}, \"tooltip\": [{\"field\": \"value\", \"type\": \"quantitative\"}, {\"field\": \"location\", \"type\": \"nominal\"}, {\"field\": \"sample date\", \"type\": \"ordinal\"}], \"x\": {\"field\": \"sample date\", \"type\": \"ordinal\"}, \"y\": {\"field\": \"value\", \"type\": \"quantitative\"}}, \"height\": 400, \"title\": \"Pottassium\", \"transform\": [{\"filter\": \"(datum.measure === 'Pottassium')\"}], \"width\": 500}, {\"mark\": \"line\", \"encoding\": {\"color\": {\"field\": \"location\", \"type\": \"nominal\"}, \"shape\": {\"field\": \"location\", \"type\": \"nominal\"}, \"tooltip\": [{\"field\": \"value\", \"type\": \"quantitative\"}, {\"field\": \"location\", \"type\": \"nominal\"}, {\"field\": \"sample date\", \"type\": \"ordinal\"}], \"x\": {\"field\": \"sample date\", \"type\": \"ordinal\"}, \"y\": {\"field\": \"value\", \"type\": \"quantitative\"}}, \"height\": 400, \"title\": \"Nitrites\", \"transform\": [{\"filter\": \"(datum.measure === 'Nitrites')\"}], \"width\": 500}], \"data\": {\"url\": \"http://localhost:60911/21f7e60835ec7c3a2416c8b2681b4054.json\"}, \"$schema\": \"https://vega.github.io/schema/vega-lite/v4.17.0.json\"}, {\"mode\": \"vega-lite\"});\n",
       "</script>"
      ],
      "text/plain": [
       "alt.HConcatChart(...)"
      ]
     },
     "execution_count": 75,
     "metadata": {},
     "output_type": "execute_result"
    }
   ],
   "source": [
    " unrealistic_series"
   ]
  },
  {
   "cell_type": "code",
   "execution_count": 77,
   "id": "8d9084eb-a4cb-497d-bb7c-66b40050f806",
   "metadata": {},
   "outputs": [],
   "source": [
    "##Refined my list of measures with unrealistic values\n",
    "\n",
    "\n",
    "new_unrealistic=['Tetrachloromethane','Total dissolved salts','Macrozoobenthos','AGOC-3A','Copper','Iron']\n"
   ]
  },
  {
   "cell_type": "code",
   "execution_count": 78,
   "id": "82360f57-4ecf-4dc4-b500-b14a02807a39",
   "metadata": {},
   "outputs": [
    {
     "data": {
      "text/html": [
       "\n",
       "<div id=\"altair-viz-31911bae385046a6a67bb2f52396d575\"></div>\n",
       "<script type=\"text/javascript\">\n",
       "  var VEGA_DEBUG = (typeof VEGA_DEBUG == \"undefined\") ? {} : VEGA_DEBUG;\n",
       "  (function(spec, embedOpt){\n",
       "    let outputDiv = document.currentScript.previousElementSibling;\n",
       "    if (outputDiv.id !== \"altair-viz-31911bae385046a6a67bb2f52396d575\") {\n",
       "      outputDiv = document.getElementById(\"altair-viz-31911bae385046a6a67bb2f52396d575\");\n",
       "    }\n",
       "    const paths = {\n",
       "      \"vega\": \"https://cdn.jsdelivr.net/npm//vega@5?noext\",\n",
       "      \"vega-lib\": \"https://cdn.jsdelivr.net/npm//vega-lib?noext\",\n",
       "      \"vega-lite\": \"https://cdn.jsdelivr.net/npm//vega-lite@4.17.0?noext\",\n",
       "      \"vega-embed\": \"https://cdn.jsdelivr.net/npm//vega-embed@6?noext\",\n",
       "    };\n",
       "\n",
       "    function maybeLoadScript(lib, version) {\n",
       "      var key = `${lib.replace(\"-\", \"\")}_version`;\n",
       "      return (VEGA_DEBUG[key] == version) ?\n",
       "        Promise.resolve(paths[lib]) :\n",
       "        new Promise(function(resolve, reject) {\n",
       "          var s = document.createElement('script');\n",
       "          document.getElementsByTagName(\"head\")[0].appendChild(s);\n",
       "          s.async = true;\n",
       "          s.onload = () => {\n",
       "            VEGA_DEBUG[key] = version;\n",
       "            return resolve(paths[lib]);\n",
       "          };\n",
       "          s.onerror = () => reject(`Error loading script: ${paths[lib]}`);\n",
       "          s.src = paths[lib];\n",
       "        });\n",
       "    }\n",
       "\n",
       "    function showError(err) {\n",
       "      outputDiv.innerHTML = `<div class=\"error\" style=\"color:red;\">${err}</div>`;\n",
       "      throw err;\n",
       "    }\n",
       "\n",
       "    function displayChart(vegaEmbed) {\n",
       "      vegaEmbed(outputDiv, spec, embedOpt)\n",
       "        .catch(err => showError(`Javascript Error: ${err.message}<br>This usually means there's a typo in your chart specification. See the javascript console for the full traceback.`));\n",
       "    }\n",
       "\n",
       "    if(typeof define === \"function\" && define.amd) {\n",
       "      requirejs.config({paths});\n",
       "      require([\"vega-embed\"], displayChart, err => showError(`Error loading script: ${err.message}`));\n",
       "    } else {\n",
       "      maybeLoadScript(\"vega\", \"5\")\n",
       "        .then(() => maybeLoadScript(\"vega-lite\", \"4.17.0\"))\n",
       "        .then(() => maybeLoadScript(\"vega-embed\", \"6\"))\n",
       "        .catch(showError)\n",
       "        .then(() => displayChart(vegaEmbed));\n",
       "    }\n",
       "  })({\"config\": {\"view\": {\"continuousWidth\": 400, \"continuousHeight\": 300}}, \"data\": {\"url\": \"http://localhost:60911/21f7e60835ec7c3a2416c8b2681b4054.json\"}, \"mark\": \"line\", \"encoding\": {\"color\": {\"field\": \"location\", \"type\": \"nominal\"}, \"shape\": {\"field\": \"location\", \"type\": \"nominal\"}, \"tooltip\": [{\"field\": \"location\", \"type\": \"nominal\"}, {\"field\": \"value\", \"type\": \"quantitative\"}, {\"field\": \"sample date\", \"type\": \"nominal\"}], \"x\": {\"field\": \"sample date\", \"type\": \"ordinal\"}, \"y\": {\"field\": \"value\", \"type\": \"quantitative\"}}, \"selection\": {\"selector004\": {\"type\": \"interval\", \"bind\": \"scales\"}}, \"title\": \"Macrozoobenthos\", \"transform\": [{\"filter\": \"(datum.measure === 'Macrozoobenthos')\"}, {\"filter\": \"(datum.location === 'Chai')\"}], \"$schema\": \"https://vega.github.io/schema/vega-lite/v4.17.0.json\"}, {\"mode\": \"vega-lite\"});\n",
       "</script>"
      ],
      "text/plain": [
       "alt.Chart(...)"
      ]
     },
     "execution_count": 78,
     "metadata": {},
     "output_type": "execute_result"
    }
   ],
   "source": [
    "macro= alt.Chart(data).mark_line().encode(x='sample date:O',y='value:Q',color='location:N',shape='location:N',tooltip=['location','value','sample date']).transform_filter(datum.measure=='Macrozoobenthos')\n",
    "macrozoobenthos= macro.transform_filter(datum.location=='Chai').properties(title='Macrozoobenthos')\n",
    "\n",
    "macro_con= macrozoobenthos.properties(width=300,height=200)\n",
    "\n",
    "macrozoobenthos.add_selection(scales)"
   ]
  },
  {
   "cell_type": "code",
   "execution_count": 33,
   "id": "5ca96fa1-0dc9-4f20-9e39-70a32150c968",
   "metadata": {
    "scrolled": true,
    "tags": []
   },
   "outputs": [
    {
     "data": {
      "text/html": [
       "\n",
       "<div id=\"altair-viz-5c694a645f2b47c080898315f595b259\"></div>\n",
       "<script type=\"text/javascript\">\n",
       "  var VEGA_DEBUG = (typeof VEGA_DEBUG == \"undefined\") ? {} : VEGA_DEBUG;\n",
       "  (function(spec, embedOpt){\n",
       "    let outputDiv = document.currentScript.previousElementSibling;\n",
       "    if (outputDiv.id !== \"altair-viz-5c694a645f2b47c080898315f595b259\") {\n",
       "      outputDiv = document.getElementById(\"altair-viz-5c694a645f2b47c080898315f595b259\");\n",
       "    }\n",
       "    const paths = {\n",
       "      \"vega\": \"https://cdn.jsdelivr.net/npm//vega@5?noext\",\n",
       "      \"vega-lib\": \"https://cdn.jsdelivr.net/npm//vega-lib?noext\",\n",
       "      \"vega-lite\": \"https://cdn.jsdelivr.net/npm//vega-lite@4.17.0?noext\",\n",
       "      \"vega-embed\": \"https://cdn.jsdelivr.net/npm//vega-embed@6?noext\",\n",
       "    };\n",
       "\n",
       "    function maybeLoadScript(lib, version) {\n",
       "      var key = `${lib.replace(\"-\", \"\")}_version`;\n",
       "      return (VEGA_DEBUG[key] == version) ?\n",
       "        Promise.resolve(paths[lib]) :\n",
       "        new Promise(function(resolve, reject) {\n",
       "          var s = document.createElement('script');\n",
       "          document.getElementsByTagName(\"head\")[0].appendChild(s);\n",
       "          s.async = true;\n",
       "          s.onload = () => {\n",
       "            VEGA_DEBUG[key] = version;\n",
       "            return resolve(paths[lib]);\n",
       "          };\n",
       "          s.onerror = () => reject(`Error loading script: ${paths[lib]}`);\n",
       "          s.src = paths[lib];\n",
       "        });\n",
       "    }\n",
       "\n",
       "    function showError(err) {\n",
       "      outputDiv.innerHTML = `<div class=\"error\" style=\"color:red;\">${err}</div>`;\n",
       "      throw err;\n",
       "    }\n",
       "\n",
       "    function displayChart(vegaEmbed) {\n",
       "      vegaEmbed(outputDiv, spec, embedOpt)\n",
       "        .catch(err => showError(`Javascript Error: ${err.message}<br>This usually means there's a typo in your chart specification. See the javascript console for the full traceback.`));\n",
       "    }\n",
       "\n",
       "    if(typeof define === \"function\" && define.amd) {\n",
       "      requirejs.config({paths});\n",
       "      require([\"vega-embed\"], displayChart, err => showError(`Error loading script: ${err.message}`));\n",
       "    } else {\n",
       "      maybeLoadScript(\"vega\", \"5\")\n",
       "        .then(() => maybeLoadScript(\"vega-lite\", \"4.17.0\"))\n",
       "        .then(() => maybeLoadScript(\"vega-embed\", \"6\"))\n",
       "        .catch(showError)\n",
       "        .then(() => displayChart(vegaEmbed));\n",
       "    }\n",
       "  })({\"config\": {\"view\": {\"continuousWidth\": 400, \"continuousHeight\": 300}}, \"data\": {\"url\": \"http://localhost:60911/21f7e60835ec7c3a2416c8b2681b4054.json\"}, \"mark\": \"line\", \"encoding\": {\"color\": {\"field\": \"measure\", \"type\": \"nominal\"}, \"shape\": {\"field\": \"location\", \"type\": \"nominal\"}, \"tooltip\": [{\"field\": \"value\", \"type\": \"quantitative\"}, {\"field\": \"measure\", \"type\": \"nominal\"}, {\"field\": \"location\", \"type\": \"nominal\"}, {\"field\": \"sample date\", \"type\": \"nominal\"}], \"x\": {\"field\": \"sample date\", \"type\": \"ordinal\"}, \"y\": {\"field\": \"value\", \"type\": \"quantitative\"}}, \"selection\": {\"selector003\": {\"type\": \"interval\", \"bind\": \"scales\"}}, \"title\": \"Copper at Kohsoom and Total dissolved salts at Boonsri\", \"transform\": [{\"filter\": {\"field\": \"measure\", \"oneOf\": [\"Copper\", \"Total dissolved salts\"]}}, {\"filter\": {\"field\": \"location\", \"oneOf\": [\"Kohsoom\", \"Boonsri\"]}}], \"$schema\": \"https://vega.github.io/schema/vega-lite/v4.17.0.json\"}, {\"mode\": \"vega-lite\"});\n",
       "</script>"
      ],
      "text/plain": [
       "alt.Chart(...)"
      ]
     },
     "execution_count": 33,
     "metadata": {},
     "output_type": "execute_result"
    }
   ],
   "source": [
    "G1= alt.Chart(data).mark_line().encode(x='sample date:O',y='value:Q',color='measure:N',shape='location:N',tooltip=['value','measure','location','sample date']).transform_filter(alt.FieldOneOfPredicate(field='measure',oneOf=['Copper','Total dissolved salts']))\n",
    "G1= G1.transform_filter(alt.FieldOneOfPredicate(field='location',oneOf=['Kohsoom','Boonsri'])).properties(title='Copper at Kohsoom and Total dissolved salts at Boonsri')\n",
    "\n",
    "\n",
    "\n",
    "G1_con= G1.properties(width=300,height=200) \n",
    "\n",
    "G1.add_selection(scales)"
   ]
  },
  {
   "cell_type": "code",
   "execution_count": 35,
   "id": "b15bb373-8782-4df9-a31f-ac31e8d51982",
   "metadata": {},
   "outputs": [
    {
     "data": {
      "text/html": [
       "\n",
       "<div id=\"altair-viz-a0fbb5f8d7304be19bf63c2f64967d86\"></div>\n",
       "<script type=\"text/javascript\">\n",
       "  var VEGA_DEBUG = (typeof VEGA_DEBUG == \"undefined\") ? {} : VEGA_DEBUG;\n",
       "  (function(spec, embedOpt){\n",
       "    let outputDiv = document.currentScript.previousElementSibling;\n",
       "    if (outputDiv.id !== \"altair-viz-a0fbb5f8d7304be19bf63c2f64967d86\") {\n",
       "      outputDiv = document.getElementById(\"altair-viz-a0fbb5f8d7304be19bf63c2f64967d86\");\n",
       "    }\n",
       "    const paths = {\n",
       "      \"vega\": \"https://cdn.jsdelivr.net/npm//vega@5?noext\",\n",
       "      \"vega-lib\": \"https://cdn.jsdelivr.net/npm//vega-lib?noext\",\n",
       "      \"vega-lite\": \"https://cdn.jsdelivr.net/npm//vega-lite@4.17.0?noext\",\n",
       "      \"vega-embed\": \"https://cdn.jsdelivr.net/npm//vega-embed@6?noext\",\n",
       "    };\n",
       "\n",
       "    function maybeLoadScript(lib, version) {\n",
       "      var key = `${lib.replace(\"-\", \"\")}_version`;\n",
       "      return (VEGA_DEBUG[key] == version) ?\n",
       "        Promise.resolve(paths[lib]) :\n",
       "        new Promise(function(resolve, reject) {\n",
       "          var s = document.createElement('script');\n",
       "          document.getElementsByTagName(\"head\")[0].appendChild(s);\n",
       "          s.async = true;\n",
       "          s.onload = () => {\n",
       "            VEGA_DEBUG[key] = version;\n",
       "            return resolve(paths[lib]);\n",
       "          };\n",
       "          s.onerror = () => reject(`Error loading script: ${paths[lib]}`);\n",
       "          s.src = paths[lib];\n",
       "        });\n",
       "    }\n",
       "\n",
       "    function showError(err) {\n",
       "      outputDiv.innerHTML = `<div class=\"error\" style=\"color:red;\">${err}</div>`;\n",
       "      throw err;\n",
       "    }\n",
       "\n",
       "    function displayChart(vegaEmbed) {\n",
       "      vegaEmbed(outputDiv, spec, embedOpt)\n",
       "        .catch(err => showError(`Javascript Error: ${err.message}<br>This usually means there's a typo in your chart specification. See the javascript console for the full traceback.`));\n",
       "    }\n",
       "\n",
       "    if(typeof define === \"function\" && define.amd) {\n",
       "      requirejs.config({paths});\n",
       "      require([\"vega-embed\"], displayChart, err => showError(`Error loading script: ${err.message}`));\n",
       "    } else {\n",
       "      maybeLoadScript(\"vega\", \"5\")\n",
       "        .then(() => maybeLoadScript(\"vega-lite\", \"4.17.0\"))\n",
       "        .then(() => maybeLoadScript(\"vega-embed\", \"6\"))\n",
       "        .catch(showError)\n",
       "        .then(() => displayChart(vegaEmbed));\n",
       "    }\n",
       "  })({\"config\": {\"view\": {\"continuousWidth\": 400, \"continuousHeight\": 300}}, \"data\": {\"url\": \"http://localhost:60911/21f7e60835ec7c3a2416c8b2681b4054.json\"}, \"mark\": \"line\", \"encoding\": {\"color\": {\"field\": \"measure\", \"type\": \"nominal\"}, \"shape\": {\"field\": \"location\", \"type\": \"nominal\"}, \"tooltip\": [{\"field\": \"value\", \"type\": \"quantitative\"}, {\"field\": \"location\", \"type\": \"nominal\"}, {\"field\": \"sample date\", \"type\": \"nominal\"}], \"x\": {\"field\": \"sample date\", \"type\": \"ordinal\"}, \"y\": {\"field\": \"value\", \"type\": \"quantitative\"}}, \"selection\": {\"selector003\": {\"type\": \"interval\", \"bind\": \"scales\"}}, \"title\": \"AGOC-3A\", \"transform\": [{\"filter\": \"(datum.measure === 'AGOC-3A')\"}, {\"filter\": {\"field\": \"location\", \"oneOf\": [\"Chai\", \"Boonsri\"]}}], \"$schema\": \"https://vega.github.io/schema/vega-lite/v4.17.0.json\"}, {\"mode\": \"vega-lite\"});\n",
       "</script>"
      ],
      "text/plain": [
       "alt.Chart(...)"
      ]
     },
     "execution_count": 35,
     "metadata": {},
     "output_type": "execute_result"
    }
   ],
   "source": [
    "G2= alt.Chart(data).mark_line().encode(x='sample date:O',y='value:Q',color='measure:N',shape='location:N',tooltip=['value','location','sample date']).transform_filter(datum.measure=='AGOC-3A')\n",
    "G2=G2.properties(title='AGOC-3A').transform_filter(alt.FieldOneOfPredicate(field='location',oneOf=['Chai','Boonsri']))\n",
    "\n",
    "\n",
    "G2_con= G2.properties(height=200,width=300)\n",
    "G2.add_selection(scales)"
   ]
  },
  {
   "cell_type": "code",
   "execution_count": 36,
   "id": "12ba2db7-1f1c-4f94-aa57-793b73b8bdb0",
   "metadata": {},
   "outputs": [
    {
     "data": {
      "text/html": [
       "\n",
       "<div id=\"altair-viz-032095bf9a6a4c20bf2fbdab4eba1709\"></div>\n",
       "<script type=\"text/javascript\">\n",
       "  var VEGA_DEBUG = (typeof VEGA_DEBUG == \"undefined\") ? {} : VEGA_DEBUG;\n",
       "  (function(spec, embedOpt){\n",
       "    let outputDiv = document.currentScript.previousElementSibling;\n",
       "    if (outputDiv.id !== \"altair-viz-032095bf9a6a4c20bf2fbdab4eba1709\") {\n",
       "      outputDiv = document.getElementById(\"altair-viz-032095bf9a6a4c20bf2fbdab4eba1709\");\n",
       "    }\n",
       "    const paths = {\n",
       "      \"vega\": \"https://cdn.jsdelivr.net/npm//vega@5?noext\",\n",
       "      \"vega-lib\": \"https://cdn.jsdelivr.net/npm//vega-lib?noext\",\n",
       "      \"vega-lite\": \"https://cdn.jsdelivr.net/npm//vega-lite@4.17.0?noext\",\n",
       "      \"vega-embed\": \"https://cdn.jsdelivr.net/npm//vega-embed@6?noext\",\n",
       "    };\n",
       "\n",
       "    function maybeLoadScript(lib, version) {\n",
       "      var key = `${lib.replace(\"-\", \"\")}_version`;\n",
       "      return (VEGA_DEBUG[key] == version) ?\n",
       "        Promise.resolve(paths[lib]) :\n",
       "        new Promise(function(resolve, reject) {\n",
       "          var s = document.createElement('script');\n",
       "          document.getElementsByTagName(\"head\")[0].appendChild(s);\n",
       "          s.async = true;\n",
       "          s.onload = () => {\n",
       "            VEGA_DEBUG[key] = version;\n",
       "            return resolve(paths[lib]);\n",
       "          };\n",
       "          s.onerror = () => reject(`Error loading script: ${paths[lib]}`);\n",
       "          s.src = paths[lib];\n",
       "        });\n",
       "    }\n",
       "\n",
       "    function showError(err) {\n",
       "      outputDiv.innerHTML = `<div class=\"error\" style=\"color:red;\">${err}</div>`;\n",
       "      throw err;\n",
       "    }\n",
       "\n",
       "    function displayChart(vegaEmbed) {\n",
       "      vegaEmbed(outputDiv, spec, embedOpt)\n",
       "        .catch(err => showError(`Javascript Error: ${err.message}<br>This usually means there's a typo in your chart specification. See the javascript console for the full traceback.`));\n",
       "    }\n",
       "\n",
       "    if(typeof define === \"function\" && define.amd) {\n",
       "      requirejs.config({paths});\n",
       "      require([\"vega-embed\"], displayChart, err => showError(`Error loading script: ${err.message}`));\n",
       "    } else {\n",
       "      maybeLoadScript(\"vega\", \"5\")\n",
       "        .then(() => maybeLoadScript(\"vega-lite\", \"4.17.0\"))\n",
       "        .then(() => maybeLoadScript(\"vega-embed\", \"6\"))\n",
       "        .catch(showError)\n",
       "        .then(() => displayChart(vegaEmbed));\n",
       "    }\n",
       "  })({\"config\": {\"view\": {\"continuousWidth\": 400, \"continuousHeight\": 300}}, \"hconcat\": [{\"mark\": \"line\", \"encoding\": {\"color\": {\"field\": \"measure\", \"type\": \"nominal\"}, \"shape\": {\"field\": \"location\", \"type\": \"nominal\"}, \"tooltip\": [{\"field\": \"value\", \"type\": \"quantitative\"}, {\"field\": \"measure\", \"type\": \"nominal\"}, {\"field\": \"location\", \"type\": \"nominal\"}, {\"field\": \"sample date\", \"type\": \"nominal\"}], \"x\": {\"field\": \"sample date\", \"type\": \"ordinal\"}, \"y\": {\"field\": \"value\", \"type\": \"quantitative\"}}, \"height\": 200, \"title\": \"Copper at Kohsoom and Total dissolved salts at Boonsri\", \"transform\": [{\"filter\": {\"field\": \"measure\", \"oneOf\": [\"Copper\", \"Total dissolved salts\"]}}, {\"filter\": {\"field\": \"location\", \"oneOf\": [\"Kohsoom\", \"Boonsri\"]}}], \"width\": 300}, {\"mark\": \"line\", \"encoding\": {\"color\": {\"field\": \"measure\", \"type\": \"nominal\"}, \"shape\": {\"field\": \"location\", \"type\": \"nominal\"}, \"tooltip\": [{\"field\": \"value\", \"type\": \"quantitative\"}, {\"field\": \"location\", \"type\": \"nominal\"}, {\"field\": \"sample date\", \"type\": \"nominal\"}], \"x\": {\"field\": \"sample date\", \"type\": \"ordinal\"}, \"y\": {\"field\": \"value\", \"type\": \"quantitative\"}}, \"height\": 200, \"title\": \"AGOC-3A\", \"transform\": [{\"filter\": \"(datum.measure === 'AGOC-3A')\"}, {\"filter\": {\"field\": \"location\", \"oneOf\": [\"Chai\", \"Boonsri\"]}}], \"width\": 300}, {\"mark\": \"line\", \"encoding\": {\"color\": {\"field\": \"location\", \"type\": \"nominal\"}, \"shape\": {\"field\": \"location\", \"type\": \"nominal\"}, \"tooltip\": [{\"field\": \"location\", \"type\": \"nominal\"}, {\"field\": \"value\", \"type\": \"quantitative\"}, {\"field\": \"sample date\", \"type\": \"nominal\"}], \"x\": {\"field\": \"sample date\", \"type\": \"ordinal\"}, \"y\": {\"field\": \"value\", \"type\": \"quantitative\"}}, \"height\": 200, \"title\": \"Macrozoobenthos\", \"transform\": [{\"filter\": \"(datum.measure === 'Macrozoobenthos')\"}, {\"filter\": \"(datum.location === 'Chai')\"}], \"width\": 300}], \"data\": {\"url\": \"http://localhost:60911/21f7e60835ec7c3a2416c8b2681b4054.json\"}, \"title\": \"MEASURES WITH UNREALISTIC VALUES:\", \"$schema\": \"https://vega.github.io/schema/vega-lite/v4.17.0.json\"}, {\"mode\": \"vega-lite\"});\n",
       "</script>"
      ],
      "text/plain": [
       "alt.HConcatChart(...)"
      ]
     },
     "execution_count": 36,
     "metadata": {},
     "output_type": "execute_result"
    }
   ],
   "source": [
    "alt.hconcat(G1_con,G2_con, macro_con).properties(title='MEASURES WITH UNREALISTIC VALUES:')"
   ]
  },
  {
   "cell_type": "markdown",
   "id": "7aee4d7d-4aba-46e9-affb-9d2f1605f7e3",
   "metadata": {},
   "source": [
    "## **4. To find Trends and anomalies:**"
   ]
  },
  {
   "cell_type": "markdown",
   "id": "b942786e-b536-4b71-b4d3-81610af1fccc",
   "metadata": {},
   "source": [
    "***We have to discard the measures with unrealistic values and take only measures, which the readings are taken on a regular basis to find the trends and anomalies***"
   ]
  },
  {
   "cell_type": "code",
   "execution_count": 79,
   "id": "2ab76384-9e12-46ad-826b-994d3fca708e",
   "metadata": {},
   "outputs": [],
   "source": [
    "unrealistic_measures= ['Total dissolved salts','Macrozoobenthos','Tetrachloromethane','AGOC-3A','Copper']\n",
    "new_measure_list= set(measure_list)-set(new_missing_data)-set(unrealistic_measures)\n",
    "new_measure_list = list(new_measure_list)\n",
    "\n"
   ]
  },
  {
   "cell_type": "markdown",
   "id": "caa8001b-f3d2-4783-882e-977869ab2f78",
   "metadata": {},
   "source": [
    "***We will now move forward with this \"new_measure_list\" to find trends and anomalies***\n"
   ]
  },
  {
   "cell_type": "code",
   "execution_count": 80,
   "id": "4111381a-d44a-4222-bf61-23a6a73e2f66",
   "metadata": {},
   "outputs": [
    {
     "data": {
      "text/html": [
       "\n",
       "<div id=\"altair-viz-c7f30ebfde764f228ac14ec54df9360d\"></div>\n",
       "<script type=\"text/javascript\">\n",
       "  var VEGA_DEBUG = (typeof VEGA_DEBUG == \"undefined\") ? {} : VEGA_DEBUG;\n",
       "  (function(spec, embedOpt){\n",
       "    let outputDiv = document.currentScript.previousElementSibling;\n",
       "    if (outputDiv.id !== \"altair-viz-c7f30ebfde764f228ac14ec54df9360d\") {\n",
       "      outputDiv = document.getElementById(\"altair-viz-c7f30ebfde764f228ac14ec54df9360d\");\n",
       "    }\n",
       "    const paths = {\n",
       "      \"vega\": \"https://cdn.jsdelivr.net/npm//vega@5?noext\",\n",
       "      \"vega-lib\": \"https://cdn.jsdelivr.net/npm//vega-lib?noext\",\n",
       "      \"vega-lite\": \"https://cdn.jsdelivr.net/npm//vega-lite@4.17.0?noext\",\n",
       "      \"vega-embed\": \"https://cdn.jsdelivr.net/npm//vega-embed@6?noext\",\n",
       "    };\n",
       "\n",
       "    function maybeLoadScript(lib, version) {\n",
       "      var key = `${lib.replace(\"-\", \"\")}_version`;\n",
       "      return (VEGA_DEBUG[key] == version) ?\n",
       "        Promise.resolve(paths[lib]) :\n",
       "        new Promise(function(resolve, reject) {\n",
       "          var s = document.createElement('script');\n",
       "          document.getElementsByTagName(\"head\")[0].appendChild(s);\n",
       "          s.async = true;\n",
       "          s.onload = () => {\n",
       "            VEGA_DEBUG[key] = version;\n",
       "            return resolve(paths[lib]);\n",
       "          };\n",
       "          s.onerror = () => reject(`Error loading script: ${paths[lib]}`);\n",
       "          s.src = paths[lib];\n",
       "        });\n",
       "    }\n",
       "\n",
       "    function showError(err) {\n",
       "      outputDiv.innerHTML = `<div class=\"error\" style=\"color:red;\">${err}</div>`;\n",
       "      throw err;\n",
       "    }\n",
       "\n",
       "    function displayChart(vegaEmbed) {\n",
       "      vegaEmbed(outputDiv, spec, embedOpt)\n",
       "        .catch(err => showError(`Javascript Error: ${err.message}<br>This usually means there's a typo in your chart specification. See the javascript console for the full traceback.`));\n",
       "    }\n",
       "\n",
       "    if(typeof define === \"function\" && define.amd) {\n",
       "      requirejs.config({paths});\n",
       "      require([\"vega-embed\"], displayChart, err => showError(`Error loading script: ${err.message}`));\n",
       "    } else {\n",
       "      maybeLoadScript(\"vega\", \"5\")\n",
       "        .then(() => maybeLoadScript(\"vega-lite\", \"4.17.0\"))\n",
       "        .then(() => maybeLoadScript(\"vega-embed\", \"6\"))\n",
       "        .catch(showError)\n",
       "        .then(() => displayChart(vegaEmbed));\n",
       "    }\n",
       "  })({\"config\": {\"view\": {\"continuousWidth\": 400, \"continuousHeight\": 300}}, \"hconcat\": [{\"mark\": \"line\", \"encoding\": {\"color\": {\"field\": \"location\", \"type\": \"nominal\"}, \"tooltip\": [{\"field\": \"value\", \"type\": \"quantitative\"}, {\"field\": \"location\", \"type\": \"nominal\"}, {\"field\": \"sample date\", \"type\": \"temporal\"}], \"x\": {\"field\": \"sample date\", \"title\": \"Year\", \"type\": \"temporal\"}, \"y\": {\"field\": \"value\", \"type\": \"quantitative\"}}, \"height\": 200, \"title\": \"p,p-DDE\", \"transform\": [{\"filter\": \"(datum.measure === 'p,p-DDE')\"}], \"width\": 300}, {\"mark\": \"line\", \"encoding\": {\"color\": {\"field\": \"location\", \"type\": \"nominal\"}, \"tooltip\": [{\"field\": \"value\", \"type\": \"quantitative\"}, {\"field\": \"location\", \"type\": \"nominal\"}, {\"field\": \"sample date\", \"type\": \"temporal\"}], \"x\": {\"field\": \"sample date\", \"title\": \"Year\", \"type\": \"temporal\"}, \"y\": {\"field\": \"value\", \"type\": \"quantitative\"}}, \"height\": 200, \"title\": \"Benzo(k)fluoranthene\", \"transform\": [{\"filter\": \"(datum.measure === 'Benzo(k)fluoranthene')\"}], \"width\": 300}, {\"mark\": \"line\", \"encoding\": {\"color\": {\"field\": \"location\", \"type\": \"nominal\"}, \"tooltip\": [{\"field\": \"value\", \"type\": \"quantitative\"}, {\"field\": \"location\", \"type\": \"nominal\"}, {\"field\": \"sample date\", \"type\": \"temporal\"}], \"x\": {\"field\": \"sample date\", \"title\": \"Year\", \"type\": \"temporal\"}, \"y\": {\"field\": \"value\", \"type\": \"quantitative\"}}, \"height\": 200, \"title\": \"Zinc\", \"transform\": [{\"filter\": \"(datum.measure === 'Zinc')\"}], \"width\": 300}, {\"mark\": \"line\", \"encoding\": {\"color\": {\"field\": \"location\", \"type\": \"nominal\"}, \"tooltip\": [{\"field\": \"value\", \"type\": \"quantitative\"}, {\"field\": \"location\", \"type\": \"nominal\"}, {\"field\": \"sample date\", \"type\": \"temporal\"}], \"x\": {\"field\": \"sample date\", \"title\": \"Year\", \"type\": \"temporal\"}, \"y\": {\"field\": \"value\", \"type\": \"quantitative\"}}, \"height\": 200, \"title\": \"alpha-Hexachlorocyclohexane\", \"transform\": [{\"filter\": \"(datum.measure === 'alpha-Hexachlorocyclohexane')\"}], \"width\": 300}, {\"mark\": \"line\", \"encoding\": {\"color\": {\"field\": \"location\", \"type\": \"nominal\"}, \"tooltip\": [{\"field\": \"value\", \"type\": \"quantitative\"}, {\"field\": \"location\", \"type\": \"nominal\"}, {\"field\": \"sample date\", \"type\": \"temporal\"}], \"x\": {\"field\": \"sample date\", \"title\": \"Year\", \"type\": \"temporal\"}, \"y\": {\"field\": \"value\", \"type\": \"quantitative\"}}, \"height\": 200, \"title\": \"Dissolved silicates\", \"transform\": [{\"filter\": \"(datum.measure === 'Dissolved silicates')\"}], \"width\": 300}, {\"mark\": \"line\", \"encoding\": {\"color\": {\"field\": \"location\", \"type\": \"nominal\"}, \"tooltip\": [{\"field\": \"value\", \"type\": \"quantitative\"}, {\"field\": \"location\", \"type\": \"nominal\"}, {\"field\": \"sample date\", \"type\": \"temporal\"}], \"x\": {\"field\": \"sample date\", \"title\": \"Year\", \"type\": \"temporal\"}, \"y\": {\"field\": \"value\", \"type\": \"quantitative\"}}, \"height\": 200, \"title\": \"p,p-DDD\", \"transform\": [{\"filter\": \"(datum.measure === 'p,p-DDD')\"}], \"width\": 300}, {\"mark\": \"line\", \"encoding\": {\"color\": {\"field\": \"location\", \"type\": \"nominal\"}, \"tooltip\": [{\"field\": \"value\", \"type\": \"quantitative\"}, {\"field\": \"location\", \"type\": \"nominal\"}, {\"field\": \"sample date\", \"type\": \"temporal\"}], \"x\": {\"field\": \"sample date\", \"title\": \"Year\", \"type\": \"temporal\"}, \"y\": {\"field\": \"value\", \"type\": \"quantitative\"}}, \"height\": 200, \"title\": \"Fecal streptococci \", \"transform\": [{\"filter\": \"(datum.measure === 'Fecal streptococci ')\"}], \"width\": 300}, {\"mark\": \"line\", \"encoding\": {\"color\": {\"field\": \"location\", \"type\": \"nominal\"}, \"tooltip\": [{\"field\": \"value\", \"type\": \"quantitative\"}, {\"field\": \"location\", \"type\": \"nominal\"}, {\"field\": \"sample date\", \"type\": \"temporal\"}], \"x\": {\"field\": \"sample date\", \"title\": \"Year\", \"type\": \"temporal\"}, \"y\": {\"field\": \"value\", \"type\": \"quantitative\"}}, \"height\": 200, \"title\": \"Sodium\", \"transform\": [{\"filter\": \"(datum.measure === 'Sodium')\"}], \"width\": 300}, {\"mark\": \"line\", \"encoding\": {\"color\": {\"field\": \"location\", \"type\": \"nominal\"}, \"tooltip\": [{\"field\": \"value\", \"type\": \"quantitative\"}, {\"field\": \"location\", \"type\": \"nominal\"}, {\"field\": \"sample date\", \"type\": \"temporal\"}], \"x\": {\"field\": \"sample date\", \"title\": \"Year\", \"type\": \"temporal\"}, \"y\": {\"field\": \"value\", \"type\": \"quantitative\"}}, \"height\": 200, \"title\": \"Sulfides\", \"transform\": [{\"filter\": \"(datum.measure === 'Sulfides')\"}], \"width\": 300}, {\"mark\": \"line\", \"encoding\": {\"color\": {\"field\": \"location\", \"type\": \"nominal\"}, \"tooltip\": [{\"field\": \"value\", \"type\": \"quantitative\"}, {\"field\": \"location\", \"type\": \"nominal\"}, {\"field\": \"sample date\", \"type\": \"temporal\"}], \"x\": {\"field\": \"sample date\", \"title\": \"Year\", \"type\": \"temporal\"}, \"y\": {\"field\": \"value\", \"type\": \"quantitative\"}}, \"height\": 200, \"title\": \"Sulphates\", \"transform\": [{\"filter\": \"(datum.measure === 'Sulphates')\"}], \"width\": 300}, {\"mark\": \"line\", \"encoding\": {\"color\": {\"field\": \"location\", \"type\": \"nominal\"}, \"tooltip\": [{\"field\": \"value\", \"type\": \"quantitative\"}, {\"field\": \"location\", \"type\": \"nominal\"}, {\"field\": \"sample date\", \"type\": \"temporal\"}], \"x\": {\"field\": \"sample date\", \"title\": \"Year\", \"type\": \"temporal\"}, \"y\": {\"field\": \"value\", \"type\": \"quantitative\"}}, \"height\": 200, \"title\": \"Nitrites\", \"transform\": [{\"filter\": \"(datum.measure === 'Nitrites')\"}], \"width\": 300}, {\"mark\": \"line\", \"encoding\": {\"color\": {\"field\": \"location\", \"type\": \"nominal\"}, \"tooltip\": [{\"field\": \"value\", \"type\": \"quantitative\"}, {\"field\": \"location\", \"type\": \"nominal\"}, {\"field\": \"sample date\", \"type\": \"temporal\"}], \"x\": {\"field\": \"sample date\", \"title\": \"Year\", \"type\": \"temporal\"}, \"y\": {\"field\": \"value\", \"type\": \"quantitative\"}}, \"height\": 200, \"title\": \"Total organic carbon\", \"transform\": [{\"filter\": \"(datum.measure === 'Total organic carbon')\"}], \"width\": 300}, {\"mark\": \"line\", \"encoding\": {\"color\": {\"field\": \"location\", \"type\": \"nominal\"}, \"tooltip\": [{\"field\": \"value\", \"type\": \"quantitative\"}, {\"field\": \"location\", \"type\": \"nominal\"}, {\"field\": \"sample date\", \"type\": \"temporal\"}], \"x\": {\"field\": \"sample date\", \"title\": \"Year\", \"type\": \"temporal\"}, \"y\": {\"field\": \"value\", \"type\": \"quantitative\"}}, \"height\": 200, \"title\": \"Total phosphorus\", \"transform\": [{\"filter\": \"(datum.measure === 'Total phosphorus')\"}], \"width\": 300}, {\"mark\": \"line\", \"encoding\": {\"color\": {\"field\": \"location\", \"type\": \"nominal\"}, \"tooltip\": [{\"field\": \"value\", \"type\": \"quantitative\"}, {\"field\": \"location\", \"type\": \"nominal\"}, {\"field\": \"sample date\", \"type\": \"temporal\"}], \"x\": {\"field\": \"sample date\", \"title\": \"Year\", \"type\": \"temporal\"}, \"y\": {\"field\": \"value\", \"type\": \"quantitative\"}}, \"height\": 200, \"title\": \"Total extractable matter\", \"transform\": [{\"filter\": \"(datum.measure === 'Total extractable matter')\"}], \"width\": 300}, {\"mark\": \"line\", \"encoding\": {\"color\": {\"field\": \"location\", \"type\": \"nominal\"}, \"tooltip\": [{\"field\": \"value\", \"type\": \"quantitative\"}, {\"field\": \"location\", \"type\": \"nominal\"}, {\"field\": \"sample date\", \"type\": \"temporal\"}], \"x\": {\"field\": \"sample date\", \"title\": \"Year\", \"type\": \"temporal\"}, \"y\": {\"field\": \"value\", \"type\": \"quantitative\"}}, \"height\": 200, \"title\": \"Metolachlor\", \"transform\": [{\"filter\": \"(datum.measure === 'Metolachlor')\"}], \"width\": 300}, {\"mark\": \"line\", \"encoding\": {\"color\": {\"field\": \"location\", \"type\": \"nominal\"}, \"tooltip\": [{\"field\": \"value\", \"type\": \"quantitative\"}, {\"field\": \"location\", \"type\": \"nominal\"}, {\"field\": \"sample date\", \"type\": \"temporal\"}], \"x\": {\"field\": \"sample date\", \"title\": \"Year\", \"type\": \"temporal\"}, \"y\": {\"field\": \"value\", \"type\": \"quantitative\"}}, \"height\": 200, \"title\": \"Organic nitrogen\", \"transform\": [{\"filter\": \"(datum.measure === 'Organic nitrogen')\"}], \"width\": 300}, {\"mark\": \"line\", \"encoding\": {\"color\": {\"field\": \"location\", \"type\": \"nominal\"}, \"tooltip\": [{\"field\": \"value\", \"type\": \"quantitative\"}, {\"field\": \"location\", \"type\": \"nominal\"}, {\"field\": \"sample date\", \"type\": \"temporal\"}], \"x\": {\"field\": \"sample date\", \"title\": \"Year\", \"type\": \"temporal\"}, \"y\": {\"field\": \"value\", \"type\": \"quantitative\"}}, \"height\": 200, \"title\": \"Total coliforms\", \"transform\": [{\"filter\": \"(datum.measure === 'Total coliforms')\"}], \"width\": 300}, {\"mark\": \"line\", \"encoding\": {\"color\": {\"field\": \"location\", \"type\": \"nominal\"}, \"tooltip\": [{\"field\": \"value\", \"type\": \"quantitative\"}, {\"field\": \"location\", \"type\": \"nominal\"}, {\"field\": \"sample date\", \"type\": \"temporal\"}], \"x\": {\"field\": \"sample date\", \"title\": \"Year\", \"type\": \"temporal\"}, \"y\": {\"field\": \"value\", \"type\": \"quantitative\"}}, \"height\": 200, \"title\": \"Calcium\", \"transform\": [{\"filter\": \"(datum.measure === 'Calcium')\"}], \"width\": 300}, {\"mark\": \"line\", \"encoding\": {\"color\": {\"field\": \"location\", \"type\": \"nominal\"}, \"tooltip\": [{\"field\": \"value\", \"type\": \"quantitative\"}, {\"field\": \"location\", \"type\": \"nominal\"}, {\"field\": \"sample date\", \"type\": \"temporal\"}], \"x\": {\"field\": \"sample date\", \"title\": \"Year\", \"type\": \"temporal\"}, \"y\": {\"field\": \"value\", \"type\": \"quantitative\"}}, \"height\": 200, \"title\": \"Magnesium\", \"transform\": [{\"filter\": \"(datum.measure === 'Magnesium')\"}], \"width\": 300}, {\"mark\": \"line\", \"encoding\": {\"color\": {\"field\": \"location\", \"type\": \"nominal\"}, \"tooltip\": [{\"field\": \"value\", \"type\": \"quantitative\"}, {\"field\": \"location\", \"type\": \"nominal\"}, {\"field\": \"sample date\", \"type\": \"temporal\"}], \"x\": {\"field\": \"sample date\", \"title\": \"Year\", \"type\": \"temporal\"}, \"y\": {\"field\": \"value\", \"type\": \"quantitative\"}}, \"height\": 200, \"title\": \"Carbonates\", \"transform\": [{\"filter\": \"(datum.measure === 'Carbonates')\"}], \"width\": 300}, {\"mark\": \"line\", \"encoding\": {\"color\": {\"field\": \"location\", \"type\": \"nominal\"}, \"tooltip\": [{\"field\": \"value\", \"type\": \"quantitative\"}, {\"field\": \"location\", \"type\": \"nominal\"}, {\"field\": \"sample date\", \"type\": \"temporal\"}], \"x\": {\"field\": \"sample date\", \"title\": \"Year\", \"type\": \"temporal\"}, \"y\": {\"field\": \"value\", \"type\": \"quantitative\"}}, \"height\": 200, \"title\": \"Nitrates\", \"transform\": [{\"filter\": \"(datum.measure === 'Nitrates')\"}], \"width\": 300}, {\"mark\": \"line\", \"encoding\": {\"color\": {\"field\": \"location\", \"type\": \"nominal\"}, \"tooltip\": [{\"field\": \"value\", \"type\": \"quantitative\"}, {\"field\": \"location\", \"type\": \"nominal\"}, {\"field\": \"sample date\", \"type\": \"temporal\"}], \"x\": {\"field\": \"sample date\", \"title\": \"Year\", \"type\": \"temporal\"}, \"y\": {\"field\": \"value\", \"type\": \"quantitative\"}}, \"height\": 200, \"title\": \"PCB 180\", \"transform\": [{\"filter\": \"(datum.measure === 'PCB 180')\"}], \"width\": 300}, {\"mark\": \"line\", \"encoding\": {\"color\": {\"field\": \"location\", \"type\": \"nominal\"}, \"tooltip\": [{\"field\": \"value\", \"type\": \"quantitative\"}, {\"field\": \"location\", \"type\": \"nominal\"}, {\"field\": \"sample date\", \"type\": \"temporal\"}], \"x\": {\"field\": \"sample date\", \"title\": \"Year\", \"type\": \"temporal\"}, \"y\": {\"field\": \"value\", \"type\": \"quantitative\"}}, \"height\": 200, \"title\": \"Total nitrogen\", \"transform\": [{\"filter\": \"(datum.measure === 'Total nitrogen')\"}], \"width\": 300}, {\"mark\": \"line\", \"encoding\": {\"color\": {\"field\": \"location\", \"type\": \"nominal\"}, \"tooltip\": [{\"field\": \"value\", \"type\": \"quantitative\"}, {\"field\": \"location\", \"type\": \"nominal\"}, {\"field\": \"sample date\", \"type\": \"temporal\"}], \"x\": {\"field\": \"sample date\", \"title\": \"Year\", \"type\": \"temporal\"}, \"y\": {\"field\": \"value\", \"type\": \"quantitative\"}}, \"height\": 200, \"title\": \"Aldrin\", \"transform\": [{\"filter\": \"(datum.measure === 'Aldrin')\"}], \"width\": 300}, {\"mark\": \"line\", \"encoding\": {\"color\": {\"field\": \"location\", \"type\": \"nominal\"}, \"tooltip\": [{\"field\": \"value\", \"type\": \"quantitative\"}, {\"field\": \"location\", \"type\": \"nominal\"}, {\"field\": \"sample date\", \"type\": \"temporal\"}], \"x\": {\"field\": \"sample date\", \"title\": \"Year\", \"type\": \"temporal\"}, \"y\": {\"field\": \"value\", \"type\": \"quantitative\"}}, \"height\": 200, \"title\": \"Dissolved oxygen\", \"transform\": [{\"filter\": \"(datum.measure === 'Dissolved oxygen')\"}], \"width\": 300}, {\"mark\": \"line\", \"encoding\": {\"color\": {\"field\": \"location\", \"type\": \"nominal\"}, \"tooltip\": [{\"field\": \"value\", \"type\": \"quantitative\"}, {\"field\": \"location\", \"type\": \"nominal\"}, {\"field\": \"sample date\", \"type\": \"temporal\"}], \"x\": {\"field\": \"sample date\", \"title\": \"Year\", \"type\": \"temporal\"}, \"y\": {\"field\": \"value\", \"type\": \"quantitative\"}}, \"height\": 200, \"title\": \"Orthophosphate-phosphorus\", \"transform\": [{\"filter\": \"(datum.measure === 'Orthophosphate-phosphorus')\"}], \"width\": 300}, {\"mark\": \"line\", \"encoding\": {\"color\": {\"field\": \"location\", \"type\": \"nominal\"}, \"tooltip\": [{\"field\": \"value\", \"type\": \"quantitative\"}, {\"field\": \"location\", \"type\": \"nominal\"}, {\"field\": \"sample date\", \"type\": \"temporal\"}], \"x\": {\"field\": \"sample date\", \"title\": \"Year\", \"type\": \"temporal\"}, \"y\": {\"field\": \"value\", \"type\": \"quantitative\"}}, \"height\": 200, \"title\": \"Potassium\", \"transform\": [{\"filter\": \"(datum.measure === 'Potassium')\"}], \"width\": 300}, {\"mark\": \"line\", \"encoding\": {\"color\": {\"field\": \"location\", \"type\": \"nominal\"}, \"tooltip\": [{\"field\": \"value\", \"type\": \"quantitative\"}, {\"field\": \"location\", \"type\": \"nominal\"}, {\"field\": \"sample date\", \"type\": \"temporal\"}], \"x\": {\"field\": \"sample date\", \"title\": \"Year\", \"type\": \"temporal\"}, \"y\": {\"field\": \"value\", \"type\": \"quantitative\"}}, \"height\": 200, \"title\": \"Benzo(a)pyrene\", \"transform\": [{\"filter\": \"(datum.measure === 'Benzo(a)pyrene')\"}], \"width\": 300}, {\"mark\": \"line\", \"encoding\": {\"color\": {\"field\": \"location\", \"type\": \"nominal\"}, \"tooltip\": [{\"field\": \"value\", \"type\": \"quantitative\"}, {\"field\": \"location\", \"type\": \"nominal\"}, {\"field\": \"sample date\", \"type\": \"temporal\"}], \"x\": {\"field\": \"sample date\", \"title\": \"Year\", \"type\": \"temporal\"}, \"y\": {\"field\": \"value\", \"type\": \"quantitative\"}}, \"height\": 200, \"title\": \"Fluoranthene\", \"transform\": [{\"filter\": \"(datum.measure === 'Fluoranthene')\"}], \"width\": 300}, {\"mark\": \"line\", \"encoding\": {\"color\": {\"field\": \"location\", \"type\": \"nominal\"}, \"tooltip\": [{\"field\": \"value\", \"type\": \"quantitative\"}, {\"field\": \"location\", \"type\": \"nominal\"}, {\"field\": \"sample date\", \"type\": \"temporal\"}], \"x\": {\"field\": \"sample date\", \"title\": \"Year\", \"type\": \"temporal\"}, \"y\": {\"field\": \"value\", \"type\": \"quantitative\"}}, \"height\": 200, \"title\": \"Total hardness\", \"transform\": [{\"filter\": \"(datum.measure === 'Total hardness')\"}], \"width\": 300}, {\"mark\": \"line\", \"encoding\": {\"color\": {\"field\": \"location\", \"type\": \"nominal\"}, \"tooltip\": [{\"field\": \"value\", \"type\": \"quantitative\"}, {\"field\": \"location\", \"type\": \"nominal\"}, {\"field\": \"sample date\", \"type\": \"temporal\"}], \"x\": {\"field\": \"sample date\", \"title\": \"Year\", \"type\": \"temporal\"}, \"y\": {\"field\": \"value\", \"type\": \"quantitative\"}}, \"height\": 200, \"title\": \"Biochemical Oxygen\", \"transform\": [{\"filter\": \"(datum.measure === 'Biochemical Oxygen')\"}], \"width\": 300}, {\"mark\": \"line\", \"encoding\": {\"color\": {\"field\": \"location\", \"type\": \"nominal\"}, \"tooltip\": [{\"field\": \"value\", \"type\": \"quantitative\"}, {\"field\": \"location\", \"type\": \"nominal\"}, {\"field\": \"sample date\", \"type\": \"temporal\"}], \"x\": {\"field\": \"sample date\", \"title\": \"Year\", \"type\": \"temporal\"}, \"y\": {\"field\": \"value\", \"type\": \"quantitative\"}}, \"height\": 200, \"title\": \"Arsenic\", \"transform\": [{\"filter\": \"(datum.measure === 'Arsenic')\"}], \"width\": 300}, {\"mark\": \"line\", \"encoding\": {\"color\": {\"field\": \"location\", \"type\": \"nominal\"}, \"tooltip\": [{\"field\": \"value\", \"type\": \"quantitative\"}, {\"field\": \"location\", \"type\": \"nominal\"}, {\"field\": \"sample date\", \"type\": \"temporal\"}], \"x\": {\"field\": \"sample date\", \"title\": \"Year\", \"type\": \"temporal\"}, \"y\": {\"field\": \"value\", \"type\": \"quantitative\"}}, \"height\": 200, \"title\": \"Heptachloroepoxide\", \"transform\": [{\"filter\": \"(datum.measure === 'Heptachloroepoxide')\"}], \"width\": 300}, {\"mark\": \"line\", \"encoding\": {\"color\": {\"field\": \"location\", \"type\": \"nominal\"}, \"tooltip\": [{\"field\": \"value\", \"type\": \"quantitative\"}, {\"field\": \"location\", \"type\": \"nominal\"}, {\"field\": \"sample date\", \"type\": \"temporal\"}], \"x\": {\"field\": \"sample date\", \"title\": \"Year\", \"type\": \"temporal\"}, \"y\": {\"field\": \"value\", \"type\": \"quantitative\"}}, \"height\": 200, \"title\": \"Atrazine\", \"transform\": [{\"filter\": \"(datum.measure === 'Atrazine')\"}], \"width\": 300}, {\"mark\": \"line\", \"encoding\": {\"color\": {\"field\": \"location\", \"type\": \"nominal\"}, \"tooltip\": [{\"field\": \"value\", \"type\": \"quantitative\"}, {\"field\": \"location\", \"type\": \"nominal\"}, {\"field\": \"sample date\", \"type\": \"temporal\"}], \"x\": {\"field\": \"sample date\", \"title\": \"Year\", \"type\": \"temporal\"}, \"y\": {\"field\": \"value\", \"type\": \"quantitative\"}}, \"height\": 200, \"title\": \"Dieldrin\", \"transform\": [{\"filter\": \"(datum.measure === 'Dieldrin')\"}], \"width\": 300}, {\"mark\": \"line\", \"encoding\": {\"color\": {\"field\": \"location\", \"type\": \"nominal\"}, \"tooltip\": [{\"field\": \"value\", \"type\": \"quantitative\"}, {\"field\": \"location\", \"type\": \"nominal\"}, {\"field\": \"sample date\", \"type\": \"temporal\"}], \"x\": {\"field\": \"sample date\", \"title\": \"Year\", \"type\": \"temporal\"}, \"y\": {\"field\": \"value\", \"type\": \"quantitative\"}}, \"height\": 200, \"title\": \"Endosulfan (alpha)\", \"transform\": [{\"filter\": \"(datum.measure === 'Endosulfan (alpha)')\"}], \"width\": 300}, {\"mark\": \"line\", \"encoding\": {\"color\": {\"field\": \"location\", \"type\": \"nominal\"}, \"tooltip\": [{\"field\": \"value\", \"type\": \"quantitative\"}, {\"field\": \"location\", \"type\": \"nominal\"}, {\"field\": \"sample date\", \"type\": \"temporal\"}], \"x\": {\"field\": \"sample date\", \"title\": \"Year\", \"type\": \"temporal\"}, \"y\": {\"field\": \"value\", \"type\": \"quantitative\"}}, \"height\": 200, \"title\": \"Cyanides\", \"transform\": [{\"filter\": \"(datum.measure === 'Cyanides')\"}], \"width\": 300}, {\"mark\": \"line\", \"encoding\": {\"color\": {\"field\": \"location\", \"type\": \"nominal\"}, \"tooltip\": [{\"field\": \"value\", \"type\": \"quantitative\"}, {\"field\": \"location\", \"type\": \"nominal\"}, {\"field\": \"sample date\", \"type\": \"temporal\"}], \"x\": {\"field\": \"sample date\", \"title\": \"Year\", \"type\": \"temporal\"}, \"y\": {\"field\": \"value\", \"type\": \"quantitative\"}}, \"height\": 200, \"title\": \"Endrin\", \"transform\": [{\"filter\": \"(datum.measure === 'Endrin')\"}], \"width\": 300}, {\"mark\": \"line\", \"encoding\": {\"color\": {\"field\": \"location\", \"type\": \"nominal\"}, \"tooltip\": [{\"field\": \"value\", \"type\": \"quantitative\"}, {\"field\": \"location\", \"type\": \"nominal\"}, {\"field\": \"sample date\", \"type\": \"temporal\"}], \"x\": {\"field\": \"sample date\", \"title\": \"Year\", \"type\": \"temporal\"}, \"y\": {\"field\": \"value\", \"type\": \"quantitative\"}}, \"height\": 200, \"title\": \"Endosulfan (beta)\", \"transform\": [{\"filter\": \"(datum.measure === 'Endosulfan (beta)')\"}], \"width\": 300}, {\"mark\": \"line\", \"encoding\": {\"color\": {\"field\": \"location\", \"type\": \"nominal\"}, \"tooltip\": [{\"field\": \"value\", \"type\": \"quantitative\"}, {\"field\": \"location\", \"type\": \"nominal\"}, {\"field\": \"sample date\", \"type\": \"temporal\"}], \"x\": {\"field\": \"sample date\", \"title\": \"Year\", \"type\": \"temporal\"}, \"y\": {\"field\": \"value\", \"type\": \"quantitative\"}}, \"height\": 200, \"title\": \"Aluminium\", \"transform\": [{\"filter\": \"(datum.measure === 'Aluminium')\"}], \"width\": 300}, {\"mark\": \"line\", \"encoding\": {\"color\": {\"field\": \"location\", \"type\": \"nominal\"}, \"tooltip\": [{\"field\": \"value\", \"type\": \"quantitative\"}, {\"field\": \"location\", \"type\": \"nominal\"}, {\"field\": \"sample date\", \"type\": \"temporal\"}], \"x\": {\"field\": \"sample date\", \"title\": \"Year\", \"type\": \"temporal\"}, \"y\": {\"field\": \"value\", \"type\": \"quantitative\"}}, \"height\": 200, \"title\": \"Chemical Oxygen Demand (Mn)\", \"transform\": [{\"filter\": \"(datum.measure === 'Chemical Oxygen Demand (Mn)')\"}], \"width\": 300}, {\"mark\": \"line\", \"encoding\": {\"color\": {\"field\": \"location\", \"type\": \"nominal\"}, \"tooltip\": [{\"field\": \"value\", \"type\": \"quantitative\"}, {\"field\": \"location\", \"type\": \"nominal\"}, {\"field\": \"sample date\", \"type\": \"temporal\"}], \"x\": {\"field\": \"sample date\", \"title\": \"Year\", \"type\": \"temporal\"}, \"y\": {\"field\": \"value\", \"type\": \"quantitative\"}}, \"height\": 200, \"title\": \"Chlorodinine\", \"transform\": [{\"filter\": \"(datum.measure === 'Chlorodinine')\"}], \"width\": 300}, {\"mark\": \"line\", \"encoding\": {\"color\": {\"field\": \"location\", \"type\": \"nominal\"}, \"tooltip\": [{\"field\": \"value\", \"type\": \"quantitative\"}, {\"field\": \"location\", \"type\": \"nominal\"}, {\"field\": \"sample date\", \"type\": \"temporal\"}], \"x\": {\"field\": \"sample date\", \"title\": \"Year\", \"type\": \"temporal\"}, \"y\": {\"field\": \"value\", \"type\": \"quantitative\"}}, \"height\": 200, \"title\": \"Chlorides\", \"transform\": [{\"filter\": \"(datum.measure === 'Chlorides')\"}], \"width\": 300}, {\"mark\": \"line\", \"encoding\": {\"color\": {\"field\": \"location\", \"type\": \"nominal\"}, \"tooltip\": [{\"field\": \"value\", \"type\": \"quantitative\"}, {\"field\": \"location\", \"type\": \"nominal\"}, {\"field\": \"sample date\", \"type\": \"temporal\"}], \"x\": {\"field\": \"sample date\", \"title\": \"Year\", \"type\": \"temporal\"}, \"y\": {\"field\": \"value\", \"type\": \"quantitative\"}}, \"height\": 200, \"title\": \"PCB 138\", \"transform\": [{\"filter\": \"(datum.measure === 'PCB 138')\"}], \"width\": 300}, {\"mark\": \"line\", \"encoding\": {\"color\": {\"field\": \"location\", \"type\": \"nominal\"}, \"tooltip\": [{\"field\": \"value\", \"type\": \"quantitative\"}, {\"field\": \"location\", \"type\": \"nominal\"}, {\"field\": \"sample date\", \"type\": \"temporal\"}], \"x\": {\"field\": \"sample date\", \"title\": \"Year\", \"type\": \"temporal\"}, \"y\": {\"field\": \"value\", \"type\": \"quantitative\"}}, \"height\": 200, \"title\": \"Inorganic nitrogen\", \"transform\": [{\"filter\": \"(datum.measure === 'Inorganic nitrogen')\"}], \"width\": 300}, {\"mark\": \"line\", \"encoding\": {\"color\": {\"field\": \"location\", \"type\": \"nominal\"}, \"tooltip\": [{\"field\": \"value\", \"type\": \"quantitative\"}, {\"field\": \"location\", \"type\": \"nominal\"}, {\"field\": \"sample date\", \"type\": \"temporal\"}], \"x\": {\"field\": \"sample date\", \"title\": \"Year\", \"type\": \"temporal\"}, \"y\": {\"field\": \"value\", \"type\": \"quantitative\"}}, \"height\": 200, \"title\": \"Nickel\", \"transform\": [{\"filter\": \"(datum.measure === 'Nickel')\"}], \"width\": 300}, {\"mark\": \"line\", \"encoding\": {\"color\": {\"field\": \"location\", \"type\": \"nominal\"}, \"tooltip\": [{\"field\": \"value\", \"type\": \"quantitative\"}, {\"field\": \"location\", \"type\": \"nominal\"}, {\"field\": \"sample date\", \"type\": \"temporal\"}], \"x\": {\"field\": \"sample date\", \"title\": \"Year\", \"type\": \"temporal\"}, \"y\": {\"field\": \"value\", \"type\": \"quantitative\"}}, \"height\": 200, \"title\": \"Alachlor\", \"transform\": [{\"filter\": \"(datum.measure === 'Alachlor')\"}], \"width\": 300}, {\"mark\": \"line\", \"encoding\": {\"color\": {\"field\": \"location\", \"type\": \"nominal\"}, \"tooltip\": [{\"field\": \"value\", \"type\": \"quantitative\"}, {\"field\": \"location\", \"type\": \"nominal\"}, {\"field\": \"sample date\", \"type\": \"temporal\"}], \"x\": {\"field\": \"sample date\", \"title\": \"Year\", \"type\": \"temporal\"}, \"y\": {\"field\": \"value\", \"type\": \"quantitative\"}}, \"height\": 200, \"title\": \"Chemical Oxygen Demand (Cr)\", \"transform\": [{\"filter\": \"(datum.measure === 'Chemical Oxygen Demand (Cr)')\"}], \"width\": 300}, {\"mark\": \"line\", \"encoding\": {\"color\": {\"field\": \"location\", \"type\": \"nominal\"}, \"tooltip\": [{\"field\": \"value\", \"type\": \"quantitative\"}, {\"field\": \"location\", \"type\": \"nominal\"}, {\"field\": \"sample date\", \"type\": \"temporal\"}], \"x\": {\"field\": \"sample date\", \"title\": \"Year\", \"type\": \"temporal\"}, \"y\": {\"field\": \"value\", \"type\": \"quantitative\"}}, \"height\": 200, \"title\": \"Petroleum hydrocarbons\", \"transform\": [{\"filter\": \"(datum.measure === 'Petroleum hydrocarbons')\"}], \"width\": 300}, {\"mark\": \"line\", \"encoding\": {\"color\": {\"field\": \"location\", \"type\": \"nominal\"}, \"tooltip\": [{\"field\": \"value\", \"type\": \"quantitative\"}, {\"field\": \"location\", \"type\": \"nominal\"}, {\"field\": \"sample date\", \"type\": \"temporal\"}], \"x\": {\"field\": \"sample date\", \"title\": \"Year\", \"type\": \"temporal\"}, \"y\": {\"field\": \"value\", \"type\": \"quantitative\"}}, \"height\": 200, \"title\": \"gamma-Hexachlorocyclohexane\", \"transform\": [{\"filter\": \"(datum.measure === 'gamma-Hexachlorocyclohexane')\"}], \"width\": 300}, {\"mark\": \"line\", \"encoding\": {\"color\": {\"field\": \"location\", \"type\": \"nominal\"}, \"tooltip\": [{\"field\": \"value\", \"type\": \"quantitative\"}, {\"field\": \"location\", \"type\": \"nominal\"}, {\"field\": \"sample date\", \"type\": \"temporal\"}], \"x\": {\"field\": \"sample date\", \"title\": \"Year\", \"type\": \"temporal\"}, \"y\": {\"field\": \"value\", \"type\": \"quantitative\"}}, \"height\": 200, \"title\": \"Heptachlor\", \"transform\": [{\"filter\": \"(datum.measure === 'Heptachlor')\"}], \"width\": 300}, {\"mark\": \"line\", \"encoding\": {\"color\": {\"field\": \"location\", \"type\": \"nominal\"}, \"tooltip\": [{\"field\": \"value\", \"type\": \"quantitative\"}, {\"field\": \"location\", \"type\": \"nominal\"}, {\"field\": \"sample date\", \"type\": \"temporal\"}], \"x\": {\"field\": \"sample date\", \"title\": \"Year\", \"type\": \"temporal\"}, \"y\": {\"field\": \"value\", \"type\": \"quantitative\"}}, \"height\": 200, \"title\": \"PCB 101\", \"transform\": [{\"filter\": \"(datum.measure === 'PCB 101')\"}], \"width\": 300}, {\"mark\": \"line\", \"encoding\": {\"color\": {\"field\": \"location\", \"type\": \"nominal\"}, \"tooltip\": [{\"field\": \"value\", \"type\": \"quantitative\"}, {\"field\": \"location\", \"type\": \"nominal\"}, {\"field\": \"sample date\", \"type\": \"temporal\"}], \"x\": {\"field\": \"sample date\", \"title\": \"Year\", \"type\": \"temporal\"}, \"y\": {\"field\": \"value\", \"type\": \"quantitative\"}}, \"height\": 200, \"title\": \"AOX\", \"transform\": [{\"filter\": \"(datum.measure === 'AOX')\"}], \"width\": 300}, {\"mark\": \"line\", \"encoding\": {\"color\": {\"field\": \"location\", \"type\": \"nominal\"}, \"tooltip\": [{\"field\": \"value\", \"type\": \"quantitative\"}, {\"field\": \"location\", \"type\": \"nominal\"}, {\"field\": \"sample date\", \"type\": \"temporal\"}], \"x\": {\"field\": \"sample date\", \"title\": \"Year\", \"type\": \"temporal\"}, \"y\": {\"field\": \"value\", \"type\": \"quantitative\"}}, \"height\": 200, \"title\": \"Ammonium\", \"transform\": [{\"filter\": \"(datum.measure === 'Ammonium')\"}], \"width\": 300}, {\"mark\": \"line\", \"encoding\": {\"color\": {\"field\": \"location\", \"type\": \"nominal\"}, \"tooltip\": [{\"field\": \"value\", \"type\": \"quantitative\"}, {\"field\": \"location\", \"type\": \"nominal\"}, {\"field\": \"sample date\", \"type\": \"temporal\"}], \"x\": {\"field\": \"sample date\", \"title\": \"Year\", \"type\": \"temporal\"}, \"y\": {\"field\": \"value\", \"type\": \"quantitative\"}}, \"height\": 200, \"title\": \"Mercury\", \"transform\": [{\"filter\": \"(datum.measure === 'Mercury')\"}], \"width\": 300}, {\"mark\": \"line\", \"encoding\": {\"color\": {\"field\": \"location\", \"type\": \"nominal\"}, \"tooltip\": [{\"field\": \"value\", \"type\": \"quantitative\"}, {\"field\": \"location\", \"type\": \"nominal\"}, {\"field\": \"sample date\", \"type\": \"temporal\"}], \"x\": {\"field\": \"sample date\", \"title\": \"Year\", \"type\": \"temporal\"}, \"y\": {\"field\": \"value\", \"type\": \"quantitative\"}}, \"height\": 200, \"title\": \"Fecal coliforms\", \"transform\": [{\"filter\": \"(datum.measure === 'Fecal coliforms')\"}], \"width\": 300}, {\"mark\": \"line\", \"encoding\": {\"color\": {\"field\": \"location\", \"type\": \"nominal\"}, \"tooltip\": [{\"field\": \"value\", \"type\": \"quantitative\"}, {\"field\": \"location\", \"type\": \"nominal\"}, {\"field\": \"sample date\", \"type\": \"temporal\"}], \"x\": {\"field\": \"sample date\", \"title\": \"Year\", \"type\": \"temporal\"}, \"y\": {\"field\": \"value\", \"type\": \"quantitative\"}}, \"height\": 200, \"title\": \"Bicarbonates\", \"transform\": [{\"filter\": \"(datum.measure === 'Bicarbonates')\"}], \"width\": 300}, {\"mark\": \"line\", \"encoding\": {\"color\": {\"field\": \"location\", \"type\": \"nominal\"}, \"tooltip\": [{\"field\": \"value\", \"type\": \"quantitative\"}, {\"field\": \"location\", \"type\": \"nominal\"}, {\"field\": \"sample date\", \"type\": \"temporal\"}], \"x\": {\"field\": \"sample date\", \"title\": \"Year\", \"type\": \"temporal\"}, \"y\": {\"field\": \"value\", \"type\": \"quantitative\"}}, \"height\": 200, \"title\": \"Manganese\", \"transform\": [{\"filter\": \"(datum.measure === 'Manganese')\"}], \"width\": 300}, {\"mark\": \"line\", \"encoding\": {\"color\": {\"field\": \"location\", \"type\": \"nominal\"}, \"tooltip\": [{\"field\": \"value\", \"type\": \"quantitative\"}, {\"field\": \"location\", \"type\": \"nominal\"}, {\"field\": \"sample date\", \"type\": \"temporal\"}], \"x\": {\"field\": \"sample date\", \"title\": \"Year\", \"type\": \"temporal\"}, \"y\": {\"field\": \"value\", \"type\": \"quantitative\"}}, \"height\": 200, \"title\": \"Methylosmoline\", \"transform\": [{\"filter\": \"(datum.measure === 'Methylosmoline')\"}], \"width\": 300}, {\"mark\": \"line\", \"encoding\": {\"color\": {\"field\": \"location\", \"type\": \"nominal\"}, \"tooltip\": [{\"field\": \"value\", \"type\": \"quantitative\"}, {\"field\": \"location\", \"type\": \"nominal\"}, {\"field\": \"sample date\", \"type\": \"temporal\"}], \"x\": {\"field\": \"sample date\", \"title\": \"Year\", \"type\": \"temporal\"}, \"y\": {\"field\": \"value\", \"type\": \"quantitative\"}}, \"height\": 200, \"title\": \"Oxygen saturation\", \"transform\": [{\"filter\": \"(datum.measure === 'Oxygen saturation')\"}], \"width\": 300}, {\"mark\": \"line\", \"encoding\": {\"color\": {\"field\": \"location\", \"type\": \"nominal\"}, \"tooltip\": [{\"field\": \"value\", \"type\": \"quantitative\"}, {\"field\": \"location\", \"type\": \"nominal\"}, {\"field\": \"sample date\", \"type\": \"temporal\"}], \"x\": {\"field\": \"sample date\", \"title\": \"Year\", \"type\": \"temporal\"}, \"y\": {\"field\": \"value\", \"type\": \"quantitative\"}}, \"height\": 200, \"title\": \"PCB 153\", \"transform\": [{\"filter\": \"(datum.measure === 'PCB 153')\"}], \"width\": 300}, {\"mark\": \"line\", \"encoding\": {\"color\": {\"field\": \"location\", \"type\": \"nominal\"}, \"tooltip\": [{\"field\": \"value\", \"type\": \"quantitative\"}, {\"field\": \"location\", \"type\": \"nominal\"}, {\"field\": \"sample date\", \"type\": \"temporal\"}], \"x\": {\"field\": \"sample date\", \"title\": \"Year\", \"type\": \"temporal\"}, \"y\": {\"field\": \"value\", \"type\": \"quantitative\"}}, \"height\": 200, \"title\": \"Cadmium\", \"transform\": [{\"filter\": \"(datum.measure === 'Cadmium')\"}], \"width\": 300}, {\"mark\": \"line\", \"encoding\": {\"color\": {\"field\": \"location\", \"type\": \"nominal\"}, \"tooltip\": [{\"field\": \"value\", \"type\": \"quantitative\"}, {\"field\": \"location\", \"type\": \"nominal\"}, {\"field\": \"sample date\", \"type\": \"temporal\"}], \"x\": {\"field\": \"sample date\", \"title\": \"Year\", \"type\": \"temporal\"}, \"y\": {\"field\": \"value\", \"type\": \"quantitative\"}}, \"height\": 200, \"title\": \"Benzo(g,h,i)perylene\", \"transform\": [{\"filter\": \"(datum.measure === 'Benzo(g,h,i)perylene')\"}], \"width\": 300}, {\"mark\": \"line\", \"encoding\": {\"color\": {\"field\": \"location\", \"type\": \"nominal\"}, \"tooltip\": [{\"field\": \"value\", \"type\": \"quantitative\"}, {\"field\": \"location\", \"type\": \"nominal\"}, {\"field\": \"sample date\", \"type\": \"temporal\"}], \"x\": {\"field\": \"sample date\", \"title\": \"Year\", \"type\": \"temporal\"}, \"y\": {\"field\": \"value\", \"type\": \"quantitative\"}}, \"height\": 200, \"title\": \"Iron\", \"transform\": [{\"filter\": \"(datum.measure === 'Iron')\"}], \"width\": 300}, {\"mark\": \"line\", \"encoding\": {\"color\": {\"field\": \"location\", \"type\": \"nominal\"}, \"tooltip\": [{\"field\": \"value\", \"type\": \"quantitative\"}, {\"field\": \"location\", \"type\": \"nominal\"}, {\"field\": \"sample date\", \"type\": \"temporal\"}], \"x\": {\"field\": \"sample date\", \"title\": \"Year\", \"type\": \"temporal\"}, \"y\": {\"field\": \"value\", \"type\": \"quantitative\"}}, \"height\": 200, \"title\": \"Chromium\", \"transform\": [{\"filter\": \"(datum.measure === 'Chromium')\"}], \"width\": 300}, {\"mark\": \"line\", \"encoding\": {\"color\": {\"field\": \"location\", \"type\": \"nominal\"}, \"tooltip\": [{\"field\": \"value\", \"type\": \"quantitative\"}, {\"field\": \"location\", \"type\": \"nominal\"}, {\"field\": \"sample date\", \"type\": \"temporal\"}], \"x\": {\"field\": \"sample date\", \"title\": \"Year\", \"type\": \"temporal\"}, \"y\": {\"field\": \"value\", \"type\": \"quantitative\"}}, \"height\": 200, \"title\": \"Barium\", \"transform\": [{\"filter\": \"(datum.measure === 'Barium')\"}], \"width\": 300}, {\"mark\": \"line\", \"encoding\": {\"color\": {\"field\": \"location\", \"type\": \"nominal\"}, \"tooltip\": [{\"field\": \"value\", \"type\": \"quantitative\"}, {\"field\": \"location\", \"type\": \"nominal\"}, {\"field\": \"sample date\", \"type\": \"temporal\"}], \"x\": {\"field\": \"sample date\", \"title\": \"Year\", \"type\": \"temporal\"}, \"y\": {\"field\": \"value\", \"type\": \"quantitative\"}}, \"height\": 200, \"title\": \"p,p-DDT\", \"transform\": [{\"filter\": \"(datum.measure === 'p,p-DDT')\"}], \"width\": 300}, {\"mark\": \"line\", \"encoding\": {\"color\": {\"field\": \"location\", \"type\": \"nominal\"}, \"tooltip\": [{\"field\": \"value\", \"type\": \"quantitative\"}, {\"field\": \"location\", \"type\": \"nominal\"}, {\"field\": \"sample date\", \"type\": \"temporal\"}], \"x\": {\"field\": \"sample date\", \"title\": \"Year\", \"type\": \"temporal\"}, \"y\": {\"field\": \"value\", \"type\": \"quantitative\"}}, \"height\": 200, \"title\": \"Water temperature\", \"transform\": [{\"filter\": \"(datum.measure === 'Water temperature')\"}], \"width\": 300}, {\"mark\": \"line\", \"encoding\": {\"color\": {\"field\": \"location\", \"type\": \"nominal\"}, \"tooltip\": [{\"field\": \"value\", \"type\": \"quantitative\"}, {\"field\": \"location\", \"type\": \"nominal\"}, {\"field\": \"sample date\", \"type\": \"temporal\"}], \"x\": {\"field\": \"sample date\", \"title\": \"Year\", \"type\": \"temporal\"}, \"y\": {\"field\": \"value\", \"type\": \"quantitative\"}}, \"height\": 200, \"title\": \"beta-Hexaxchlorocyclohexane\", \"transform\": [{\"filter\": \"(datum.measure === 'beta-Hexaxchlorocyclohexane')\"}], \"width\": 300}, {\"mark\": \"line\", \"encoding\": {\"color\": {\"field\": \"location\", \"type\": \"nominal\"}, \"tooltip\": [{\"field\": \"value\", \"type\": \"quantitative\"}, {\"field\": \"location\", \"type\": \"nominal\"}, {\"field\": \"sample date\", \"type\": \"temporal\"}], \"x\": {\"field\": \"sample date\", \"title\": \"Year\", \"type\": \"temporal\"}, \"y\": {\"field\": \"value\", \"type\": \"quantitative\"}}, \"height\": 200, \"title\": \"Anionic active surfactants\", \"transform\": [{\"filter\": \"(datum.measure === 'Anionic active surfactants')\"}], \"width\": 300}, {\"mark\": \"line\", \"encoding\": {\"color\": {\"field\": \"location\", \"type\": \"nominal\"}, \"tooltip\": [{\"field\": \"value\", \"type\": \"quantitative\"}, {\"field\": \"location\", \"type\": \"nominal\"}, {\"field\": \"sample date\", \"type\": \"temporal\"}], \"x\": {\"field\": \"sample date\", \"title\": \"Year\", \"type\": \"temporal\"}, \"y\": {\"field\": \"value\", \"type\": \"quantitative\"}}, \"height\": 200, \"title\": \"Simazine\", \"transform\": [{\"filter\": \"(datum.measure === 'Simazine')\"}], \"width\": 300}, {\"mark\": \"line\", \"encoding\": {\"color\": {\"field\": \"location\", \"type\": \"nominal\"}, \"tooltip\": [{\"field\": \"value\", \"type\": \"quantitative\"}, {\"field\": \"location\", \"type\": \"nominal\"}, {\"field\": \"sample date\", \"type\": \"temporal\"}], \"x\": {\"field\": \"sample date\", \"title\": \"Year\", \"type\": \"temporal\"}, \"y\": {\"field\": \"value\", \"type\": \"quantitative\"}}, \"height\": 200, \"title\": \"Silica (SiO2)\", \"transform\": [{\"filter\": \"(datum.measure === 'Silica (SiO2)')\"}], \"width\": 300}, {\"mark\": \"line\", \"encoding\": {\"color\": {\"field\": \"location\", \"type\": \"nominal\"}, \"tooltip\": [{\"field\": \"value\", \"type\": \"quantitative\"}, {\"field\": \"location\", \"type\": \"nominal\"}, {\"field\": \"sample date\", \"type\": \"temporal\"}], \"x\": {\"field\": \"sample date\", \"title\": \"Year\", \"type\": \"temporal\"}, \"y\": {\"field\": \"value\", \"type\": \"quantitative\"}}, \"height\": 200, \"title\": \"Lead\", \"transform\": [{\"filter\": \"(datum.measure === 'Lead')\"}], \"width\": 300}, {\"mark\": \"line\", \"encoding\": {\"color\": {\"field\": \"location\", \"type\": \"nominal\"}, \"tooltip\": [{\"field\": \"value\", \"type\": \"quantitative\"}, {\"field\": \"location\", \"type\": \"nominal\"}, {\"field\": \"sample date\", \"type\": \"temporal\"}], \"x\": {\"field\": \"sample date\", \"title\": \"Year\", \"type\": \"temporal\"}, \"y\": {\"field\": \"value\", \"type\": \"quantitative\"}}, \"height\": 200, \"title\": \"Benzo(b)fluoranthene\", \"transform\": [{\"filter\": \"(datum.measure === 'Benzo(b)fluoranthene')\"}], \"width\": 300}], \"data\": {\"url\": \"http://localhost:60911/21f7e60835ec7c3a2416c8b2681b4054.json\"}, \"$schema\": \"https://vega.github.io/schema/vega-lite/v4.17.0.json\"}, {\"mode\": \"vega-lite\"});\n",
       "</script>"
      ],
      "text/plain": [
       "alt.HConcatChart(...)"
      ]
     },
     "execution_count": 80,
     "metadata": {},
     "output_type": "execute_result"
    }
   ],
   "source": [
    "base= alt.Chart(data).mark_line().encode(alt.X('sample date:T', title='Year'),y='value:Q',color='location:N',tooltip=['value:Q','location:N','sample date:T']).properties(width=300,height=200)\n",
    "series1=alt.hconcat()\n",
    "for measure in new_measure_list:\n",
    "    series1|= base.transform_filter(datum.measure== measure).properties(title= measure)\n",
    "\n",
    "series1    "
   ]
  },
  {
   "cell_type": "code",
   "execution_count": 81,
   "id": "5535924b-5ddf-4532-8b5e-1324dbdfdfbf",
   "metadata": {},
   "outputs": [],
   "source": [
    "\n",
    "Trend1= ['Simazine','Aldrin','Alachlor','Dieldrin','Endrin']\n",
    "\n",
    "Trend3= ['PCB 180','PCB 101','PCB 153','PCB 138']\n",
    "\n",
    "Trend4= ['Calcium','Bicarbonates']\n"
   ]
  },
  {
   "cell_type": "code",
   "execution_count": 85,
   "id": "7a85cf66-c69b-41e6-baaf-0c4e4600cc5d",
   "metadata": {},
   "outputs": [],
   "source": [
    "base_trend= alt.Chart(data).mark_line().encode(alt.X('sample date:T',title='Year'),alt.Y('value:Q',title='Value of the chemical component'),color='location:N',tooltip=['location:N','value:Q','sample date:T']).properties(width=300,height=100)\n"
   ]
  },
  {
   "cell_type": "code",
   "execution_count": 86,
   "id": "9471510b-4a30-4482-84f7-063c948845c9",
   "metadata": {},
   "outputs": [
    {
     "data": {
      "text/html": [
       "\n",
       "<div id=\"altair-viz-c53cef5419b8458aadca85b310f2c7db\"></div>\n",
       "<script type=\"text/javascript\">\n",
       "  var VEGA_DEBUG = (typeof VEGA_DEBUG == \"undefined\") ? {} : VEGA_DEBUG;\n",
       "  (function(spec, embedOpt){\n",
       "    let outputDiv = document.currentScript.previousElementSibling;\n",
       "    if (outputDiv.id !== \"altair-viz-c53cef5419b8458aadca85b310f2c7db\") {\n",
       "      outputDiv = document.getElementById(\"altair-viz-c53cef5419b8458aadca85b310f2c7db\");\n",
       "    }\n",
       "    const paths = {\n",
       "      \"vega\": \"https://cdn.jsdelivr.net/npm//vega@5?noext\",\n",
       "      \"vega-lib\": \"https://cdn.jsdelivr.net/npm//vega-lib?noext\",\n",
       "      \"vega-lite\": \"https://cdn.jsdelivr.net/npm//vega-lite@4.17.0?noext\",\n",
       "      \"vega-embed\": \"https://cdn.jsdelivr.net/npm//vega-embed@6?noext\",\n",
       "    };\n",
       "\n",
       "    function maybeLoadScript(lib, version) {\n",
       "      var key = `${lib.replace(\"-\", \"\")}_version`;\n",
       "      return (VEGA_DEBUG[key] == version) ?\n",
       "        Promise.resolve(paths[lib]) :\n",
       "        new Promise(function(resolve, reject) {\n",
       "          var s = document.createElement('script');\n",
       "          document.getElementsByTagName(\"head\")[0].appendChild(s);\n",
       "          s.async = true;\n",
       "          s.onload = () => {\n",
       "            VEGA_DEBUG[key] = version;\n",
       "            return resolve(paths[lib]);\n",
       "          };\n",
       "          s.onerror = () => reject(`Error loading script: ${paths[lib]}`);\n",
       "          s.src = paths[lib];\n",
       "        });\n",
       "    }\n",
       "\n",
       "    function showError(err) {\n",
       "      outputDiv.innerHTML = `<div class=\"error\" style=\"color:red;\">${err}</div>`;\n",
       "      throw err;\n",
       "    }\n",
       "\n",
       "    function displayChart(vegaEmbed) {\n",
       "      vegaEmbed(outputDiv, spec, embedOpt)\n",
       "        .catch(err => showError(`Javascript Error: ${err.message}<br>This usually means there's a typo in your chart specification. See the javascript console for the full traceback.`));\n",
       "    }\n",
       "\n",
       "    if(typeof define === \"function\" && define.amd) {\n",
       "      requirejs.config({paths});\n",
       "      require([\"vega-embed\"], displayChart, err => showError(`Error loading script: ${err.message}`));\n",
       "    } else {\n",
       "      maybeLoadScript(\"vega\", \"5\")\n",
       "        .then(() => maybeLoadScript(\"vega-lite\", \"4.17.0\"))\n",
       "        .then(() => maybeLoadScript(\"vega-embed\", \"6\"))\n",
       "        .catch(showError)\n",
       "        .then(() => displayChart(vegaEmbed));\n",
       "    }\n",
       "  })({\"config\": {\"view\": {\"continuousWidth\": 400, \"continuousHeight\": 300}}, \"hconcat\": [{\"vconcat\": [{\"mark\": \"line\", \"encoding\": {\"color\": {\"field\": \"location\", \"type\": \"nominal\"}, \"tooltip\": [{\"field\": \"location\", \"type\": \"nominal\"}, {\"field\": \"value\", \"type\": \"quantitative\"}, {\"field\": \"sample date\", \"type\": \"temporal\"}], \"x\": {\"field\": \"sample date\", \"title\": \"Year\", \"type\": \"temporal\"}, \"y\": {\"field\": \"value\", \"title\": \"Value of the chemical component\", \"type\": \"quantitative\"}}, \"height\": 100, \"title\": \"Simazine\", \"transform\": [{\"filter\": \"(datum.measure === 'Simazine')\"}], \"width\": 200}, {\"mark\": \"line\", \"encoding\": {\"color\": {\"field\": \"location\", \"type\": \"nominal\"}, \"tooltip\": [{\"field\": \"location\", \"type\": \"nominal\"}, {\"field\": \"value\", \"type\": \"quantitative\"}, {\"field\": \"sample date\", \"type\": \"temporal\"}], \"x\": {\"field\": \"sample date\", \"title\": \"Year\", \"type\": \"temporal\"}, \"y\": {\"field\": \"value\", \"title\": \"Value of the chemical component\", \"type\": \"quantitative\"}}, \"height\": 100, \"title\": \"Aldrin\", \"transform\": [{\"filter\": \"(datum.measure === 'Aldrin')\"}], \"width\": 200}, {\"mark\": \"line\", \"encoding\": {\"color\": {\"field\": \"location\", \"type\": \"nominal\"}, \"tooltip\": [{\"field\": \"location\", \"type\": \"nominal\"}, {\"field\": \"value\", \"type\": \"quantitative\"}, {\"field\": \"sample date\", \"type\": \"temporal\"}], \"x\": {\"field\": \"sample date\", \"title\": \"Year\", \"type\": \"temporal\"}, \"y\": {\"field\": \"value\", \"title\": \"Value of the chemical component\", \"type\": \"quantitative\"}}, \"height\": 100, \"title\": \"Alachlor\", \"transform\": [{\"filter\": \"(datum.measure === 'Alachlor')\"}], \"width\": 200}]}, {\"vconcat\": [{\"mark\": \"line\", \"encoding\": {\"color\": {\"field\": \"location\", \"type\": \"nominal\"}, \"tooltip\": [{\"field\": \"location\", \"type\": \"nominal\"}, {\"field\": \"value\", \"type\": \"quantitative\"}, {\"field\": \"sample date\", \"type\": \"temporal\"}], \"x\": {\"field\": \"sample date\", \"title\": \"Year\", \"type\": \"temporal\"}, \"y\": {\"field\": \"value\", \"title\": \"Value of the chemical component\", \"type\": \"quantitative\"}}, \"height\": 100, \"title\": \"Dieldrin\", \"transform\": [{\"filter\": \"(datum.measure === 'Dieldrin')\"}], \"width\": 200}, {\"mark\": \"line\", \"encoding\": {\"color\": {\"field\": \"location\", \"type\": \"nominal\"}, \"tooltip\": [{\"field\": \"location\", \"type\": \"nominal\"}, {\"field\": \"value\", \"type\": \"quantitative\"}, {\"field\": \"sample date\", \"type\": \"temporal\"}], \"x\": {\"field\": \"sample date\", \"title\": \"Year\", \"type\": \"temporal\"}, \"y\": {\"field\": \"value\", \"title\": \"Value of the chemical component\", \"type\": \"quantitative\"}}, \"height\": 100, \"title\": \"Endrin\", \"transform\": [{\"filter\": \"(datum.measure === 'Endrin')\"}], \"width\": 200}]}], \"data\": {\"url\": \"http://localhost:60911/21f7e60835ec7c3a2416c8b2681b4054.json\"}, \"title\": \"TREND 1:\", \"$schema\": \"https://vega.github.io/schema/vega-lite/v4.17.0.json\"}, {\"mode\": \"vega-lite\"});\n",
       "</script>"
      ],
      "text/plain": [
       "alt.HConcatChart(...)"
      ]
     },
     "execution_count": 86,
     "metadata": {},
     "output_type": "execute_result"
    }
   ],
   "source": [
    "column1= Trend1[0:3]\n",
    "column2= Trend1[3:5]\n",
    "\n",
    "trend1_1= alt.vconcat()\n",
    "trend1_2= alt.vconcat()\n",
    "\n",
    "\n",
    "for measure1 in column1:\n",
    "    trend1_1&=base_trend.transform_filter(datum.measure==measure1).properties(width=200,height=100,title=measure1)\n",
    "   \n",
    "for measure2 in column2:\n",
    "    trend1_2&=base_trend.transform_filter(datum.measure==measure2).properties(width=200,height=100,title=measure2)\n",
    "   \n",
    "\n",
    "alt.hconcat(trend1_1, trend1_2).properties(title='TREND 1:')    "
   ]
  },
  {
   "cell_type": "code",
   "execution_count": 87,
   "id": "297f0bcf-6f69-474c-959e-b7b60a42fcfb",
   "metadata": {},
   "outputs": [],
   "source": [
    "data= pd.read_csv('C:/Users/LENOVO/Documents/datasets.csv')\n",
    "data[\"sample date\"] = pd.to_datetime(data[\"sample date\"]).dt.strftime(\"%Y-%m-%d\")\n",
    "\n",
    "\n",
    "base_trend= alt.Chart(data).mark_line().encode(alt.X('sample date:T',title='Year'),alt.Y('value:Q',title='Value of the chemical component'),color='location:N',tooltip=['location:N','value:Q','sample date:T']).properties(width=300,height=100)\n",
    "scales= alt.selection_interval(bind='scales')"
   ]
  },
  {
   "cell_type": "code",
   "execution_count": 88,
   "id": "3abcf5ee-44f5-4e4e-8979-0894a0cf61ad",
   "metadata": {},
   "outputs": [
    {
     "data": {
      "text/html": [
       "\n",
       "<div id=\"altair-viz-c4dc35b5200944b8b4facc0982d36eb7\"></div>\n",
       "<script type=\"text/javascript\">\n",
       "  var VEGA_DEBUG = (typeof VEGA_DEBUG == \"undefined\") ? {} : VEGA_DEBUG;\n",
       "  (function(spec, embedOpt){\n",
       "    let outputDiv = document.currentScript.previousElementSibling;\n",
       "    if (outputDiv.id !== \"altair-viz-c4dc35b5200944b8b4facc0982d36eb7\") {\n",
       "      outputDiv = document.getElementById(\"altair-viz-c4dc35b5200944b8b4facc0982d36eb7\");\n",
       "    }\n",
       "    const paths = {\n",
       "      \"vega\": \"https://cdn.jsdelivr.net/npm//vega@5?noext\",\n",
       "      \"vega-lib\": \"https://cdn.jsdelivr.net/npm//vega-lib?noext\",\n",
       "      \"vega-lite\": \"https://cdn.jsdelivr.net/npm//vega-lite@4.17.0?noext\",\n",
       "      \"vega-embed\": \"https://cdn.jsdelivr.net/npm//vega-embed@6?noext\",\n",
       "    };\n",
       "\n",
       "    function maybeLoadScript(lib, version) {\n",
       "      var key = `${lib.replace(\"-\", \"\")}_version`;\n",
       "      return (VEGA_DEBUG[key] == version) ?\n",
       "        Promise.resolve(paths[lib]) :\n",
       "        new Promise(function(resolve, reject) {\n",
       "          var s = document.createElement('script');\n",
       "          document.getElementsByTagName(\"head\")[0].appendChild(s);\n",
       "          s.async = true;\n",
       "          s.onload = () => {\n",
       "            VEGA_DEBUG[key] = version;\n",
       "            return resolve(paths[lib]);\n",
       "          };\n",
       "          s.onerror = () => reject(`Error loading script: ${paths[lib]}`);\n",
       "          s.src = paths[lib];\n",
       "        });\n",
       "    }\n",
       "\n",
       "    function showError(err) {\n",
       "      outputDiv.innerHTML = `<div class=\"error\" style=\"color:red;\">${err}</div>`;\n",
       "      throw err;\n",
       "    }\n",
       "\n",
       "    function displayChart(vegaEmbed) {\n",
       "      vegaEmbed(outputDiv, spec, embedOpt)\n",
       "        .catch(err => showError(`Javascript Error: ${err.message}<br>This usually means there's a typo in your chart specification. See the javascript console for the full traceback.`));\n",
       "    }\n",
       "\n",
       "    if(typeof define === \"function\" && define.amd) {\n",
       "      requirejs.config({paths});\n",
       "      require([\"vega-embed\"], displayChart, err => showError(`Error loading script: ${err.message}`));\n",
       "    } else {\n",
       "      maybeLoadScript(\"vega\", \"5\")\n",
       "        .then(() => maybeLoadScript(\"vega-lite\", \"4.17.0\"))\n",
       "        .then(() => maybeLoadScript(\"vega-embed\", \"6\"))\n",
       "        .catch(showError)\n",
       "        .then(() => displayChart(vegaEmbed));\n",
       "    }\n",
       "  })({\"config\": {\"view\": {\"continuousWidth\": 400, \"continuousHeight\": 300}}, \"vconcat\": [{\"mark\": \"line\", \"encoding\": {\"color\": {\"field\": \"location\", \"type\": \"nominal\"}, \"tooltip\": [{\"field\": \"location\", \"type\": \"nominal\"}, {\"field\": \"value\", \"type\": \"quantitative\"}, {\"field\": \"sample date\", \"type\": \"temporal\"}], \"x\": {\"field\": \"sample date\", \"title\": \"Year\", \"type\": \"temporal\"}, \"y\": {\"field\": \"value\", \"title\": \"Value of the chemical component\", \"type\": \"quantitative\"}}, \"height\": 100, \"title\": \"Calcium\", \"transform\": [{\"filter\": {\"field\": \"location\", \"oneOf\": [\"Achara\", \"Tansanee\"]}}, {\"filter\": \"(datum.measure === 'Calcium')\"}], \"width\": 400}, {\"mark\": \"line\", \"encoding\": {\"color\": {\"field\": \"location\", \"type\": \"nominal\"}, \"tooltip\": [{\"field\": \"location\", \"type\": \"nominal\"}, {\"field\": \"value\", \"type\": \"quantitative\"}, {\"field\": \"sample date\", \"type\": \"temporal\"}], \"x\": {\"field\": \"sample date\", \"title\": \"Year\", \"type\": \"temporal\"}, \"y\": {\"field\": \"value\", \"title\": \"Value of the chemical component\", \"type\": \"quantitative\"}}, \"height\": 100, \"title\": \"Bicarbonates\", \"transform\": [{\"filter\": {\"field\": \"location\", \"oneOf\": [\"Achara\", \"Tansanee\"]}}, {\"filter\": \"(datum.measure === 'Bicarbonates')\"}], \"width\": 400}], \"data\": {\"url\": \"http://localhost:60911/21f7e60835ec7c3a2416c8b2681b4054.json\"}, \"title\": \"TREND 2:\", \"$schema\": \"https://vega.github.io/schema/vega-lite/v4.17.0.json\"}, {\"mode\": \"vega-lite\"});\n",
       "</script>"
      ],
      "text/plain": [
       "alt.VConcatChart(...)"
      ]
     },
     "execution_count": 88,
     "metadata": {},
     "output_type": "execute_result"
    }
   ],
   "source": [
    "trend4= alt.vconcat()\n",
    "base_t= base_trend.transform_filter(alt.FieldOneOfPredicate(field='location', oneOf=['Achara','Tansanee']))\n",
    "\n",
    "for measure1 in Trend4:\n",
    "    trend4&=base_t.transform_filter(datum.measure==measure1).properties(width=400,height=100,title=measure1)\n",
    "   \n",
    "trend4.properties(title='TREND 2:')"
   ]
  },
  {
   "cell_type": "code",
   "execution_count": 89,
   "id": "3248565d-09d6-4271-8e31-a61aea37847a",
   "metadata": {},
   "outputs": [
    {
     "data": {
      "text/html": [
       "\n",
       "<div id=\"altair-viz-b7c9dc7400c346c9b2e4c8d9c42c995f\"></div>\n",
       "<script type=\"text/javascript\">\n",
       "  var VEGA_DEBUG = (typeof VEGA_DEBUG == \"undefined\") ? {} : VEGA_DEBUG;\n",
       "  (function(spec, embedOpt){\n",
       "    let outputDiv = document.currentScript.previousElementSibling;\n",
       "    if (outputDiv.id !== \"altair-viz-b7c9dc7400c346c9b2e4c8d9c42c995f\") {\n",
       "      outputDiv = document.getElementById(\"altair-viz-b7c9dc7400c346c9b2e4c8d9c42c995f\");\n",
       "    }\n",
       "    const paths = {\n",
       "      \"vega\": \"https://cdn.jsdelivr.net/npm//vega@5?noext\",\n",
       "      \"vega-lib\": \"https://cdn.jsdelivr.net/npm//vega-lib?noext\",\n",
       "      \"vega-lite\": \"https://cdn.jsdelivr.net/npm//vega-lite@4.17.0?noext\",\n",
       "      \"vega-embed\": \"https://cdn.jsdelivr.net/npm//vega-embed@6?noext\",\n",
       "    };\n",
       "\n",
       "    function maybeLoadScript(lib, version) {\n",
       "      var key = `${lib.replace(\"-\", \"\")}_version`;\n",
       "      return (VEGA_DEBUG[key] == version) ?\n",
       "        Promise.resolve(paths[lib]) :\n",
       "        new Promise(function(resolve, reject) {\n",
       "          var s = document.createElement('script');\n",
       "          document.getElementsByTagName(\"head\")[0].appendChild(s);\n",
       "          s.async = true;\n",
       "          s.onload = () => {\n",
       "            VEGA_DEBUG[key] = version;\n",
       "            return resolve(paths[lib]);\n",
       "          };\n",
       "          s.onerror = () => reject(`Error loading script: ${paths[lib]}`);\n",
       "          s.src = paths[lib];\n",
       "        });\n",
       "    }\n",
       "\n",
       "    function showError(err) {\n",
       "      outputDiv.innerHTML = `<div class=\"error\" style=\"color:red;\">${err}</div>`;\n",
       "      throw err;\n",
       "    }\n",
       "\n",
       "    function displayChart(vegaEmbed) {\n",
       "      vegaEmbed(outputDiv, spec, embedOpt)\n",
       "        .catch(err => showError(`Javascript Error: ${err.message}<br>This usually means there's a typo in your chart specification. See the javascript console for the full traceback.`));\n",
       "    }\n",
       "\n",
       "    if(typeof define === \"function\" && define.amd) {\n",
       "      requirejs.config({paths});\n",
       "      require([\"vega-embed\"], displayChart, err => showError(`Error loading script: ${err.message}`));\n",
       "    } else {\n",
       "      maybeLoadScript(\"vega\", \"5\")\n",
       "        .then(() => maybeLoadScript(\"vega-lite\", \"4.17.0\"))\n",
       "        .then(() => maybeLoadScript(\"vega-embed\", \"6\"))\n",
       "        .catch(showError)\n",
       "        .then(() => displayChart(vegaEmbed));\n",
       "    }\n",
       "  })({\"config\": {\"view\": {\"continuousWidth\": 400, \"continuousHeight\": 300}}, \"data\": {\"url\": \"http://localhost:60911/21f7e60835ec7c3a2416c8b2681b4054.json\"}, \"mark\": \"line\", \"encoding\": {\"color\": {\"field\": \"location\", \"type\": \"nominal\"}, \"tooltip\": [{\"field\": \"location\", \"type\": \"nominal\"}, {\"field\": \"value\", \"type\": \"quantitative\"}, {\"field\": \"sample date\", \"type\": \"temporal\"}], \"x\": {\"field\": \"sample date\", \"title\": \"Year\", \"type\": \"temporal\"}, \"y\": {\"field\": \"value\", \"title\": \"Value of the chemical component\", \"type\": \"quantitative\"}}, \"height\": 300, \"title\": \"Trend 3:\", \"transform\": [{\"filter\": \"(datum.measure === 'Sulfides')\"}], \"width\": 300, \"$schema\": \"https://vega.github.io/schema/vega-lite/v4.17.0.json\"}, {\"mode\": \"vega-lite\"});\n",
       "</script>"
      ],
      "text/plain": [
       "alt.Chart(...)"
      ]
     },
     "execution_count": 89,
     "metadata": {},
     "output_type": "execute_result"
    }
   ],
   "source": [
    "\n",
    "sulfides= base_trend.transform_filter(datum.measure=='Sulfides').properties(width=300,height=300,title='Sulfides')\n",
    "sulfides.properties(title='Trend 3:')"
   ]
  },
  {
   "cell_type": "markdown",
   "id": "89c72de9-540a-402b-a812-badfeb24571e",
   "metadata": {},
   "source": []
  },
  {
   "cell_type": "markdown",
   "id": "2c7005b7-94c3-4a3d-85b2-408744e7fb2a",
   "metadata": {},
   "source": [
    "## ***Anomalies***"
   ]
  },
  {
   "cell_type": "code",
   "execution_count": 22,
   "id": "62fb9f88-43f2-4ac2-9337-0b8ff18f56c7",
   "metadata": {},
   "outputs": [
    {
     "data": {
      "text/html": [
       "\n",
       "<div id=\"altair-viz-5d9a546a86f741cd921ab7251b831376\"></div>\n",
       "<script type=\"text/javascript\">\n",
       "  var VEGA_DEBUG = (typeof VEGA_DEBUG == \"undefined\") ? {} : VEGA_DEBUG;\n",
       "  (function(spec, embedOpt){\n",
       "    let outputDiv = document.currentScript.previousElementSibling;\n",
       "    if (outputDiv.id !== \"altair-viz-5d9a546a86f741cd921ab7251b831376\") {\n",
       "      outputDiv = document.getElementById(\"altair-viz-5d9a546a86f741cd921ab7251b831376\");\n",
       "    }\n",
       "    const paths = {\n",
       "      \"vega\": \"https://cdn.jsdelivr.net/npm//vega@5?noext\",\n",
       "      \"vega-lib\": \"https://cdn.jsdelivr.net/npm//vega-lib?noext\",\n",
       "      \"vega-lite\": \"https://cdn.jsdelivr.net/npm//vega-lite@4.17.0?noext\",\n",
       "      \"vega-embed\": \"https://cdn.jsdelivr.net/npm//vega-embed@6?noext\",\n",
       "    };\n",
       "\n",
       "    function maybeLoadScript(lib, version) {\n",
       "      var key = `${lib.replace(\"-\", \"\")}_version`;\n",
       "      return (VEGA_DEBUG[key] == version) ?\n",
       "        Promise.resolve(paths[lib]) :\n",
       "        new Promise(function(resolve, reject) {\n",
       "          var s = document.createElement('script');\n",
       "          document.getElementsByTagName(\"head\")[0].appendChild(s);\n",
       "          s.async = true;\n",
       "          s.onload = () => {\n",
       "            VEGA_DEBUG[key] = version;\n",
       "            return resolve(paths[lib]);\n",
       "          };\n",
       "          s.onerror = () => reject(`Error loading script: ${paths[lib]}`);\n",
       "          s.src = paths[lib];\n",
       "        });\n",
       "    }\n",
       "\n",
       "    function showError(err) {\n",
       "      outputDiv.innerHTML = `<div class=\"error\" style=\"color:red;\">${err}</div>`;\n",
       "      throw err;\n",
       "    }\n",
       "\n",
       "    function displayChart(vegaEmbed) {\n",
       "      vegaEmbed(outputDiv, spec, embedOpt)\n",
       "        .catch(err => showError(`Javascript Error: ${err.message}<br>This usually means there's a typo in your chart specification. See the javascript console for the full traceback.`));\n",
       "    }\n",
       "\n",
       "    if(typeof define === \"function\" && define.amd) {\n",
       "      requirejs.config({paths});\n",
       "      require([\"vega-embed\"], displayChart, err => showError(`Error loading script: ${err.message}`));\n",
       "    } else {\n",
       "      maybeLoadScript(\"vega\", \"5\")\n",
       "        .then(() => maybeLoadScript(\"vega-lite\", \"4.17.0\"))\n",
       "        .then(() => maybeLoadScript(\"vega-embed\", \"6\"))\n",
       "        .catch(showError)\n",
       "        .then(() => displayChart(vegaEmbed));\n",
       "    }\n",
       "  })({\"config\": {\"view\": {\"continuousWidth\": 400, \"continuousHeight\": 300}}, \"layer\": [{\"mark\": \"line\", \"encoding\": {\"color\": {\"field\": \"location\", \"type\": \"nominal\"}, \"tooltip\": [{\"field\": \"location\", \"type\": \"nominal\"}, {\"field\": \"value\", \"type\": \"quantitative\"}, {\"field\": \"sample date\", \"type\": \"temporal\"}], \"x\": {\"field\": \"sample date\", \"type\": \"temporal\"}, \"y\": {\"field\": \"value\", \"type\": \"quantitative\"}}, \"height\": 300, \"selection\": {\"selector003\": {\"type\": \"interval\", \"bind\": \"scales\"}}, \"title\": \"Iron deposition in 2003\", \"transform\": [{\"filter\": \"(datum.measure === 'Iron')\"}, {\"filter\": {\"field\": \"location\", \"oneOf\": [\"Busarakhan\", \"Sakda\", \"Kohsoom\"]}}], \"width\": 400}, {\"mark\": \"point\", \"encoding\": {\"color\": {\"field\": \"location\", \"type\": \"nominal\"}, \"tooltip\": [{\"field\": \"value\", \"type\": \"quantitative\"}, {\"field\": \"location\", \"type\": \"nominal\"}, {\"field\": \"sample date\", \"type\": \"temporal\"}], \"x\": {\"field\": \"sample date\", \"type\": \"temporal\"}, \"y\": {\"field\": \"value\", \"type\": \"quantitative\"}}, \"transform\": [{\"filter\": \"(datum.measure === 'Iron')\"}]}], \"data\": {\"url\": \"http://localhost:60911/21f7e60835ec7c3a2416c8b2681b4054.json\"}, \"$schema\": \"https://vega.github.io/schema/vega-lite/v4.17.0.json\"}, {\"mode\": \"vega-lite\"});\n",
       "</script>"
      ],
      "text/plain": [
       "alt.LayerChart(...)"
      ]
     },
     "execution_count": 22,
     "metadata": {},
     "output_type": "execute_result"
    }
   ],
   "source": [
    "scales= alt.selection_interval(bind='scales')\n",
    "\n",
    "iron= alt.Chart(data).mark_line().encode(x='sample date:T',y='value:Q',color='location:N',tooltip=['location:N','value:Q','sample date:T']).transform_filter(datum.measure=='Iron')\n",
    "\n",
    "iron_point = alt.Chart(data).mark_point().encode(x='sample date:T',y='value:Q',color='location:N',tooltip=['value:Q','location:N','sample date:T']).transform_filter(datum.measure=='Iron')\n",
    "\n",
    "iron_anomaly= iron.transform_filter(alt.FieldOneOfPredicate(field='location',oneOf=['Busarakhan','Sakda','Kohsoom'])).properties(width=400,height=300,title='Iron deposition in 2003')\n",
    "iron_layer= alt.layer(iron_anomaly,iron_point)\n",
    "\n",
    "iron_layer.add_selection(scales)"
   ]
  },
  {
   "cell_type": "code",
   "execution_count": 23,
   "id": "07662a1d-0a4a-40a2-90dc-a3ff70ae685f",
   "metadata": {},
   "outputs": [
    {
     "data": {
      "text/html": [
       "\n",
       "<div id=\"altair-viz-de48570d9c584b23828956ffead3cbbf\"></div>\n",
       "<script type=\"text/javascript\">\n",
       "  var VEGA_DEBUG = (typeof VEGA_DEBUG == \"undefined\") ? {} : VEGA_DEBUG;\n",
       "  (function(spec, embedOpt){\n",
       "    let outputDiv = document.currentScript.previousElementSibling;\n",
       "    if (outputDiv.id !== \"altair-viz-de48570d9c584b23828956ffead3cbbf\") {\n",
       "      outputDiv = document.getElementById(\"altair-viz-de48570d9c584b23828956ffead3cbbf\");\n",
       "    }\n",
       "    const paths = {\n",
       "      \"vega\": \"https://cdn.jsdelivr.net/npm//vega@5?noext\",\n",
       "      \"vega-lib\": \"https://cdn.jsdelivr.net/npm//vega-lib?noext\",\n",
       "      \"vega-lite\": \"https://cdn.jsdelivr.net/npm//vega-lite@4.17.0?noext\",\n",
       "      \"vega-embed\": \"https://cdn.jsdelivr.net/npm//vega-embed@6?noext\",\n",
       "    };\n",
       "\n",
       "    function maybeLoadScript(lib, version) {\n",
       "      var key = `${lib.replace(\"-\", \"\")}_version`;\n",
       "      return (VEGA_DEBUG[key] == version) ?\n",
       "        Promise.resolve(paths[lib]) :\n",
       "        new Promise(function(resolve, reject) {\n",
       "          var s = document.createElement('script');\n",
       "          document.getElementsByTagName(\"head\")[0].appendChild(s);\n",
       "          s.async = true;\n",
       "          s.onload = () => {\n",
       "            VEGA_DEBUG[key] = version;\n",
       "            return resolve(paths[lib]);\n",
       "          };\n",
       "          s.onerror = () => reject(`Error loading script: ${paths[lib]}`);\n",
       "          s.src = paths[lib];\n",
       "        });\n",
       "    }\n",
       "\n",
       "    function showError(err) {\n",
       "      outputDiv.innerHTML = `<div class=\"error\" style=\"color:red;\">${err}</div>`;\n",
       "      throw err;\n",
       "    }\n",
       "\n",
       "    function displayChart(vegaEmbed) {\n",
       "      vegaEmbed(outputDiv, spec, embedOpt)\n",
       "        .catch(err => showError(`Javascript Error: ${err.message}<br>This usually means there's a typo in your chart specification. See the javascript console for the full traceback.`));\n",
       "    }\n",
       "\n",
       "    if(typeof define === \"function\" && define.amd) {\n",
       "      requirejs.config({paths});\n",
       "      require([\"vega-embed\"], displayChart, err => showError(`Error loading script: ${err.message}`));\n",
       "    } else {\n",
       "      maybeLoadScript(\"vega\", \"5\")\n",
       "        .then(() => maybeLoadScript(\"vega-lite\", \"4.17.0\"))\n",
       "        .then(() => maybeLoadScript(\"vega-embed\", \"6\"))\n",
       "        .catch(showError)\n",
       "        .then(() => displayChart(vegaEmbed));\n",
       "    }\n",
       "  })({\"config\": {\"view\": {\"continuousWidth\": 400, \"continuousHeight\": 300}}, \"layer\": [{\"mark\": \"line\", \"encoding\": {\"color\": {\"field\": \"location\", \"type\": \"nominal\"}, \"tooltip\": [{\"field\": \"location\", \"type\": \"nominal\"}, {\"field\": \"value\", \"type\": \"quantitative\"}, {\"field\": \"sample date\", \"type\": \"temporal\"}], \"x\": {\"field\": \"sample date\", \"type\": \"temporal\"}, \"y\": {\"field\": \"value\", \"type\": \"quantitative\"}}, \"height\": 300, \"selection\": {\"selector003\": {\"type\": \"interval\", \"bind\": \"scales\"}}, \"title\": \"Cadmium at Boonsri\", \"transform\": [{\"filter\": \"(datum.measure === 'Cadmium')\"}], \"width\": 300}, {\"mark\": \"point\", \"encoding\": {\"color\": {\"field\": \"location\", \"type\": \"nominal\"}, \"tooltip\": [{\"field\": \"location\", \"type\": \"nominal\"}, {\"field\": \"value\", \"type\": \"quantitative\"}, {\"field\": \"sample date\", \"type\": \"temporal\"}], \"x\": {\"field\": \"sample date\", \"type\": \"temporal\"}, \"y\": {\"field\": \"value\", \"type\": \"quantitative\"}}, \"transform\": [{\"filter\": \"(datum.measure === 'Cadmium')\"}]}], \"data\": {\"url\": \"http://localhost:60911/21f7e60835ec7c3a2416c8b2681b4054.json\"}, \"$schema\": \"https://vega.github.io/schema/vega-lite/v4.17.0.json\"}, {\"mode\": \"vega-lite\"});\n",
       "</script>"
      ],
      "text/plain": [
       "alt.LayerChart(...)"
      ]
     },
     "execution_count": 23,
     "metadata": {},
     "output_type": "execute_result"
    }
   ],
   "source": [
    "cadmium= alt.Chart(data).mark_line().encode(x='sample date:T',y='value:Q',color='location:N',tooltip=['location:N','value:Q','sample date:T']).transform_filter(datum.measure=='Cadmium')\n",
    "\n",
    "cadmium_point= alt.Chart(data).mark_point().encode(x='sample date:T',y='value:Q',color='location:N',tooltip=['location:N','value:Q','sample date:T']).transform_filter(datum.measure=='Cadmium')\n",
    "\n",
    "cadmium_anomaly= cadmium.properties(width=300,height=300,title='Cadmium at Boonsri')\n",
    "cadmium_layer= alt.layer(cadmium_anomaly,cadmium_point)\n",
    "cadmium_layer.add_selection(scales)"
   ]
  },
  {
   "cell_type": "code",
   "execution_count": 26,
   "id": "e28d3396-c7b2-4c0a-8256-8f6caaf8e9e6",
   "metadata": {},
   "outputs": [],
   "source": [
    "chlorodinine= alt.Chart(data).mark_line().encode(x='sample date:T',y='value:Q',color='location:N',tooltip=['location','value','sample date:T']).transform_filter(datum.measure=='Chlorodinine')\n",
    "chlorodinine_anomaly= chlorodinine.properties(width=300,height=300,title='Chlorodinine at Kohsoom')\n",
    "\n",
    "chlorodinine_point=alt.Chart(data).mark_point().encode(x='sample date:T',y='value:Q',color='location:N',tooltip=['location','value','sample date:T']).transform_filter(datum.measure=='Chlorodinine')\n",
    "chlorodinine_layer= alt.layer(chlorodinine_anomaly,chlorodinine_point)\n",
    "\n",
    "chlorodinine_layer.add_selection(scales)\n",
    "\n",
    "alt.hconcat(iron_layer,cadmium_layer,chlorodinine_layer).properties(title='ANOMALIES')"
   ]
  },
  {
   "cell_type": "code",
   "execution_count": 240,
   "id": "67ee3ef7-0abf-4631-83c1-3d1aa1bbb64b",
   "metadata": {},
   "outputs": [
    {
     "data": {
      "text/html": [
       "\n",
       "<div id=\"altair-viz-6192a44d472e45e987e29ec7bf8b7169\"></div>\n",
       "<script type=\"text/javascript\">\n",
       "  var VEGA_DEBUG = (typeof VEGA_DEBUG == \"undefined\") ? {} : VEGA_DEBUG;\n",
       "  (function(spec, embedOpt){\n",
       "    let outputDiv = document.currentScript.previousElementSibling;\n",
       "    if (outputDiv.id !== \"altair-viz-6192a44d472e45e987e29ec7bf8b7169\") {\n",
       "      outputDiv = document.getElementById(\"altair-viz-6192a44d472e45e987e29ec7bf8b7169\");\n",
       "    }\n",
       "    const paths = {\n",
       "      \"vega\": \"https://cdn.jsdelivr.net/npm//vega@5?noext\",\n",
       "      \"vega-lib\": \"https://cdn.jsdelivr.net/npm//vega-lib?noext\",\n",
       "      \"vega-lite\": \"https://cdn.jsdelivr.net/npm//vega-lite@4.17.0?noext\",\n",
       "      \"vega-embed\": \"https://cdn.jsdelivr.net/npm//vega-embed@6?noext\",\n",
       "    };\n",
       "\n",
       "    function maybeLoadScript(lib, version) {\n",
       "      var key = `${lib.replace(\"-\", \"\")}_version`;\n",
       "      return (VEGA_DEBUG[key] == version) ?\n",
       "        Promise.resolve(paths[lib]) :\n",
       "        new Promise(function(resolve, reject) {\n",
       "          var s = document.createElement('script');\n",
       "          document.getElementsByTagName(\"head\")[0].appendChild(s);\n",
       "          s.async = true;\n",
       "          s.onload = () => {\n",
       "            VEGA_DEBUG[key] = version;\n",
       "            return resolve(paths[lib]);\n",
       "          };\n",
       "          s.onerror = () => reject(`Error loading script: ${paths[lib]}`);\n",
       "          s.src = paths[lib];\n",
       "        });\n",
       "    }\n",
       "\n",
       "    function showError(err) {\n",
       "      outputDiv.innerHTML = `<div class=\"error\" style=\"color:red;\">${err}</div>`;\n",
       "      throw err;\n",
       "    }\n",
       "\n",
       "    function displayChart(vegaEmbed) {\n",
       "      vegaEmbed(outputDiv, spec, embedOpt)\n",
       "        .catch(err => showError(`Javascript Error: ${err.message}<br>This usually means there's a typo in your chart specification. See the javascript console for the full traceback.`));\n",
       "    }\n",
       "\n",
       "    if(typeof define === \"function\" && define.amd) {\n",
       "      requirejs.config({paths});\n",
       "      require([\"vega-embed\"], displayChart, err => showError(`Error loading script: ${err.message}`));\n",
       "    } else {\n",
       "      maybeLoadScript(\"vega\", \"5\")\n",
       "        .then(() => maybeLoadScript(\"vega-lite\", \"4.17.0\"))\n",
       "        .then(() => maybeLoadScript(\"vega-embed\", \"6\"))\n",
       "        .catch(showError)\n",
       "        .then(() => displayChart(vegaEmbed));\n",
       "    }\n",
       "  })({\"config\": {\"view\": {\"continuousWidth\": 400, \"continuousHeight\": 300}}, \"data\": {\"url\": \"http://localhost:50280/fd01c45adacd3f187dcaed573f92d767.json\"}, \"mark\": {\"type\": \"line\", \"text\": \"value:Q\"}, \"encoding\": {\"color\": {\"field\": \"location\", \"type\": \"nominal\"}, \"shape\": {\"field\": \"location\", \"type\": \"nominal\"}, \"tooltip\": [{\"field\": \"location\", \"type\": \"nominal\"}, {\"field\": \"value\", \"type\": \"quantitative\"}, {\"field\": \"sample date\", \"type\": \"nominal\"}], \"x\": {\"field\": \"sample date\", \"type\": \"temporal\"}, \"y\": {\"field\": \"value\", \"type\": \"quantitative\"}}, \"height\": 300, \"selection\": {\"selector008\": {\"type\": \"interval\", \"bind\": \"scales\"}}, \"title\": \"Chlorodinine\", \"transform\": [{\"filter\": \"(datum.measure === 'Chlorodinine')\"}], \"width\": 300, \"$schema\": \"https://vega.github.io/schema/vega-lite/v4.17.0.json\"}, {\"mode\": \"vega-lite\"});\n",
       "</script>"
      ],
      "text/plain": [
       "alt.Chart(...)"
      ]
     },
     "execution_count": 240,
     "metadata": {},
     "output_type": "execute_result"
    }
   ],
   "source": []
  },
  {
   "cell_type": "code",
   "execution_count": null,
   "id": "7f80bd20-0dc9-4198-82ba-26004479aaa7",
   "metadata": {},
   "outputs": [],
   "source": []
  },
  {
   "cell_type": "code",
   "execution_count": null,
   "id": "3b6ff35d-6814-49d9-a69c-44720ffb13b9",
   "metadata": {},
   "outputs": [],
   "source": []
  },
  {
   "cell_type": "code",
   "execution_count": null,
   "id": "24ef36b6-149e-461d-8730-1700294178d7",
   "metadata": {},
   "outputs": [],
   "source": []
  },
  {
   "cell_type": "code",
   "execution_count": null,
   "id": "f0d84dae-442c-4615-9125-29810d34a269",
   "metadata": {},
   "outputs": [],
   "source": []
  },
  {
   "cell_type": "code",
   "execution_count": null,
   "id": "36508e7b-682f-4f3f-bf56-bbce4d2e5af4",
   "metadata": {},
   "outputs": [],
   "source": []
  },
  {
   "cell_type": "code",
   "execution_count": null,
   "id": "e0eab07d-6855-4a18-9f3e-5fbcf0d2fa55",
   "metadata": {},
   "outputs": [],
   "source": [
    "\n"
   ]
  },
  {
   "cell_type": "code",
   "execution_count": null,
   "id": "89ae18f8-c365-4ec3-b712-c879cd43ec5c",
   "metadata": {},
   "outputs": [],
   "source": []
  },
  {
   "cell_type": "code",
   "execution_count": null,
   "id": "3a75dd49-1a43-4a0d-bee5-ce5e7b157831",
   "metadata": {},
   "outputs": [],
   "source": []
  },
  {
   "cell_type": "code",
   "execution_count": null,
   "id": "d7f88abe-2dbf-4623-9d85-27bff4b5f8d8",
   "metadata": {},
   "outputs": [],
   "source": []
  },
  {
   "cell_type": "code",
   "execution_count": null,
   "id": "f6b2cd32-dbd6-4757-9790-2f061cfe211f",
   "metadata": {},
   "outputs": [],
   "source": []
  },
  {
   "cell_type": "code",
   "execution_count": null,
   "id": "4bca3763-c163-4e7b-a3a8-6c005b50b5c0",
   "metadata": {},
   "outputs": [],
   "source": []
  }
 ],
 "metadata": {
  "kernelspec": {
   "display_name": "Python 3 (ipykernel)",
   "language": "python",
   "name": "python3"
  },
  "language_info": {
   "codemirror_mode": {
    "name": "ipython",
    "version": 3
   },
   "file_extension": ".py",
   "mimetype": "text/x-python",
   "name": "python",
   "nbconvert_exporter": "python",
   "pygments_lexer": "ipython3",
   "version": "3.9.12"
  }
 },
 "nbformat": 4,
 "nbformat_minor": 5
}
